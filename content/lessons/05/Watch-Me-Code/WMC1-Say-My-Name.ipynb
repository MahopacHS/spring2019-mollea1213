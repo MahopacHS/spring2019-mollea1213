{
  "metadata": {
    "anaconda-cloud": {},
    "kernelspec": {
      "name": "python3",
      "display_name": "Python 3",
      "language": "python"
    },
    "language_info": {
      "mimetype": "text/x-python",
      "nbconvert_exporter": "python",
      "name": "python",
      "file_extension": ".py",
      "version": "3.5.4",
      "pygments_lexer": "ipython3",
      "codemirror_mode": {
        "version": 3,
        "name": "ipython"
      }
    }
  },
  "nbformat_minor": 2,
  "nbformat": 4,
  "cells": [
    {
      "cell_type": "markdown",
      "source": "# Watch Me Code 1: Say My Name\n\nThis program will say your name a number of times.\n",
      "metadata": {}
    },
    {
      "cell_type": "code",
      "source": "name = input(\"What is your name? \")\ntimes = int(input(\"How many times would you like me to say your name %s? \" % name))\n\ni = 1\nwhile i <=times:\n    print(name)\n    i = i + 1",
      "metadata": {
        "collapsed": false,
        "trusted": true
      },
      "execution_count": 1,
      "outputs": [
        {
          "text": "the yeetmeister\nthe yeetmeister\nthe yeetmeister\nthe yeetmeister\nthe yeetmeister\nthe yeetmeister\nthe yeetmeister\nthe yeetmeister\n",
          "name": "stdout",
          "output_type": "stream"
        }
      ]
    },
    {
      "cell_type": "code",
      "source": "",
      "metadata": {
        "collapsed": true
      },
      "execution_count": null,
      "outputs": []
    }
  ]
}