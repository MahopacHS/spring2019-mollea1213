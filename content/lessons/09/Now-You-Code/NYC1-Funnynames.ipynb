{
  "metadata": {
    "anaconda-cloud": {},
    "kernelspec": {
      "name": "python3",
      "display_name": "Python 3",
      "language": "python"
    },
    "language_info": {
      "mimetype": "text/x-python",
      "nbconvert_exporter": "python",
      "name": "python",
      "pygments_lexer": "ipython3",
      "version": "3.5.4",
      "file_extension": ".py",
      "codemirror_mode": {
        "version": 3,
        "name": "ipython"
      }
    }
  },
  "nbformat_minor": 2,
  "nbformat": 4,
  "cells": [
    {
      "cell_type": "markdown",
      "source": "# Now You Code 1: Funny Names\n\nWrite a program to \n\n 1. read the file `NYC1-funnynames.txt` into a list, by completing the provided user-defined function\n 2. sort the list of names\n 3. print the list of names one name per line.\n\nSample Program Output:\n```\nAlma Frienzergon\nKent Belevit\nMitch Again\nOliver Stuffismisson\nSandi Shores\nSarah Bellum\nWillie Pas-D'course\nYolanda Ismyland\n```\n",
      "metadata": {}
    },
    {
      "cell_type": "markdown",
      "source": "## Step 1: Problem Analysis for `read_names` user-defined function\n\nInputs: None\n\nOutputs: a list of names\n\nAlgorithm (Steps in Program):\n\n- open file\n- put file contents into list\n- sort list\n- print names one by one\n    \n    \n\n",
      "metadata": {}
    },
    {
      "cell_type": "code",
      "source": "# Step 2: write function\n# this function reads from \"NYC-funnynames.txt\" places the names in a list.\n# program should return a list of names\ndef read_names(names_list):\n    with open(\"NYC1-funnynames.txt\", \"r\") as f:\n        for line in f:\n            stripped = line.strip()\n            names_list.append(stripped)\n        return names_list",
      "metadata": {
        "collapsed": false,
        "trusted": true
      },
      "execution_count": 14,
      "outputs": []
    },
    {
      "cell_type": "markdown",
      "source": "## Step 3: Problem Analysis for entire program\n\nInputs:\n\n- none\n\nOutputs:\n\n- all the names\n\nAlgorithm (Steps in Program):\n\n- call function and return names\n- sort names\n- print names\n\n",
      "metadata": {}
    },
    {
      "cell_type": "code",
      "source": "## Step 4: write entire program making sure to use read_names \nnames_list = []\nwhile True:\n    read_names(names_list)\n    names_list.sort\n    print(names_list)\n    break\n",
      "metadata": {
        "collapsed": true,
        "trusted": true
      },
      "execution_count": 15,
      "outputs": [
        {
          "text": "[\"Kent Belevit Willie Pas-D'course Sarah Bellum Alma Frienzergon Yolanda Ismyland Oliver Stuffismisson Mitch Again Sandi Shores Euron Trouble\"]\n",
          "name": "stdout",
          "output_type": "stream"
        }
      ]
    },
    {
      "cell_type": "markdown",
      "source": "## Step 5: Questions\n\n1. Does writing the `read_names` function clarify the intent of the main program in step 4? Why or why not?\n\n Yes, it shows that something is being read in from a list of names and outputted.\n\n2. Find the `NYC-funnynames.txt` file in your `lessons/09` folder. Open the file and add the name `Euron Trouble` to the file, then save and close it. Re-run the program in step 4. Do you see the new name in the program output? Explain why or why not? \n",
      "metadata": {}
    },
    {
      "cell_type": "markdown",
      "source": "## Reminder of Evaluation Criteria\n\n1. What the problem attempted (analysis, code, and answered questions) ?\n2. What the problem analysis thought out? (does the program match the plan?)\n3. Does the code execute without syntax error?\n4. Does the code solve the intended problem?\n5. Is the code well written? (easy to understand, modular, and self-documenting, handles errors)\n",
      "metadata": {}
    },
    {
      "cell_type": "code",
      "source": "",
      "metadata": {
        "collapsed": true
      },
      "execution_count": null,
      "outputs": []
    }
  ]
}