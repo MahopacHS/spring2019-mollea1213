{
  "metadata": {
    "anaconda-cloud": {},
    "kernelspec": {
      "name": "python3",
      "display_name": "Python 3",
      "language": "python"
    },
    "language_info": {
      "mimetype": "text/x-python",
      "nbconvert_exporter": "python",
      "name": "python",
      "file_extension": ".py",
      "version": "3.5.4",
      "pygments_lexer": "ipython3",
      "codemirror_mode": {
        "version": 3,
        "name": "ipython"
      }
    }
  },
  "nbformat_minor": 2,
  "nbformat": 4,
  "cells": [
    {
      "cell_type": "markdown",
      "source": "# Watch Me Code 2: Plotly and Cufflinks\n\n- Plotly is a cloud based plotting service. It uses the popular JavaScript library D3.js.\n- Plotly is simple to use \n- It includes a module called `cufflinks` to attach Plotly to pandas",
      "metadata": {}
    },
    {
      "cell_type": "code",
      "source": "!pip install plotly\n!pip install cufflinks",
      "metadata": {
        "collapsed": false,
        "trusted": true
      },
      "execution_count": 1,
      "outputs": [
        {
          "text": "Requirement already satisfied: plotly in /home/nbuser/anaconda3_420/lib/python3.5/site-packages (3.8.1)\nRequirement already satisfied: six in /home/nbuser/anaconda3_420/lib/python3.5/site-packages (from plotly) (1.11.0)\nRequirement already satisfied: retrying>=1.3.3 in /home/nbuser/anaconda3_420/lib/python3.5/site-packages (from plotly) (1.3.3)\nRequirement already satisfied: pytz in /home/nbuser/anaconda3_420/lib/python3.5/site-packages (from plotly) (2016.6.1)\nRequirement already satisfied: nbformat>=4.2 in /home/nbuser/anaconda3_420/lib/python3.5/site-packages (from plotly) (4.2.0)\nRequirement already satisfied: requests in /home/nbuser/anaconda3_420/lib/python3.5/site-packages (from plotly) (2.14.2)\nRequirement already satisfied: decorator>=4.0.6 in /home/nbuser/anaconda3_420/lib/python3.5/site-packages (from plotly) (4.0.10)\n\u001b[33mWARNING: You are using pip version 19.1, however version 19.1.1 is available.\nYou should consider upgrading via the 'pip install --upgrade pip' command.\u001b[0m\nCollecting cufflinks\n\u001b[?25l  Downloading https://files.pythonhosted.org/packages/dd/c9/c6f3675387438929af73e1199c45a623205898bafeab5ccd713efe3b43c2/cufflinks-0.15.tar.gz (81kB)\n\u001b[K     |████████████████████████████████| 81kB 3.3MB/s eta 0:00:011\n\u001b[?25hRequirement already satisfied: numpy>=1.9.2 in /home/nbuser/anaconda3_420/lib/python3.5/site-packages (from cufflinks) (1.16.3)\nRequirement already satisfied: pandas>=0.19.2 in /home/nbuser/anaconda3_420/lib/python3.5/site-packages (from cufflinks) (0.19.2)\nRequirement already satisfied: plotly>=3.0.0 in /home/nbuser/anaconda3_420/lib/python3.5/site-packages (from cufflinks) (3.8.1)\nRequirement already satisfied: six>=1.9.0 in /home/nbuser/anaconda3_420/lib/python3.5/site-packages (from cufflinks) (1.11.0)\nCollecting colorlover>=0.2.1 (from cufflinks)\n  Downloading https://files.pythonhosted.org/packages/9a/53/f696e4480b1d1de3b1523991dea71cf417c8b19fe70c704da164f3f90972/colorlover-0.3.0-py3-none-any.whl\nRequirement already satisfied: setuptools>=34.4.1 in /home/nbuser/anaconda3_420/lib/python3.5/site-packages (from cufflinks) (41.0.1)\nRequirement already satisfied: ipython>=5.3.0 in /home/nbuser/anaconda3_420/lib/python3.5/site-packages (from cufflinks) (6.2.1)\nRequirement already satisfied: ipywidgets>=7.0.0 in /home/nbuser/anaconda3_420/lib/python3.5/site-packages (from cufflinks) (7.2.1)\nRequirement already satisfied: python-dateutil>=2 in /home/nbuser/anaconda3_420/lib/python3.5/site-packages (from pandas>=0.19.2->cufflinks) (2.7.5)\nRequirement already satisfied: pytz>=2011k in /home/nbuser/anaconda3_420/lib/python3.5/site-packages (from pandas>=0.19.2->cufflinks) (2016.6.1)\nRequirement already satisfied: nbformat>=4.2 in /home/nbuser/anaconda3_420/lib/python3.5/site-packages (from plotly>=3.0.0->cufflinks) (4.2.0)\nRequirement already satisfied: retrying>=1.3.3 in /home/nbuser/anaconda3_420/lib/python3.5/site-packages (from plotly>=3.0.0->cufflinks) (1.3.3)\nRequirement already satisfied: decorator>=4.0.6 in /home/nbuser/anaconda3_420/lib/python3.5/site-packages (from plotly>=3.0.0->cufflinks) (4.0.10)\nRequirement already satisfied: requests in /home/nbuser/anaconda3_420/lib/python3.5/site-packages (from plotly>=3.0.0->cufflinks) (2.14.2)\nRequirement already satisfied: jedi>=0.10 in /home/nbuser/anaconda3_420/lib/python3.5/site-packages (from ipython>=5.3.0->cufflinks) (0.11.0)\nRequirement already satisfied: pickleshare in /home/nbuser/anaconda3_420/lib/python3.5/site-packages (from ipython>=5.3.0->cufflinks) (0.7.4)\nRequirement already satisfied: simplegeneric>0.8 in /home/nbuser/anaconda3_420/lib/python3.5/site-packages (from ipython>=5.3.0->cufflinks) (0.8.1)\nRequirement already satisfied: traitlets>=4.2 in /home/nbuser/anaconda3_420/lib/python3.5/site-packages (from ipython>=5.3.0->cufflinks) (4.3.1)\nRequirement already satisfied: prompt_toolkit<2.0.0,>=1.0.4 in /home/nbuser/anaconda3_420/lib/python3.5/site-packages (from ipython>=5.3.0->cufflinks) (1.0.15)\nRequirement already satisfied: pygments in /home/nbuser/anaconda3_420/lib/python3.5/site-packages (from ipython>=5.3.0->cufflinks) (2.1.3)\nRequirement already satisfied: pexpect in /home/nbuser/anaconda3_420/lib/python3.5/site-packages (from ipython>=5.3.0->cufflinks) (4.0.1)\nRequirement already satisfied: ipykernel>=4.5.1 in /home/nbuser/anaconda3_420/lib/python3.5/site-packages (from ipywidgets>=7.0.0->cufflinks) (4.7.0)\nRequirement already satisfied: widgetsnbextension~=3.2.0 in /home/nbuser/anaconda3_420/lib/python3.5/site-packages (from ipywidgets>=7.0.0->cufflinks) (3.2.0)\nRequirement already satisfied: parso==0.1.* in /home/nbuser/anaconda3_420/lib/python3.5/site-packages (from jedi>=0.10->ipython>=5.3.0->cufflinks) (0.1.1)\nRequirement already satisfied: wcwidth in /home/nbuser/anaconda3_420/lib/python3.5/site-packages (from prompt_toolkit<2.0.0,>=1.0.4->ipython>=5.3.0->cufflinks) (0.1.7)\nRequirement already satisfied: jupyter_client in /home/nbuser/anaconda3_420/lib/python3.5/site-packages (from ipykernel>=4.5.1->ipywidgets>=7.0.0->cufflinks) (5.1.0)\nRequirement already satisfied: tornado>=4.0 in /home/nbuser/anaconda3_420/lib/python3.5/site-packages (from ipykernel>=4.5.1->ipywidgets>=7.0.0->cufflinks) (4.4.1)\nRequirement already satisfied: notebook>=4.4.1 in /home/nbuser/anaconda3_420/lib/python3.5/site-packages (from widgetsnbextension~=3.2.0->ipywidgets>=7.0.0->cufflinks) (5.0.0)\nRequirement already satisfied: jupyter_core in /home/nbuser/anaconda3_420/lib/python3.5/site-packages (from jupyter_client->ipykernel>=4.5.1->ipywidgets>=7.0.0->cufflinks) (4.4.0)\nRequirement already satisfied: pyzmq>=13 in /home/nbuser/anaconda3_420/lib/python3.5/site-packages (from jupyter_client->ipykernel>=4.5.1->ipywidgets>=7.0.0->cufflinks) (15.4.0)\nBuilding wheels for collected packages: cufflinks\n  Building wheel for cufflinks (setup.py) ... \u001b[?25ldone\n\u001b[?25h  Stored in directory: /home/nbuser/.cache/pip/wheels/c7/7f/d3/7d3146a1551614bf0b8eb631ac724d044dd341679e763b594b\nSuccessfully built cufflinks\nInstalling collected packages: colorlover, cufflinks\nSuccessfully installed colorlover-0.3.0 cufflinks-0.15\n\u001b[33mWARNING: You are using pip version 19.1, however version 19.1.1 is available.\nYou should consider upgrading via the 'pip install --upgrade pip' command.\u001b[0m\n",
          "name": "stdout",
          "output_type": "stream"
        }
      ]
    },
    {
      "cell_type": "code",
      "source": "import plotly \nimport plotly.plotly as py     \nimport plotly.graph_objs as go  \nimport cufflinks as cf\nimport pandas as pd",
      "metadata": {
        "collapsed": false,
        "trusted": true
      },
      "execution_count": 2,
      "outputs": []
    },
    {
      "cell_type": "markdown",
      "source": "To use plot.ly you need to sign up for a free account then get API credentials. https://plot.ly/settings/api",
      "metadata": {}
    },
    {
      "cell_type": "code",
      "source": "# setup the credentials\nplotly.tools.set_credentials_file(username='mollea1213', api_key='oJIal4XhZ1I9NluIN5KT')",
      "metadata": {
        "collapsed": true,
        "trusted": true
      },
      "execution_count": 5,
      "outputs": []
    },
    {
      "cell_type": "code",
      "source": "# Start with a Simple Pandas DataFrame\ngrades = { 'subjects' : ['Mathematics', 'English', 'History', 'Science', 'Arts'],\n           'grades' : [67, 60, 36, 61, 58]\n         }\ngrades_df = pd.DataFrame(grades)\ngrades_df",
      "metadata": {
        "collapsed": false,
        "trusted": true
      },
      "execution_count": 6,
      "outputs": [
        {
          "execution_count": 6,
          "output_type": "execute_result",
          "data": {
            "text/html": "<div>\n<table border=\"1\" class=\"dataframe\">\n  <thead>\n    <tr style=\"text-align: right;\">\n      <th></th>\n      <th>grades</th>\n      <th>subjects</th>\n    </tr>\n  </thead>\n  <tbody>\n    <tr>\n      <th>0</th>\n      <td>67</td>\n      <td>Mathematics</td>\n    </tr>\n    <tr>\n      <th>1</th>\n      <td>60</td>\n      <td>English</td>\n    </tr>\n    <tr>\n      <th>2</th>\n      <td>36</td>\n      <td>History</td>\n    </tr>\n    <tr>\n      <th>3</th>\n      <td>61</td>\n      <td>Science</td>\n    </tr>\n    <tr>\n      <th>4</th>\n      <td>58</td>\n      <td>Arts</td>\n    </tr>\n  </tbody>\n</table>\n</div>",
            "text/plain": "   grades     subjects\n0      67  Mathematics\n1      60      English\n2      36      History\n3      61      Science\n4      58         Arts"
          },
          "metadata": {}
        }
      ]
    },
    {
      "cell_type": "markdown",
      "source": "To plot with plotly, we need:\n\n- Data: this is a list of subplots, \n- A Python Dictionary of information to put on the plot",
      "metadata": {}
    },
    {
      "cell_type": "code",
      "source": "grade_data = [go.Bar(x=grades_df['subjects'], y=grades_df['grades'])] # Bar Plot, note this is a list\n\npy.iplot({ 'data': grade_data,\n            'layout': {\n               'title': 'My Grades R Asum',\n               'xaxis': {\n                 'title': 'Subjects Are Bad'},\n               'yaxis': {\n                'title': 'Grades'}\n        }})",
      "metadata": {
        "collapsed": false,
        "trusted": true
      },
      "execution_count": 7,
      "outputs": [
        {
          "text": "High five! You successfully sent some data to your account on plotly. View your plot in your browser at https://plot.ly/~mollea1213/0 or inside your plot.ly account where it is named 'plot from API'\n",
          "name": "stdout",
          "output_type": "stream"
        },
        {
          "execution_count": 7,
          "output_type": "execute_result",
          "data": {
            "text/html": "<iframe id=\"igraph\" scrolling=\"no\" style=\"border:none;\" seamless=\"seamless\" src=\"https://plot.ly/~mollea1213/0.embed\" height=\"525px\" width=\"100%\"></iframe>",
            "text/plain": "<chart_studio.tools.PlotlyDisplay object>"
          },
          "metadata": {}
        }
      ]
    },
    {
      "cell_type": "markdown",
      "source": "Cufflinks is a Python module which \"attaches\" plot.ly to the dataframe (just like cufflinks \"attach\" to your shirt-sleeve). \n\nThis allows you to plot similarly to pandas.",
      "metadata": {}
    },
    {
      "cell_type": "code",
      "source": "# Same plot as a one-liner with cufflinks!\ngrades_df.iplot(kind='bar', x='subjects', y='grades', title='My Grades R Awesum', xTitle='Grades', yTitle='Subjects Are Bad')",
      "metadata": {
        "collapsed": false
      },
      "execution_count": 9,
      "outputs": [
        {
          "execution_count": 9,
          "output_type": "execute_result",
          "data": {
            "text/html": "<iframe id=\"igraph\" scrolling=\"no\" style=\"border:none;\" seamless=\"seamless\" src=\"https://plot.ly/~mafudge73fc/6.embed\" height=\"525px\" width=\"100%\"></iframe>",
            "text/plain": "<plotly.tools.PlotlyDisplay object>"
          },
          "metadata": {}
        }
      ]
    },
    {
      "cell_type": "code",
      "source": "# Have some pie, note it uses labels and values\ngrades_df.iplot(kind='pie', labels='subjects', values='grades', title='My Grades R Awesum')",
      "metadata": {
        "collapsed": false
      },
      "execution_count": 12,
      "outputs": [
        {
          "execution_count": 12,
          "output_type": "execute_result",
          "data": {
            "text/html": "<iframe id=\"igraph\" scrolling=\"no\" style=\"border:none;\" seamless=\"seamless\" src=\"https://plot.ly/~mafudgefc94/77.embed\" height=\"525px\" width=\"100%\"></iframe>",
            "text/plain": "<plotly.tools.PlotlyDisplay object>"
          },
          "metadata": {}
        }
      ]
    },
    {
      "cell_type": "code",
      "source": "# Don't like all that color? \ngrades_df.iplot(kind='pie', labels='subjects', values='grades', title='My Grades R Awesum', colorscale='greens', textinfo='value+percent')",
      "metadata": {
        "collapsed": false
      },
      "execution_count": 17,
      "outputs": [
        {
          "execution_count": 17,
          "output_type": "execute_result",
          "data": {
            "text/html": "<iframe id=\"igraph\" scrolling=\"no\" style=\"border:none;\" seamless=\"seamless\" src=\"https://plot.ly/~mafudgefc94/77.embed\" height=\"525px\" width=\"100%\"></iframe>",
            "text/plain": "<plotly.tools.PlotlyDisplay object>"
          },
          "metadata": {}
        }
      ]
    },
    {
      "cell_type": "markdown",
      "source": "How about an example with multiple series? For that we need to pull in another dataset",
      "metadata": {}
    },
    {
      "cell_type": "code",
      "source": "cuse_weather_df = pd.read_csv('https://raw.githubusercontent.com/mafudge/datasets/master/weather/syracuse-ny.csv')\ncuse_weather_df = cuse_weather_df[ cuse_weather_df['EST'].str.startswith('2015-')] \ncuse_weather_df.head(5)",
      "metadata": {
        "collapsed": false
      },
      "execution_count": 18,
      "outputs": [
        {
          "execution_count": 18,
          "output_type": "execute_result",
          "data": {
            "text/html": "<div>\n<table border=\"1\" class=\"dataframe\">\n  <thead>\n    <tr style=\"text-align: right;\">\n      <th></th>\n      <th>EST</th>\n      <th>Max TemperatureF</th>\n      <th>Mean TemperatureF</th>\n      <th>Min TemperatureF</th>\n      <th>Max Dew PointF</th>\n      <th>MeanDew PointF</th>\n      <th>Min DewpointF</th>\n      <th>Max Humidity</th>\n      <th>Mean Humidity</th>\n      <th>Min Humidity</th>\n      <th>...</th>\n      <th>Max VisibilityMiles</th>\n      <th>Mean VisibilityMiles</th>\n      <th>Min VisibilityMiles</th>\n      <th>Max Wind SpeedMPH</th>\n      <th>Mean Wind SpeedMPH</th>\n      <th>Max Gust SpeedMPH</th>\n      <th>PrecipitationIn</th>\n      <th>CloudCover</th>\n      <th>Events</th>\n      <th>WindDirDegrees</th>\n    </tr>\n  </thead>\n  <tbody>\n    <tr>\n      <th>6480</th>\n      <td>2015-1-1</td>\n      <td>34</td>\n      <td>27.0</td>\n      <td>20</td>\n      <td>25</td>\n      <td>13</td>\n      <td>8</td>\n      <td>91</td>\n      <td>64</td>\n      <td>36</td>\n      <td>...</td>\n      <td>10</td>\n      <td>8</td>\n      <td>1</td>\n      <td>28</td>\n      <td>12</td>\n      <td>33.0</td>\n      <td>0.01</td>\n      <td>8</td>\n      <td>Snow</td>\n      <td>248</td>\n    </tr>\n    <tr>\n      <th>6481</th>\n      <td>2015-1-2</td>\n      <td>31</td>\n      <td>23.0</td>\n      <td>15</td>\n      <td>26</td>\n      <td>23</td>\n      <td>15</td>\n      <td>100</td>\n      <td>82</td>\n      <td>63</td>\n      <td>...</td>\n      <td>10</td>\n      <td>4</td>\n      <td>0</td>\n      <td>22</td>\n      <td>9</td>\n      <td>28.0</td>\n      <td>0.03</td>\n      <td>8</td>\n      <td>Fog-Snow</td>\n      <td>285</td>\n    </tr>\n    <tr>\n      <th>6482</th>\n      <td>2015-1-3</td>\n      <td>40</td>\n      <td>28.0</td>\n      <td>15</td>\n      <td>37</td>\n      <td>23</td>\n      <td>15</td>\n      <td>100</td>\n      <td>87</td>\n      <td>74</td>\n      <td>...</td>\n      <td>10</td>\n      <td>6</td>\n      <td>1</td>\n      <td>21</td>\n      <td>10</td>\n      <td>29.0</td>\n      <td>0.97</td>\n      <td>8</td>\n      <td>Rain-Snow</td>\n      <td>84</td>\n    </tr>\n    <tr>\n      <th>6483</th>\n      <td>2015-1-4</td>\n      <td>55</td>\n      <td>44.0</td>\n      <td>33</td>\n      <td>51</td>\n      <td>39</td>\n      <td>27</td>\n      <td>100</td>\n      <td>88</td>\n      <td>76</td>\n      <td>...</td>\n      <td>10</td>\n      <td>10</td>\n      <td>7</td>\n      <td>35</td>\n      <td>13</td>\n      <td>45.0</td>\n      <td>0.03</td>\n      <td>8</td>\n      <td>Rain-Snow</td>\n      <td>259</td>\n    </tr>\n    <tr>\n      <th>6484</th>\n      <td>2015-1-5</td>\n      <td>33</td>\n      <td>22.0</td>\n      <td>10</td>\n      <td>28</td>\n      <td>10</td>\n      <td>-3</td>\n      <td>88</td>\n      <td>70</td>\n      <td>51</td>\n      <td>...</td>\n      <td>10</td>\n      <td>8</td>\n      <td>1</td>\n      <td>37</td>\n      <td>22</td>\n      <td>47.0</td>\n      <td>0.01</td>\n      <td>6</td>\n      <td>Snow</td>\n      <td>274</td>\n    </tr>\n  </tbody>\n</table>\n<p>5 rows × 23 columns</p>\n</div>",
            "text/plain": "           EST  Max TemperatureF  Mean TemperatureF  Min TemperatureF  \\\n6480  2015-1-1                34               27.0                20   \n6481  2015-1-2                31               23.0                15   \n6482  2015-1-3                40               28.0                15   \n6483  2015-1-4                55               44.0                33   \n6484  2015-1-5                33               22.0                10   \n\n      Max Dew PointF  MeanDew PointF  Min DewpointF  Max Humidity  \\\n6480              25              13              8            91   \n6481              26              23             15           100   \n6482              37              23             15           100   \n6483              51              39             27           100   \n6484              28              10             -3            88   \n\n      Mean Humidity  Min Humidity      ...        Max VisibilityMiles  \\\n6480             64            36      ...                         10   \n6481             82            63      ...                         10   \n6482             87            74      ...                         10   \n6483             88            76      ...                         10   \n6484             70            51      ...                         10   \n\n      Mean VisibilityMiles  Min VisibilityMiles  Max Wind SpeedMPH  \\\n6480                     8                    1                 28   \n6481                     4                    0                 22   \n6482                     6                    1                 21   \n6483                    10                    7                 35   \n6484                     8                    1                 37   \n\n      Mean Wind SpeedMPH  Max Gust SpeedMPH  PrecipitationIn  CloudCover  \\\n6480                  12               33.0             0.01           8   \n6481                   9               28.0             0.03           8   \n6482                  10               29.0             0.97           8   \n6483                  13               45.0             0.03           8   \n6484                  22               47.0             0.01           6   \n\n         Events WindDirDegrees  \n6480       Snow            248  \n6481   Fog-Snow            285  \n6482  Rain-Snow             84  \n6483  Rain-Snow            259  \n6484       Snow            274  \n\n[5 rows x 23 columns]"
          },
          "metadata": {}
        }
      ]
    },
    {
      "cell_type": "code",
      "source": "r = dict(color='red')\ng = dict(color='green')\nb = dict(color='blue')\ngrade_data = [\n    go.Scatter(x=cuse_weather_df['EST'], y=cuse_weather_df['Max TemperatureF'], mode=\"lines\", name=\"Max Temp\", marker=r),\n    go.Scatter(x=cuse_weather_df['EST'], y=cuse_weather_df['Mean TemperatureF'], mode=\"lines+markers\", name=\"Mean Temp\", marker=g),\n    go.Scatter(x=cuse_weather_df['EST'], y=cuse_weather_df['Min TemperatureF'], mode=\"lines\", name=\"Min Temp\", marker=b)\n]\n\npy.iplot({ 'data': grade_data,\n            'layout': {\n               'title': 'Syracuse Weather 2015',\n               'xaxis': {\n                 'title': 'Day of the Year'},\n               'yaxis': {\n                'title': 'Temperature Deg F'}\n        }})",
      "metadata": {
        "collapsed": false,
        "trusted": true
      },
      "execution_count": 1,
      "outputs": [
        {
          "ename": "NameError",
          "evalue": "name 'go' is not defined",
          "traceback": [
            "\u001b[0;31m---------------------------------------------------------------------------\u001b[0m",
            "\u001b[0;31mNameError\u001b[0m                                 Traceback (most recent call last)",
            "\u001b[0;32m<ipython-input-1-953f5c274c39>\u001b[0m in \u001b[0;36m<module>\u001b[0;34m()\u001b[0m\n\u001b[1;32m      3\u001b[0m \u001b[0mb\u001b[0m \u001b[0;34m=\u001b[0m \u001b[0mdict\u001b[0m\u001b[0;34m(\u001b[0m\u001b[0mcolor\u001b[0m\u001b[0;34m=\u001b[0m\u001b[0;34m'blue'\u001b[0m\u001b[0;34m)\u001b[0m\u001b[0;34m\u001b[0m\u001b[0m\n\u001b[1;32m      4\u001b[0m grade_data = [\n\u001b[0;32m----> 5\u001b[0;31m     \u001b[0mgo\u001b[0m\u001b[0;34m.\u001b[0m\u001b[0mScatter\u001b[0m\u001b[0;34m(\u001b[0m\u001b[0mx\u001b[0m\u001b[0;34m=\u001b[0m\u001b[0mcuse_weather_df\u001b[0m\u001b[0;34m[\u001b[0m\u001b[0;34m'EST'\u001b[0m\u001b[0;34m]\u001b[0m\u001b[0;34m,\u001b[0m \u001b[0my\u001b[0m\u001b[0;34m=\u001b[0m\u001b[0mcuse_weather_df\u001b[0m\u001b[0;34m[\u001b[0m\u001b[0;34m'Max TemperatureF'\u001b[0m\u001b[0;34m]\u001b[0m\u001b[0;34m,\u001b[0m \u001b[0mmode\u001b[0m\u001b[0;34m=\u001b[0m\u001b[0;34m\"lines\"\u001b[0m\u001b[0;34m,\u001b[0m \u001b[0mname\u001b[0m\u001b[0;34m=\u001b[0m\u001b[0;34m\"Max Temp\"\u001b[0m\u001b[0;34m,\u001b[0m \u001b[0mmarker\u001b[0m\u001b[0;34m=\u001b[0m\u001b[0mr\u001b[0m\u001b[0;34m)\u001b[0m\u001b[0;34m,\u001b[0m\u001b[0;34m\u001b[0m\u001b[0m\n\u001b[0m\u001b[1;32m      6\u001b[0m     \u001b[0mgo\u001b[0m\u001b[0;34m.\u001b[0m\u001b[0mScatter\u001b[0m\u001b[0;34m(\u001b[0m\u001b[0mx\u001b[0m\u001b[0;34m=\u001b[0m\u001b[0mcuse_weather_df\u001b[0m\u001b[0;34m[\u001b[0m\u001b[0;34m'EST'\u001b[0m\u001b[0;34m]\u001b[0m\u001b[0;34m,\u001b[0m \u001b[0my\u001b[0m\u001b[0;34m=\u001b[0m\u001b[0mcuse_weather_df\u001b[0m\u001b[0;34m[\u001b[0m\u001b[0;34m'Mean TemperatureF'\u001b[0m\u001b[0;34m]\u001b[0m\u001b[0;34m,\u001b[0m \u001b[0mmode\u001b[0m\u001b[0;34m=\u001b[0m\u001b[0;34m\"lines+markers\"\u001b[0m\u001b[0;34m,\u001b[0m \u001b[0mname\u001b[0m\u001b[0;34m=\u001b[0m\u001b[0;34m\"Mean Temp\"\u001b[0m\u001b[0;34m,\u001b[0m \u001b[0mmarker\u001b[0m\u001b[0;34m=\u001b[0m\u001b[0mg\u001b[0m\u001b[0;34m)\u001b[0m\u001b[0;34m,\u001b[0m\u001b[0;34m\u001b[0m\u001b[0m\n\u001b[1;32m      7\u001b[0m     \u001b[0mgo\u001b[0m\u001b[0;34m.\u001b[0m\u001b[0mScatter\u001b[0m\u001b[0;34m(\u001b[0m\u001b[0mx\u001b[0m\u001b[0;34m=\u001b[0m\u001b[0mcuse_weather_df\u001b[0m\u001b[0;34m[\u001b[0m\u001b[0;34m'EST'\u001b[0m\u001b[0;34m]\u001b[0m\u001b[0;34m,\u001b[0m \u001b[0my\u001b[0m\u001b[0;34m=\u001b[0m\u001b[0mcuse_weather_df\u001b[0m\u001b[0;34m[\u001b[0m\u001b[0;34m'Min TemperatureF'\u001b[0m\u001b[0;34m]\u001b[0m\u001b[0;34m,\u001b[0m \u001b[0mmode\u001b[0m\u001b[0;34m=\u001b[0m\u001b[0;34m\"lines\"\u001b[0m\u001b[0;34m,\u001b[0m \u001b[0mname\u001b[0m\u001b[0;34m=\u001b[0m\u001b[0;34m\"Min Temp\"\u001b[0m\u001b[0;34m,\u001b[0m \u001b[0mmarker\u001b[0m\u001b[0;34m=\u001b[0m\u001b[0mb\u001b[0m\u001b[0;34m)\u001b[0m\u001b[0;34m\u001b[0m\u001b[0m\n",
            "\u001b[0;31mNameError\u001b[0m: name 'go' is not defined"
          ],
          "output_type": "error"
        }
      ]
    },
    {
      "cell_type": "markdown",
      "source": "Here's another example with the Exam Scores Dataset. Shows you how much more expressive plot.ly can be.",
      "metadata": {}
    },
    {
      "cell_type": "code",
      "source": "scores_df = pd.read_csv('https://raw.githubusercontent.com/mafudge/datasets/master/exam-scores/exam-scores.csv')\nscores_df = scores_df.sort_values(by='Student Score')\nscores_df[0:6]",
      "metadata": {
        "collapsed": false
      },
      "execution_count": 23,
      "outputs": [
        {
          "execution_count": 23,
          "output_type": "execute_result",
          "data": {
            "text/html": "<div>\n<table border=\"1\" class=\"dataframe\">\n  <thead>\n    <tr style=\"text-align: right;\">\n      <th></th>\n      <th>Class Section</th>\n      <th>Exam Version</th>\n      <th>Completion Time</th>\n      <th>Made Own Study Guide</th>\n      <th>Did Exam Prep Assignment</th>\n      <th>Studied In Groups</th>\n      <th>Student Score</th>\n      <th>Percentage</th>\n      <th>Letter Grade</th>\n    </tr>\n  </thead>\n  <tbody>\n    <tr>\n      <th>23</th>\n      <td>M01</td>\n      <td>D</td>\n      <td>35</td>\n      <td>?</td>\n      <td>?</td>\n      <td>?</td>\n      <td>13</td>\n      <td>43.30%</td>\n      <td>F</td>\n    </tr>\n    <tr>\n      <th>8</th>\n      <td>M01</td>\n      <td>B</td>\n      <td>20</td>\n      <td>N</td>\n      <td>N</td>\n      <td>Y</td>\n      <td>13</td>\n      <td>43.30%</td>\n      <td>F</td>\n    </tr>\n    <tr>\n      <th>21</th>\n      <td>M01</td>\n      <td>D</td>\n      <td>25</td>\n      <td>N</td>\n      <td>N</td>\n      <td>Y</td>\n      <td>15</td>\n      <td>50.00%</td>\n      <td>D</td>\n    </tr>\n    <tr>\n      <th>29</th>\n      <td>M02</td>\n      <td>A</td>\n      <td>20</td>\n      <td>N</td>\n      <td>N</td>\n      <td>N</td>\n      <td>16</td>\n      <td>53.30%</td>\n      <td>D</td>\n    </tr>\n    <tr>\n      <th>52</th>\n      <td>M02</td>\n      <td>C</td>\n      <td>40</td>\n      <td>Y</td>\n      <td>Y</td>\n      <td>N</td>\n      <td>16</td>\n      <td>53.30%</td>\n      <td>D</td>\n    </tr>\n    <tr>\n      <th>56</th>\n      <td>M02</td>\n      <td>C</td>\n      <td>60</td>\n      <td>N</td>\n      <td>N</td>\n      <td>Y</td>\n      <td>16</td>\n      <td>53.30%</td>\n      <td>D</td>\n    </tr>\n  </tbody>\n</table>\n</div>",
            "text/plain": "   Class Section Exam Version  Completion Time Made Own Study Guide  \\\n23           M01            D               35                    ?   \n8            M01            B               20                    N   \n21           M01            D               25                    N   \n29           M02            A               20                    N   \n52           M02            C               40                    Y   \n56           M02            C               60                    N   \n\n   Did Exam Prep Assignment Studied In Groups  Student Score Percentage  \\\n23                        ?                 ?             13     43.30%   \n8                         N                 Y             13     43.30%   \n21                        N                 Y             15     50.00%   \n29                        N                 N             16     53.30%   \n52                        Y                 N             16     53.30%   \n56                        N                 Y             16     53.30%   \n\n   Letter Grade  \n23            F  \n8             F  \n21            D  \n29            D  \n52            D  \n56            D  "
          },
          "metadata": {}
        }
      ]
    },
    {
      "cell_type": "code",
      "source": "grade_data = [\n    go.Scatter(x=scores_df['Letter Grade'], y=scores_df['Completion Time'], mode=\"markers\", \n               marker= { 'size': scores_df['Student Score'], 'sizemode' : 'diameter', 'sizeref' : 1.0})\n]\n\npy.iplot({ 'data': grade_data,\n            'layout': {\n               'title': 'Exam Grades',\n               'xaxis': {\n                 'title': 'Letter Grade'},\n               'yaxis': {\n                'title': 'Time To Complete Exam'}\n        }})",
      "metadata": {
        "collapsed": false,
        "scrolled": false
      },
      "execution_count": 29,
      "outputs": [
        {
          "execution_count": 29,
          "output_type": "execute_result",
          "data": {
            "text/html": "<iframe id=\"igraph\" scrolling=\"no\" style=\"border:none;\" seamless=\"seamless\" src=\"https://plot.ly/~mafudgefc94/93.embed\" height=\"525px\" width=\"100%\"></iframe>",
            "text/plain": "<plotly.tools.PlotlyDisplay object>"
          },
          "metadata": {}
        }
      ]
    },
    {
      "cell_type": "code",
      "source": "grade_data = [\n    go.Heatmap(x=scores_df['Exam Version'], y=scores_df['Completion Time'], z=scores_df['Student Score'])\n]\n\npy.iplot({ 'data': grade_data,\n            'layout': {\n               'title': 'Exam Grades Heat Map',\n               'xaxis': {\n                 'title': 'Exam Version'},\n               'yaxis': {\n                 'title': 'Time To Complete Exam'}           \n        }})",
      "metadata": {
        "collapsed": false
      },
      "execution_count": 34,
      "outputs": [
        {
          "execution_count": 34,
          "output_type": "execute_result",
          "data": {
            "text/html": "<iframe id=\"igraph\" scrolling=\"no\" style=\"border:none;\" seamless=\"seamless\" src=\"https://plot.ly/~mafudgefc94/97.embed\" height=\"525px\" width=\"100%\"></iframe>",
            "text/plain": "<plotly.tools.PlotlyDisplay object>"
          },
          "metadata": {}
        }
      ]
    },
    {
      "cell_type": "code",
      "source": "# A manual sample, showing you don't need to use Pandas at all.\n\ntrace0 = Scatter(\n    x=[1,2,3,4,5,6,7,8],\n    y=[10, 15, 13, 17, 15, 12, 10, 18],\n    mode = \"markers\",\n    name = \"series 2\"\n)\ntrace1 = Scatter(\n    x=[1,2,3,4,5,6,7,8],\n    y=[16, 5, 11, 9, 16, 10, 14, 12],\n    mode=\"line\",\n    name = \"series 1\"\n)\ndata = Data([trace0, trace1])\n\npy.iplot({ 'data': data,\n            'layout': {\n               'title': 'Sample Chart',\n               'xaxis': {\n                 'title': 'X Axis'},\n               'yaxis': {\n                 'title': 'Y Axis'}            \n        }})",
      "metadata": {
        "collapsed": false
      },
      "execution_count": 35,
      "outputs": [
        {
          "execution_count": 35,
          "output_type": "execute_result",
          "data": {
            "text/html": "<iframe id=\"igraph\" scrolling=\"no\" style=\"border:none;\" seamless=\"seamless\" src=\"https://plot.ly/~mafudgefc94/99.embed\" height=\"525px\" width=\"100%\"></iframe>",
            "text/plain": "<plotly.tools.PlotlyDisplay object>"
          },
          "metadata": {}
        }
      ]
    },
    {
      "cell_type": "code",
      "source": "",
      "metadata": {
        "collapsed": true
      },
      "execution_count": null,
      "outputs": []
    }
  ]
}