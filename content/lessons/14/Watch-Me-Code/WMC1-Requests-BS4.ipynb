{
  "metadata": {
    "anaconda-cloud": {},
    "kernelspec": {
      "name": "python3",
      "display_name": "Python 3",
      "language": "python"
    },
    "language_info": {
      "mimetype": "text/x-python",
      "nbconvert_exporter": "python",
      "name": "python",
      "pygments_lexer": "ipython3",
      "version": "3.5.4",
      "file_extension": ".py",
      "codemirror_mode": {
        "version": 3,
        "name": "ipython"
      }
    }
  },
  "nbformat_minor": 2,
  "nbformat": 4,
  "cells": [
    {
      "cell_type": "markdown",
      "source": "# Watch Me Code 1: Beautiful Soup 4\n\nYour boss wants to market a new product to the iSchool Faculty.\nYou have been tasked with creating a contact list containing names, jobs and emails for the marketing department\n",
      "metadata": {}
    },
    {
      "cell_type": "code",
      "source": "# Todo:\n\n# 1. Get html from ischool faculty directory\n# 2. Parse html extract faculty contact info\n# 3. Write to a csv file for marketing\n\nimport requests\nfrom bs4 import BeautifulSoup\nimport csv\n\ndef get_html(url):\n    # Get html from url\n    response = requests.get(url)\n    return response.text\n\ndef extract_info(html):\n    # take html extract faculty info return list of dictionaries\n    soup = BeautifulSoup(html, \"lxml\")\n    faculty = []\n    for item in soup.select(\".faculty-list\")[0].select('.media'):\n        fac = {\n            \"name\": item.find(\"h4\").text,\n            \"title\": item.find(\"h5\").text,\n            \"email\": \"\"\n        }\n        for link in item.find_all(\"a\"):\n            if \"mailto:\" in link[\"href\"]:\n                fac[\"email\"] = link.text\n        faculty.append(fac)\n    return faculty   \n    \ndef write_csv(filename, facultylist):\n    # take dictionaries and create a csv\n    with open(filename, 'w', newline='') as csvfile:\n        fieldnames = ['name', 'title', 'email']\n        writer = csv.DictWriter(csvfile, fieldnames=fieldnames)\n        writer.writeheader()\n        for faculty in facultylist:\n            writer.writerow(faculty)\n    return \"success\"\n\n# Follow our steps\nwebpage = get_html('https://ischool.syr.edu/people/directories/faculty/')\nfaculty = extract_info(webpage)\nfilename = \"faculty.csv\"\nresult = write_csv(filename, faculty)\nif result == \"success\":\n    print(\"File %s written to disk\" % (filename))",
      "metadata": {
        "collapsed": false
      },
      "execution_count": 1,
      "outputs": [
        {
          "name": "stdout",
          "output_type": "stream",
          "text": "File faculty.csv written to disk\n"
        }
      ]
    },
    {
      "cell_type": "code",
      "source": "",
      "metadata": {
        "collapsed": true
      },
      "execution_count": null,
      "outputs": []
    }
  ]
}