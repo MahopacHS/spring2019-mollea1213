{
  "metadata": {
    "anaconda-cloud": {},
    "kernelspec": {
      "name": "python36",
      "display_name": "Python 3.6",
      "language": "python"
    },
    "language_info": {
      "mimetype": "text/x-python",
      "nbconvert_exporter": "python",
      "name": "python",
      "pygments_lexer": "ipython3",
      "version": "3.6.6",
      "file_extension": ".py",
      "codemirror_mode": {
        "version": 3,
        "name": "ipython"
      }
    }
  },
  "nbformat_minor": 2,
  "nbformat": 4,
  "cells": [
    {
      "cell_type": "markdown",
      "source": "# Now You Code 4: Should I Sleep In?\n\nAlways. :-) \n\nActually we'd like to write a program which will suggest whether or not we can sleep in. Our criteria will be as follows.\n\n- Is it the weekend? Then sleep in.\n- Is it a holiday? Then sleep in.\n- Otherwise you need to get up!\n\nLet's write a program to input the day of the week and ask whether or not its a holiday, then make the appropriate decision as to whether or not we should sleep in.\n\nWe will use the **Write - Refactor - Test - Rewrite** approach to complete the final solution which will refactor the day of the week logic into a function.",
      "metadata": {}
    },
    {
      "cell_type": "markdown",
      "source": "## Step 1: Write\n\nHere's the algorithm of this program. Write the solution in Python.\n\n```\n    input day of the week\n    input is it a holiday\n    if day of the week is a weekend\n        print go back to bed its the weekend\n    else\n        if its a holiday\n            print go back to bed. its a holiday\n        else\n            print you need to get up\n```\n\nExample Run 1:\n\n```\nWhat day of the week is it? Monday\nIs it a holiday? No\nYou need to get up!\n```\n\nExample Run 2:\n\n```\nWhat day of the week is it? Saturday\nIs it a holiday? No\nGo back to bed! It's the weekend.\n```\n\nExample Run 3:\n\n```\nWhat day of the week is it? Monday\nIs it a holiday? Yes\nGo back to bed! It's a Holiday.\n```\n",
      "metadata": {}
    },
    {
      "cell_type": "code",
      "source": "## TODO: Write the solution here\nday = input(\"What day of the week is it?: \")\nholiday = input(\"Is it a holiday? [Y/N]: \")\nif day == 'saturday' or 'sunday':\n    print(\"Go back to bed it's the weekend\")\nelse:\n    if holiday == 'Y':\n        print(\"Go back to bed it's a holiday.\")\n    else:\n        print(\"You need to get up\")\n",
      "metadata": {
        "trusted": true
      },
      "execution_count": 2,
      "outputs": [
        {
          "text": "Go back to bed it's the weekend\n",
          "name": "stdout",
          "output_type": "stream"
        }
      ]
    },
    {
      "cell_type": "markdown",
      "source": "## Step 2: Refactor\n\nNext we need to refactor the part of this program which checks to see if the day of the week is a weekend. The function:\n\n- `IsWeekend()` has one input a `day_of_week` and returns `True` when it's a `Saturday` or `Sunday`, `False` for all other days.\n",
      "metadata": {}
    },
    {
      "cell_type": "code",
      "source": "## Step 2: Refactor into function IsWeekend(day_of_week)\ndef IsWeekend(day):\n    day = input(\"Enter the day of the week: \")\n    if day == 'Saturday' or 'Sunday':\n        return True\n    else:\n        return False",
      "metadata": {
        "trusted": true
      },
      "execution_count": 3,
      "outputs": []
    },
    {
      "cell_type": "markdown",
      "source": "## Step 3: Test \n\nTime to test. Write 7 tests, once for each day of the week.\n```\nWHEN day_of_week='Monday' We EXPECT IsWeekend(day_of_week) to return False\nWHEN day_of_week='Tuesday' We EXPECT IsWeekend(day_of_week) to return False\nWHEN day_of_week='Wednesday' We EXPECT IsWeekend(day_of_week) to return False\nWHEN day_of_week='Thursday' We EXPECT IsWeekend(day_of_week) to return False\nWHEN day_of_week='Friday' We EXPECT IsWeekend(day_of_week) to return False\nWHEN day_of_week='Saturday' We EXPECT IsWeekend(day_of_week) to return True\nWHEN day_of_week='Sunday' We EXPECT IsWeekend(day_of_week) to return True\n```\n",
      "metadata": {}
    },
    {
      "cell_type": "code",
      "source": "# Step 3: Write tests. Similar to how we did it in the lab.\nprint(\"WHEN day='Monday' We EXPECT IsWeekend(day) to return False\", IsWeekend(day))\nprint(\"WHEN day='Tuesday' We EXPECT IsWeekend(day) to return False\", IsWeekend(day))\nprint(\"WHEN day='Wednesday' We EXPECT IsWeekend(day) to return False\", IsWeekend(day))\nprint(\"WHEN day='Thursday' We EXPECT IsWeekend(day) to return False\", IsWeekend(day))\nprint(\"WHEN day='Friday' We EXPECT IsWeekend(day) to return False\", IsWeekend(day))\nprint(\"WHEN day='Saturday' We EXPECT IsWeekend(day) to return True\", IsWeekend(day))\nprint(\"WHEN day='Sunday' We EXPECT IsWeekend(day) to return True\", IsWeekend(day))\n",
      "metadata": {
        "trusted": true
      },
      "execution_count": null,
      "outputs": [
        {
          "text": "WHEN day='Monday' We EXPECT IsWeekend(day) to return False True\n",
          "name": "stdout",
          "output_type": "stream"
        }
      ]
    },
    {
      "cell_type": "markdown",
      "source": "## Step 4: rewrite the program to use the function\n\nFinally re-write the original program, but call the function you made in step 2: \n",
      "metadata": {}
    },
    {
      "cell_type": "code",
      "source": "## Step 4: Write program here from the algorithm above\nIsWeekend(day)\nif True:\n    print(\"It's the weekend go back to bed.\")\nelse:\n    print(\"You need to get up.\")\n\n",
      "metadata": {
        "trusted": true
      },
      "execution_count": null,
      "outputs": []
    },
    {
      "cell_type": "markdown",
      "source": "## Step 6: Questions\n\n1. Provide 3 advantages for programming a user function in your code like `CircleArea`  or `CircleCircumfrence`\n\n-Hiding information, making code neater, and being able to reuse the code later.\n\n2. Why did we need to write 7 tests?\n\n-To test each day of the week, of which there are 7.\n\n3. Which code is easier to understand? Step 1 or step 4? Why? or Why not?\n\n-Step 4 because there is a small amount of actual code to look at yet from what's written you can infer what it does.\n\n4. What happens when you input `'sat'` for `'Saturday'` Does it work? How can the program be improved? Does improving it affect the readability of step 4? (HINT: Abstractions!!!)\n\nThis does not work because it does not match the required input, this can be fixed by using 'or' to accomodate for different spellings or capitlizations of the same words. \n",
      "metadata": {}
    },
    {
      "cell_type": "markdown",
      "source": "## Reminder of Evaluation Criteria\n\n1. What the problem attempted (analysis, code, and answered questions) ?\n2. What the problem analysis thought out? (does the program match the plan?)\n3. Does the code execute without syntax error?\n4. Does the code solve the intended problem?\n5. Is the code well written? (easy to understand, modular, and self-documenting, handles errors)\n",
      "metadata": {}
    },
    {
      "cell_type": "code",
      "source": "",
      "metadata": {
        "collapsed": true
      },
      "execution_count": null,
      "outputs": []
    }
  ]
}