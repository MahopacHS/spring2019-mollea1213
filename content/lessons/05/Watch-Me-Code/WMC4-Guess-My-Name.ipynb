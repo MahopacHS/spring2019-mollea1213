{
  "metadata": {
    "anaconda-cloud": {},
    "kernelspec": {
      "name": "python3",
      "display_name": "Python 3",
      "language": "python"
    },
    "language_info": {
      "mimetype": "text/x-python",
      "nbconvert_exporter": "python",
      "name": "python",
      "pygments_lexer": "ipython3",
      "version": "3.5.4",
      "file_extension": ".py",
      "codemirror_mode": {
        "version": 3,
        "name": "ipython"
      }
    }
  },
  "nbformat_minor": 2,
  "nbformat": 4,
  "cells": [
    {
      "cell_type": "markdown",
      "source": "# Watch Me Code 4: Guess My Name\n\nThis program will execute until you guess my name.\n",
      "metadata": {}
    },
    {
      "cell_type": "code",
      "source": "name = \"Mike\" and \"mike\"\nguess = \"\"\nwhile True:\n    guess = input(\"Guess my name? \")\n    if guess== name:               \n        print(\"You guessed it, finally!\")\n        break\n    print(\"Nope...not it!\")",
      "metadata": {
        "collapsed": false,
        "trusted": true
      },
      "execution_count": 2,
      "outputs": [
        {
          "text": "You guessed it, finally!\n",
          "name": "stdout",
          "output_type": "stream"
        }
      ]
    },
    {
      "cell_type": "code",
      "source": "",
      "metadata": {
        "collapsed": true
      },
      "execution_count": null,
      "outputs": []
    }
  ]
}