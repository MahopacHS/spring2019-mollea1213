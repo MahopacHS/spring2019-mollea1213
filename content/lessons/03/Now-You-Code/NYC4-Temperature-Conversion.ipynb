{
  "metadata": {
    "anaconda-cloud": {},
    "kernelspec": {
      "name": "python3",
      "display_name": "Python 3",
      "language": "python"
    },
    "language_info": {
      "mimetype": "text/x-python",
      "nbconvert_exporter": "python",
      "name": "python",
      "file_extension": ".py",
      "version": "3.5.4",
      "pygments_lexer": "ipython3",
      "codemirror_mode": {
        "version": 3,
        "name": "ipython"
      }
    }
  },
  "nbformat_minor": 2,
  "nbformat": 4,
  "cells": [
    {
      "cell_type": "markdown",
      "source": "# Now You Code 4: Temperature Conversion\n\nWrite a python program which will convert temperatures from Celcius to Fahrenheight.\nThe program should take a temperature in degrees Celcius as input and output a temperature in degrees Fahrenheight.\n\nExample:\n\n```\nEnter the temperature in Celcius: 100\n100 Celcius is 212 Fahrenheight\n```\n\nHINT: Use the web to find the formula to convert from Celcius to Fahrenheight.\n",
      "metadata": {}
    },
    {
      "cell_type": "markdown",
      "source": "## Step 1: Problem Analysis\n\nInputs:\n\nCelcius_temp\n\nOutputs:\n\nFarhenheit_temp\n\nAlgorithm (Steps in Program):\n\n\n",
      "metadata": {}
    },
    {
      "cell_type": "code",
      "source": "celcius_temp = float(input(\"Enter the temperature in celcius: \"))\nprint(\"The temperature in celcius is %.2f\" % (celcius_temp))\nfahrenheit_temp = celcius_temp * (9 / 5) + 32\nprint(\"The temperature in fahrenheit %.2f\" % (fahrenheit_temp))\n\n\n",
      "metadata": {
        "trusted": true
      },
      "execution_count": 23,
      "outputs": [
        {
          "text": "The temperature in celcius is -32.00\nThe temperature in fahrenheit -25.60\n",
          "name": "stdout",
          "output_type": "stream"
        }
      ]
    },
    {
      "cell_type": "markdown",
      "source": "## Step 3: Questions\n\n1. Why does the program still run when you enter a negative number for temperature? Is this an error?\n\nThis is not an error, temperature can be negative.\n\n2. Would it be difficult to write a program which did the opposite (conversion F to C)? Explain.\n\nNo, you could just look up the reverse equation online and use that.\n\n3. Did you store the conversion in a variable before printing it on the last line? I argue this makes your program easier to understand. Why?\n\nYes,it's easier because you don't have to include the math in the print line which could get messy.\n",
      "metadata": {}
    },
    {
      "cell_type": "markdown",
      "source": "## Reminder of Evaluation Criteria\n\n1. What the problem attempted (analysis, code, and answered questions) ?\n2. What the problem analysis thought out? (does the program match the plan?)\n3. Does the code execute without syntax error?\n4. Does the code solve the intended problem?\n5. Is the code well written? (easy to understand, modular, and self-documenting, handles errors)\n",
      "metadata": {}
    },
    {
      "cell_type": "code",
      "source": "",
      "metadata": {
        "collapsed": true
      },
      "execution_count": null,
      "outputs": []
    }
  ]
}