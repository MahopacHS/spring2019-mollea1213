{
  "metadata": {
    "anaconda-cloud": {},
    "kernelspec": {
      "display_name": "Python 3",
      "language": "python",
      "name": "python3"
    },
    "language_info": {
      "mimetype": "text/x-python",
      "nbconvert_exporter": "python",
      "name": "python",
      "file_extension": ".py",
      "version": "3.5.4",
      "pygments_lexer": "ipython3",
      "codemirror_mode": {
        "version": 3,
        "name": "ipython"
      }
    }
  },
  "nbformat_minor": 2,
  "nbformat": 4,
  "cells": [
    {
      "cell_type": "markdown",
      "source": "# Watch Me Code 1: List Enumeration & Aggregates\n",
      "metadata": {}
    },
    {
      "cell_type": "code",
      "source": "quizzes = [5,5,4,2,2,4,5,3]",
      "metadata": {
        "collapsed": true
      },
      "execution_count": 6,
      "outputs": []
    },
    {
      "cell_type": "code",
      "source": "# definiate loop\nfor quiz in quizzes:\n    print(\"Grade:\", quiz)",
      "metadata": {
        "collapsed": false
      },
      "execution_count": 2,
      "outputs": [
        {
          "name": "stdout",
          "output_type": "stream",
          "text": "Grade: 5\nGrade: 5\nGrade: 4\nGrade: 2\nGrade: 2\nGrade: 4\nGrade: 5\nGrade: 3\n"
        }
      ]
    },
    {
      "cell_type": "code",
      "source": "# definite loop with indexes\nprint(len(quizzes))\nfor i in range(len(quizzes)):\n    print(\"Quiz %d Grade: %d\" %( i, quizzes[i]))",
      "metadata": {
        "collapsed": false
      },
      "execution_count": 3,
      "outputs": [
        {
          "name": "stdout",
          "output_type": "stream",
          "text": "8\nQuiz 0 Grade: 5\nQuiz 1 Grade: 5\nQuiz 2 Grade: 4\nQuiz 3 Grade: 2\nQuiz 4 Grade: 2\nQuiz 5 Grade: 4\nQuiz 6 Grade: 5\nQuiz 7 Grade: 3\n"
        }
      ]
    },
    {
      "cell_type": "code",
      "source": "# indexes\n#print(quizzes[0]) # first\n#print(quizzes[-1]) # last\n\nprint(quizzes)\n# mutable\nquizzes[1] = 0\nprint(quizzes)\n\n#slices \nprint(quizzes[0:3])\nprint(quizzes[3:])",
      "metadata": {
        "collapsed": false
      },
      "execution_count": 7,
      "outputs": [
        {
          "name": "stdout",
          "output_type": "stream",
          "text": "[5, 5, 4, 2, 2, 4, 5, 3]\n[5, 0, 4, 2, 2, 4, 5, 3]\n[5, 0, 4]\n[2, 2, 4, 5, 3]\n"
        }
      ]
    },
    {
      "cell_type": "code",
      "source": "# aggregations\nprint(\"Count\",len(quizzes))\nprint(\"Total\", sum(quizzes))\nprint(\"Average\", sum(quizzes)/len(quizzes))",
      "metadata": {
        "collapsed": false
      },
      "execution_count": 8,
      "outputs": [
        {
          "name": "stdout",
          "output_type": "stream",
          "text": "Count 8\nTotal 25\nAverage 3.125\n"
        }
      ]
    },
    {
      "cell_type": "code",
      "source": "grades = [\"A\", \"B+\", \"A\", \"C+\", \"B-\"]\ngrades[:2]",
      "metadata": {
        "collapsed": false
      },
      "execution_count": 9,
      "outputs": [
        {
          "execution_count": 9,
          "output_type": "execute_result",
          "data": {
            "text/plain": "['A', 'B+']"
          },
          "metadata": {}
        }
      ]
    },
    {
      "cell_type": "code",
      "source": "print(grades)",
      "metadata": {
        "collapsed": false
      },
      "execution_count": 10,
      "outputs": [
        {
          "name": "stdout",
          "output_type": "stream",
          "text": "['A', 'B+', 'A', 'C+', 'B-']\n"
        }
      ]
    },
    {
      "cell_type": "code",
      "source": "grades.append('')",
      "metadata": {
        "collapsed": true
      },
      "execution_count": null,
      "outputs": []
    }
  ]
}