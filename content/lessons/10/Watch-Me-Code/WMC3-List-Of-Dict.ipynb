{
  "metadata": {
    "anaconda-cloud": {},
    "kernelspec": {
      "display_name": "Python 3",
      "language": "python",
      "name": "python3"
    },
    "language_info": {
      "mimetype": "text/x-python",
      "nbconvert_exporter": "python",
      "name": "python",
      "file_extension": ".py",
      "version": "3.5.4",
      "pygments_lexer": "ipython3",
      "codemirror_mode": {
        "version": 3,
        "name": "ipython"
      }
    }
  },
  "nbformat_minor": 2,
  "nbformat": 4,
  "cells": [
    {
      "cell_type": "markdown",
      "source": "# Watch Me Code 3: List of Dictionary\n",
      "metadata": {}
    },
    {
      "cell_type": "code",
      "source": "students = [ \n { 'Name':'bob','GPA':3.4, 'Ischool' : True },\n { 'Name':'sue','GPA':2.8, 'Ischool' : True },\n { 'Name':'kent','GPA':4.0, 'Ischool' : False }\n]\nprint(students)",
      "metadata": {},
      "execution_count": 3,
      "outputs": [
        {
          "name": "stdout",
          "output_type": "stream",
          "text": "[{'Ischool': True, 'Name': 'bob', 'GPA': 3.4}, {'Ischool': True, 'Name': 'sue', 'GPA': 2.8}, {'Ischool': False, 'Name': 'kent', 'GPA': 4.0}]\n"
        }
      ]
    },
    {
      "cell_type": "code",
      "source": "type(students)",
      "metadata": {},
      "execution_count": 4,
      "outputs": [
        {
          "execution_count": 4,
          "output_type": "execute_result",
          "data": {
            "text/plain": "list"
          },
          "metadata": {}
        }
      ]
    },
    {
      "cell_type": "code",
      "source": "students[-1]",
      "metadata": {},
      "execution_count": 9,
      "outputs": [
        {
          "execution_count": 9,
          "output_type": "execute_result",
          "data": {
            "text/plain": "{'GPA': 4.0, 'Ischool': False, 'Name': 'kent'}"
          },
          "metadata": {}
        }
      ]
    },
    {
      "cell_type": "code",
      "source": "type(students[-1])",
      "metadata": {},
      "execution_count": 5,
      "outputs": [
        {
          "execution_count": 5,
          "output_type": "execute_result",
          "data": {
            "text/plain": "dict"
          },
          "metadata": {}
        }
      ]
    },
    {
      "cell_type": "code",
      "source": "print(students[-1])",
      "metadata": {},
      "execution_count": 6,
      "outputs": [
        {
          "name": "stdout",
          "output_type": "stream",
          "text": "{'Ischool': False, 'Name': 'kent', 'GPA': 4.0}\n"
        }
      ]
    },
    {
      "cell_type": "code",
      "source": "# print names and GPA's of just ischool students:\nfor student in students:    # list \n    if student['Ischool']:  # == True is not necessary\n        print(student['Name'], student['GPA'])",
      "metadata": {},
      "execution_count": 7,
      "outputs": [
        {
          "name": "stdout",
          "output_type": "stream",
          "text": "bob 3.4\nsue 2.8\n"
        }
      ]
    },
    {
      "cell_type": "code",
      "source": "students = [\n    {\"Name\": \"bob\", \"age\": 18, \"grades\": [70, 80, 30]},\n    {\"Name\": \"Tom\", \"age\": 20, \"grades\": [70, 80, 30]},\n    {\"Name\": \"Jerry\", \"age\": 19, \"grades\": [70, 80, 30]}\n]\n\nfor student in students:\n    print(\"Grades for: \" + student[\"Name\"])\n    for grade in student[\"grades\"]:\n        print(grade)\n        \n\n\n\n",
      "metadata": {},
      "execution_count": 7,
      "outputs": [
        {
          "name": "stdout",
          "output_type": "stream",
          "text": "Grades for: bob\n70\n80\n30\nGrades for: Tom\n70\n80\n30\nGrades for: Jerry\n70\n80\n30\n"
        }
      ]
    },
    {
      "cell_type": "code",
      "source": "",
      "metadata": {
        "collapsed": true
      },
      "execution_count": null,
      "outputs": []
    }
  ]
}