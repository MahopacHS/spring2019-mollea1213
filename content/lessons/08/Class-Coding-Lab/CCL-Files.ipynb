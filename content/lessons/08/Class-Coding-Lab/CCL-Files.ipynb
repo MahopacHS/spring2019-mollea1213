{
  "metadata": {
    "anaconda-cloud": {},
    "kernelspec": {
      "name": "python3",
      "display_name": "Python 3",
      "language": "python"
    },
    "language_info": {
      "mimetype": "text/x-python",
      "nbconvert_exporter": "python",
      "name": "python",
      "file_extension": ".py",
      "version": "3.5.4",
      "pygments_lexer": "ipython3",
      "codemirror_mode": {
        "version": 3,
        "name": "ipython"
      }
    }
  },
  "nbformat_minor": 2,
  "nbformat": 4,
  "cells": [
    {
      "cell_type": "markdown",
      "source": "# In-Class Coding Lab: Files\n\nThe goals of this lab are to help you to understand:\n\n- Reading data from a file all at once or one line at a time.\n- Searching for data in files\n- Parsing text data to numerical data.\n- How to build complex programs incrementally.\n\n## Average  Spam Confidence\n\nFor this lab, we will write a program to read spam confidence headers from a mailbox file like `ICCL-mbox-tiny.txt` or `ICCL-mbox-small.txt`. These files contain raw email data, and in that data is a SPAM confidence number for each message:\n\n`X-DSPAM-Confidence:0.8475`\n\nOur goal will be to find each of these lines in the file, and extract the confidence number (In this case `0.8475`), with the end-goal of calculating the average SPAM Confidence of all the emails in the file. \n\n### Reading from the file\n\nLet's start with some code to read the lines of text from `ICCL-mbox-tiny.txt`",
      "metadata": {}
    },
    {
      "cell_type": "code",
      "source": "filename = \"CCL-mbox-tiny.txt\"\nlines = 0\nwith open(filename, 'r') as f:\n    for line in f.readlines():\n        print(line.strip())\n        lines = lines + 1\nprint(lines, \"lines\")",
      "metadata": {
        "collapsed": false,
        "trusted": true
      },
      "execution_count": 16,
      "outputs": [
        {
          "text": "From stephen.marquard@uct.ac.za Sat Jan  5 09:14:16 2008\nReturn-Path: <postmaster@collab.sakaiproject.org>\nReceived: from murder (mail.umich.edu [141.211.14.90])\nby frankenstein.mail.umich.edu (Cyrus v2.3.8) with LMTPA;\nSat, 05 Jan 2008 09:14:16 -0500\nX-Sieve: CMU Sieve 2.3\nReceived: from murder ([unix socket])\nby mail.umich.edu (Cyrus v2.2.12) with LMTPA;\nSat, 05 Jan 2008 09:14:16 -0500\nReceived: from holes.mr.itd.umich.edu (holes.mr.itd.umich.edu [141.211.14.79])\nby flawless.mail.umich.edu () with ESMTP id m05EEFR1013674;\nSat, 5 Jan 2008 09:14:15 -0500\nReceived: FROM paploo.uhi.ac.uk (app1.prod.collab.uhi.ac.uk [194.35.219.184])\nBY holes.mr.itd.umich.edu ID 477F90B0.2DB2F.12494 ;\n5 Jan 2008 09:14:10 -0500\nReceived: from paploo.uhi.ac.uk (localhost [127.0.0.1])\nby paploo.uhi.ac.uk (Postfix) with ESMTP id 5F919BC2F2;\nSat,  5 Jan 2008 14:10:05 +0000 (GMT)\nMessage-ID: <200801051412.m05ECIaH010327@nakamura.uits.iupui.edu>\nMime-Version: 1.0\nContent-Transfer-Encoding: 7bit\nReceived: from prod.collab.uhi.ac.uk ([194.35.219.182])\nby paploo.uhi.ac.uk (JAMES SMTP Server 2.1.3) with SMTP ID 899\nfor <source@collab.sakaiproject.org>;\nSat, 5 Jan 2008 14:09:50 +0000 (GMT)\nReceived: from nakamura.uits.iupui.edu (nakamura.uits.iupui.edu [134.68.220.122])\nby shmi.uhi.ac.uk (Postfix) with ESMTP id A215243002\nfor <source@collab.sakaiproject.org>; Sat,  5 Jan 2008 14:13:33 +0000 (GMT)\nReceived: from nakamura.uits.iupui.edu (localhost [127.0.0.1])\nby nakamura.uits.iupui.edu (8.12.11.20060308/8.12.11) with ESMTP id m05ECJVp010329\nfor <source@collab.sakaiproject.org>; Sat, 5 Jan 2008 09:12:19 -0500\nReceived: (from apache@localhost)\nby nakamura.uits.iupui.edu (8.12.11.20060308/8.12.11/Submit) id m05ECIaH010327\nfor source@collab.sakaiproject.org; Sat, 5 Jan 2008 09:12:18 -0500\nDate: Sat, 5 Jan 2008 09:12:18 -0500\nX-Authentication-Warning: nakamura.uits.iupui.edu: apache set sender to stephen.marquard@uct.ac.za using -f\nTo: source@collab.sakaiproject.org\nFrom: stephen.marquard@uct.ac.za\nSubject: [sakai] svn commit: r39772 - content/branches/sakai_2-5-x/content-impl/impl/src/java/org/sakaiproject/content/impl\nX-Content-Type-Outer-Envelope: text/plain; charset=UTF-8\nX-Content-Type-Message-Body: text/plain; charset=UTF-8\nContent-Type: text/plain; charset=UTF-8\nX-DSPAM-Result: Innocent\nX-DSPAM-Processed: Sat Jan  5 09:14:16 2008\nX-DSPAM-Confidence: 0.8475\nX-DSPAM-Probability: 0.0000\n\nDetails: http://source.sakaiproject.org/viewsvn/?view=rev&rev=39772\n\nAuthor: stephen.marquard@uct.ac.za\nDate: 2008-01-05 09:12:07 -0500 (Sat, 05 Jan 2008)\nNew Revision: 39772\n\nModified:\ncontent/branches/sakai_2-5-x/content-impl/impl/src/java/org/sakaiproject/content/impl/ContentServiceSqlOracle.java\ncontent/branches/sakai_2-5-x/content-impl/impl/src/java/org/sakaiproject/content/impl/DbContentService.java\nLog:\nSAK-12501 merge to 2-5-x: r39622, r39624:5, r39632:3 (resolve conflict from differing linebreaks for r39622)\n\n----------------------\nThis automatic notification message was sent by Sakai Collab (https://collab.sakaiproject.org/portal) from the Source site.\nYou can modify how you receive notifications at My Workspace > Preferences.\n\n\n\nFrom louis@media.berkeley.edu Fri Jan  4 18:10:48 2008\nReturn-Path: <postmaster@collab.sakaiproject.org>\nReceived: from murder (mail.umich.edu [141.211.14.97])\nby frankenstein.mail.umich.edu (Cyrus v2.3.8) with LMTPA;\nFri, 04 Jan 2008 18:10:48 -0500\nX-Sieve: CMU Sieve 2.3\nReceived: from murder ([unix socket])\nby mail.umich.edu (Cyrus v2.2.12) with LMTPA;\nFri, 04 Jan 2008 18:10:48 -0500\nReceived: from icestorm.mr.itd.umich.edu (icestorm.mr.itd.umich.edu [141.211.93.149])\nby sleepers.mail.umich.edu () with ESMTP id m04NAbGa029441;\nFri, 4 Jan 2008 18:10:37 -0500\nReceived: FROM paploo.uhi.ac.uk (app1.prod.collab.uhi.ac.uk [194.35.219.184])\nBY icestorm.mr.itd.umich.edu ID 477EBCE3.161BB.4320 ;\n4 Jan 2008 18:10:31 -0500\nReceived: from paploo.uhi.ac.uk (localhost [127.0.0.1])\nby paploo.uhi.ac.uk (Postfix) with ESMTP id 07969BB706;\nFri,  4 Jan 2008 23:10:33 +0000 (GMT)\nMessage-ID: <200801042308.m04N8v6O008125@nakamura.uits.iupui.edu>\nMime-Version: 1.0\nContent-Transfer-Encoding: 7bit\nReceived: from prod.collab.uhi.ac.uk ([194.35.219.182])\nby paploo.uhi.ac.uk (JAMES SMTP Server 2.1.3) with SMTP ID 710\nfor <source@collab.sakaiproject.org>;\nFri, 4 Jan 2008 23:10:10 +0000 (GMT)\nReceived: from nakamura.uits.iupui.edu (nakamura.uits.iupui.edu [134.68.220.122])\nby shmi.uhi.ac.uk (Postfix) with ESMTP id 4BA2F42F57\nfor <source@collab.sakaiproject.org>; Fri,  4 Jan 2008 23:10:10 +0000 (GMT)\nReceived: from nakamura.uits.iupui.edu (localhost [127.0.0.1])\nby nakamura.uits.iupui.edu (8.12.11.20060308/8.12.11) with ESMTP id m04N8vHG008127\nfor <source@collab.sakaiproject.org>; Fri, 4 Jan 2008 18:08:57 -0500\nReceived: (from apache@localhost)\nby nakamura.uits.iupui.edu (8.12.11.20060308/8.12.11/Submit) id m04N8v6O008125\nfor source@collab.sakaiproject.org; Fri, 4 Jan 2008 18:08:57 -0500\nDate: Fri, 4 Jan 2008 18:08:57 -0500\nX-Authentication-Warning: nakamura.uits.iupui.edu: apache set sender to louis@media.berkeley.edu using -f\nTo: source@collab.sakaiproject.org\nFrom: louis@media.berkeley.edu\nSubject: [sakai] svn commit: r39771 - in bspace/site-manage/sakai_2-4-x/site-manage-tool/tool/src: bundle java/org/sakaiproject/site/tool\nX-Content-Type-Outer-Envelope: text/plain; charset=UTF-8\nX-Content-Type-Message-Body: text/plain; charset=UTF-8\nContent-Type: text/plain; charset=UTF-8\nX-DSPAM-Result: Innocent\nX-DSPAM-Processed: Fri Jan  4 18:10:48 2008\nX-DSPAM-Confidence: 0.6178\nX-DSPAM-Probability: 0.0000\n\nDetails: http://source.sakaiproject.org/viewsvn/?view=rev&rev=39771\n\nAuthor: louis@media.berkeley.edu\nDate: 2008-01-04 18:08:50 -0500 (Fri, 04 Jan 2008)\nNew Revision: 39771\n\nModified:\nbspace/site-manage/sakai_2-4-x/site-manage-tool/tool/src/bundle/sitesetupgeneric.properties\nbspace/site-manage/sakai_2-4-x/site-manage-tool/tool/src/java/org/sakaiproject/site/tool/SiteAction.java\nLog:\nBSP-1415 New (Guest) user Notification\n\n----------------------\nThis automatic notification message was sent by Sakai Collab (https://collab.sakaiproject.org/portal) from the Source site.\nYou can modify how you receive notifications at My Workspace > Preferences.\n\n\n\nFrom zqian@umich.edu Fri Jan  4 16:10:39 2008\nReturn-Path: <postmaster@collab.sakaiproject.org>\nReceived: from murder (mail.umich.edu [141.211.14.25])\nby frankenstein.mail.umich.edu (Cyrus v2.3.8) with LMTPA;\nFri, 04 Jan 2008 16:10:39 -0500\nX-Sieve: CMU Sieve 2.3\nReceived: from murder ([unix socket])\nby mail.umich.edu (Cyrus v2.2.12) with LMTPA;\nFri, 04 Jan 2008 16:10:39 -0500\nReceived: from ghostbusters.mr.itd.umich.edu (ghostbusters.mr.itd.umich.edu [141.211.93.144])\nby panther.mail.umich.edu () with ESMTP id m04LAcZw014275;\nFri, 4 Jan 2008 16:10:38 -0500\nReceived: FROM paploo.uhi.ac.uk (app1.prod.collab.uhi.ac.uk [194.35.219.184])\nBY ghostbusters.mr.itd.umich.edu ID 477EA0C6.A0214.25480 ;\n4 Jan 2008 16:10:33 -0500\nReceived: from paploo.uhi.ac.uk (localhost [127.0.0.1])\nby paploo.uhi.ac.uk (Postfix) with ESMTP id C48CDBB490;\nFri,  4 Jan 2008 21:10:31 +0000 (GMT)\nMessage-ID: <200801042109.m04L92hb007923@nakamura.uits.iupui.edu>\nMime-Version: 1.0\nContent-Transfer-Encoding: 7bit\nReceived: from prod.collab.uhi.ac.uk ([194.35.219.182])\nby paploo.uhi.ac.uk (JAMES SMTP Server 2.1.3) with SMTP ID 906\nfor <source@collab.sakaiproject.org>;\nFri, 4 Jan 2008 21:10:18 +0000 (GMT)\nReceived: from nakamura.uits.iupui.edu (nakamura.uits.iupui.edu [134.68.220.122])\nby shmi.uhi.ac.uk (Postfix) with ESMTP id 7D13042F71\nfor <source@collab.sakaiproject.org>; Fri,  4 Jan 2008 21:10:14 +0000 (GMT)\nReceived: from nakamura.uits.iupui.edu (localhost [127.0.0.1])\nby nakamura.uits.iupui.edu (8.12.11.20060308/8.12.11) with ESMTP id m04L927E007925\nfor <source@collab.sakaiproject.org>; Fri, 4 Jan 2008 16:09:02 -0500\nReceived: (from apache@localhost)\nby nakamura.uits.iupui.edu (8.12.11.20060308/8.12.11/Submit) id m04L92hb007923\nfor source@collab.sakaiproject.org; Fri, 4 Jan 2008 16:09:02 -0500\nDate: Fri, 4 Jan 2008 16:09:02 -0500\nX-Authentication-Warning: nakamura.uits.iupui.edu: apache set sender to zqian@umich.edu using -f\nTo: source@collab.sakaiproject.org\nFrom: zqian@umich.edu\nSubject: [sakai] svn commit: r39770 - site-manage/branches/sakai_2-5-x/site-manage-tool/tool/src/webapp/vm/sitesetup\nX-Content-Type-Outer-Envelope: text/plain; charset=UTF-8\nX-Content-Type-Message-Body: text/plain; charset=UTF-8\nContent-Type: text/plain; charset=UTF-8\nX-DSPAM-Result: Innocent\nX-DSPAM-Processed: Fri Jan  4 16:10:39 2008\nX-DSPAM-Confidence: 0.6961\nX-DSPAM-Probability: 0.0000\n\nDetails: http://source.sakaiproject.org/viewsvn/?view=rev&rev=39770\n\nAuthor: zqian@umich.edu\nDate: 2008-01-04 16:09:01 -0500 (Fri, 04 Jan 2008)\nNew Revision: 39770\n\nModified:\nsite-manage/branches/sakai_2-5-x/site-manage-tool/tool/src/webapp/vm/sitesetup/chef_site-siteInfo-list.vm\nLog:\nmerge fix to SAK-9996 into 2-5-x branch: svn merge -r 39687:39688 https://source.sakaiproject.org/svn/site-manage/trunk/\n\n----------------------\nThis automatic notification message was sent by Sakai Collab (https://collab.sakaiproject.org/portal) from the Source site.\nYou can modify how you receive notifications at My Workspace > Preferences.\n\n\n\nFrom rjlowe@iupui.edu Fri Jan  4 15:46:24 2008\nReturn-Path: <postmaster@collab.sakaiproject.org>\nReceived: from murder (mail.umich.edu [141.211.14.25])\nby frankenstein.mail.umich.edu (Cyrus v2.3.8) with LMTPA;\nFri, 04 Jan 2008 15:46:24 -0500\nX-Sieve: CMU Sieve 2.3\nReceived: from murder ([unix socket])\nby mail.umich.edu (Cyrus v2.2.12) with LMTPA;\nFri, 04 Jan 2008 15:46:24 -0500\nReceived: from dreamcatcher.mr.itd.umich.edu (dreamcatcher.mr.itd.umich.edu [141.211.14.43])\nby panther.mail.umich.edu () with ESMTP id m04KkNbx032077;\nFri, 4 Jan 2008 15:46:23 -0500\nReceived: FROM paploo.uhi.ac.uk (app1.prod.collab.uhi.ac.uk [194.35.219.184])\nBY dreamcatcher.mr.itd.umich.edu ID 477E9B13.2F3BC.22965 ;\n4 Jan 2008 15:46:13 -0500\nReceived: from paploo.uhi.ac.uk (localhost [127.0.0.1])\nby paploo.uhi.ac.uk (Postfix) with ESMTP id 4AE03BB552;\nFri,  4 Jan 2008 20:46:13 +0000 (GMT)\nMessage-ID: <200801042044.m04Kiem3007881@nakamura.uits.iupui.edu>\nMime-Version: 1.0\nContent-Transfer-Encoding: 7bit\nReceived: from prod.collab.uhi.ac.uk ([194.35.219.182])\nby paploo.uhi.ac.uk (JAMES SMTP Server 2.1.3) with SMTP ID 38\nfor <source@collab.sakaiproject.org>;\nFri, 4 Jan 2008 20:45:56 +0000 (GMT)\nReceived: from nakamura.uits.iupui.edu (nakamura.uits.iupui.edu [134.68.220.122])\nby shmi.uhi.ac.uk (Postfix) with ESMTP id A55D242F57\nfor <source@collab.sakaiproject.org>; Fri,  4 Jan 2008 20:45:52 +0000 (GMT)\nReceived: from nakamura.uits.iupui.edu (localhost [127.0.0.1])\nby nakamura.uits.iupui.edu (8.12.11.20060308/8.12.11) with ESMTP id m04KieqE007883\nfor <source@collab.sakaiproject.org>; Fri, 4 Jan 2008 15:44:40 -0500\nReceived: (from apache@localhost)\nby nakamura.uits.iupui.edu (8.12.11.20060308/8.12.11/Submit) id m04Kiem3007881\nfor source@collab.sakaiproject.org; Fri, 4 Jan 2008 15:44:40 -0500\nDate: Fri, 4 Jan 2008 15:44:40 -0500\nX-Authentication-Warning: nakamura.uits.iupui.edu: apache set sender to rjlowe@iupui.edu using -f\nTo: source@collab.sakaiproject.org\nFrom: rjlowe@iupui.edu\nSubject: [sakai] svn commit: r39769 - in gradebook/trunk/app/ui/src: java/org/sakaiproject/tool/gradebook/ui/helpers/beans java/org/sakaiproject/tool/gradebook/ui/helpers/producers webapp/WEB-INF webapp/WEB-INF/bundle\nX-Content-Type-Outer-Envelope: text/plain; charset=UTF-8\nX-Content-Type-Message-Body: text/plain; charset=UTF-8\nContent-Type: text/plain; charset=UTF-8\nX-DSPAM-Result: Innocent\nX-DSPAM-Processed: Fri Jan  4 15:46:24 2008\nX-DSPAM-Confidence: 0.7565\nX-DSPAM-Probability: 0.0000\n\nDetails: http://source.sakaiproject.org/viewsvn/?view=rev&rev=39769\n\nAuthor: rjlowe@iupui.edu\nDate: 2008-01-04 15:44:39 -0500 (Fri, 04 Jan 2008)\nNew Revision: 39769\n\nModified:\ngradebook/trunk/app/ui/src/java/org/sakaiproject/tool/gradebook/ui/helpers/beans/AssignmentGradeRecordBean.java\ngradebook/trunk/app/ui/src/java/org/sakaiproject/tool/gradebook/ui/helpers/producers/GradeGradebookItemProducer.java\ngradebook/trunk/app/ui/src/webapp/WEB-INF/applicationContext.xml\ngradebook/trunk/app/ui/src/webapp/WEB-INF/bundle/messages.properties\ngradebook/trunk/app/ui/src/webapp/WEB-INF/requestContext.xml\nLog:\nSAK-12180 - Fixed errors with grading helper\n\n----------------------\nThis automatic notification message was sent by Sakai Collab (https://collab.sakaiproject.org/portal) from the Source site.\nYou can modify how you receive notifications at My Workspace > Preferences.\n\n\n\nFrom zqian@umich.edu Fri Jan  4 15:03:18 2008\nReturn-Path: <postmaster@collab.sakaiproject.org>\nReceived: from murder (mail.umich.edu [141.211.14.46])\nby frankenstein.mail.umich.edu (Cyrus v2.3.8) with LMTPA;\nFri, 04 Jan 2008 15:03:18 -0500\nX-Sieve: CMU Sieve 2.3\nReceived: from murder ([unix socket])\nby mail.umich.edu (Cyrus v2.2.12) with LMTPA;\nFri, 04 Jan 2008 15:03:18 -0500\nReceived: from firestarter.mr.itd.umich.edu (firestarter.mr.itd.umich.edu [141.211.14.83])\nby fan.mail.umich.edu () with ESMTP id m04K3HGF006563;\nFri, 4 Jan 2008 15:03:17 -0500\nReceived: FROM paploo.uhi.ac.uk (app1.prod.collab.uhi.ac.uk [194.35.219.184])\nBY firestarter.mr.itd.umich.edu ID 477E9100.8F7F4.1590 ;\n4 Jan 2008 15:03:15 -0500\nReceived: from paploo.uhi.ac.uk (localhost [127.0.0.1])\nby paploo.uhi.ac.uk (Postfix) with ESMTP id 57770BB477;\nFri,  4 Jan 2008 20:03:09 +0000 (GMT)\nMessage-ID: <200801042001.m04K1cO0007738@nakamura.uits.iupui.edu>\nMime-Version: 1.0\nContent-Transfer-Encoding: 7bit\nReceived: from prod.collab.uhi.ac.uk ([194.35.219.182])\nby paploo.uhi.ac.uk (JAMES SMTP Server 2.1.3) with SMTP ID 622\nfor <source@collab.sakaiproject.org>;\nFri, 4 Jan 2008 20:02:46 +0000 (GMT)\nReceived: from nakamura.uits.iupui.edu (nakamura.uits.iupui.edu [134.68.220.122])\nby shmi.uhi.ac.uk (Postfix) with ESMTP id AB4D042F4D\nfor <source@collab.sakaiproject.org>; Fri,  4 Jan 2008 20:02:50 +0000 (GMT)\nReceived: from nakamura.uits.iupui.edu (localhost [127.0.0.1])\nby nakamura.uits.iupui.edu (8.12.11.20060308/8.12.11) with ESMTP id m04K1cXv007740\nfor <source@collab.sakaiproject.org>; Fri, 4 Jan 2008 15:01:38 -0500\nReceived: (from apache@localhost)\nby nakamura.uits.iupui.edu (8.12.11.20060308/8.12.11/Submit) id m04K1cO0007738\nfor source@collab.sakaiproject.org; Fri, 4 Jan 2008 15:01:38 -0500\nDate: Fri, 4 Jan 2008 15:01:38 -0500\nX-Authentication-Warning: nakamura.uits.iupui.edu: apache set sender to zqian@umich.edu using -f\nTo: source@collab.sakaiproject.org\nFrom: zqian@umich.edu\nSubject: [sakai] svn commit: r39766 - site-manage/branches/sakai_2-4-x/site-manage-tool/tool/src/java/org/sakaiproject/site/tool\nX-Content-Type-Outer-Envelope: text/plain; charset=UTF-8\nX-Content-Type-Message-Body: text/plain; charset=UTF-8\nContent-Type: text/plain; charset=UTF-8\nX-DSPAM-Result: Innocent\nX-DSPAM-Processed: Fri Jan  4 15:03:18 2008\nX-DSPAM-Confidence: 0.7626\nX-DSPAM-Probability: 0.0000\n\nDetails: http://source.sakaiproject.org/viewsvn/?view=rev&rev=39766\n\nAuthor: zqian@umich.edu\nDate: 2008-01-04 15:01:37 -0500 (Fri, 04 Jan 2008)\nNew Revision: 39766\n\nModified:\nsite-manage/branches/sakai_2-4-x/site-manage-tool/tool/src/java/org/sakaiproject/site/tool/SiteAction.java\nLog:\nmerge fix to SAK-10788 into site-manage 2.4.x branch:\n\nSakai Source Repository  \t#38024  \tWed Nov 07 14:54:46 MST 2007  \tzqian@umich.edu  \t Fix to SAK-10788: If a provided id in a couse site is fake or doesn't provide any user information, Site Info appears to be like project site with empty participant list\n\nWatch for enrollments object being null and concatenate provider ids when there are more than one.\nFiles Changed\nMODIFY /site-manage/trunk/site-manage-tool/tool/src/java/org/sakaiproject/site/tool/SiteAction.java\n\n\n\n\n----------------------\nThis automatic notification message was sent by Sakai Collab (https://collab.sakaiproject.org/portal) from the Source site.\nYou can modify how you receive notifications at My Workspace > Preferences.\n332 lines\n",
          "name": "stdout",
          "output_type": "stream"
        }
      ]
    },
    {
      "cell_type": "markdown",
      "source": "### Now Try It\n\nNow modify the code above to print the number of lines in the file, instead of printing the lines themselves. You'll need to increment a variable each time through the loop and then print it out afterwards.\n\nThere should be **332** lines.\n\n### Finding the SPAM Confidence\n\nNext, we'll focus on only getting lines addressing `X-DSPAM-Confidence:`. We do this by including an `if` statement inside  the `for` loop.\n\nYou need to edit line 4 of the code below to only print lines which begin with `X-DSPAM-Confidence:` There should be **5**",
      "metadata": {}
    },
    {
      "cell_type": "code",
      "source": "filename = \"CCL-mbox-tiny.txt\"\ntotal = 0\nwith open(filename, 'r') as f:\n    for line in f.readlines():\n        if line.startswith('X-DSPAM-Confidence'):\n            print(line)\n            \n",
      "metadata": {
        "collapsed": false,
        "trusted": true
      },
      "execution_count": 20,
      "outputs": [
        {
          "text": "X-DSPAM-Confidence: 0.8475\n\nX-DSPAM-Confidence: 0.6178\n\nX-DSPAM-Confidence: 0.6961\n\nX-DSPAM-Confidence: 0.7565\n\nX-DSPAM-Confidence: 0.7626\n\n",
          "name": "stdout",
          "output_type": "stream"
        }
      ]
    },
    {
      "cell_type": "markdown",
      "source": "### Parsing out the confidence value\n\nThe final step is to figure out how to parse out the confidence value from the string. \nFor example for the given line: `X-DSPAM-Confidence: 0.8475` we need to get the value `0.8475` as a float.\n\nThe  strategy here is to replace `X-DSPAM-Confidence:` with an empty string, then calling the `float()` function to convert the results to a float. \n\n### Now Try It\n",
      "metadata": {}
    },
    {
      "cell_type": "code",
      "source": "line = 'X-DSPAM-Confidence: 0.8475'\nnumber = line.replace('X-DSPAM-Confidence:', '')\nfloat(number)\nprint (number)",
      "metadata": {
        "collapsed": false,
        "trusted": true
      },
      "execution_count": 28,
      "outputs": [
        {
          "text": " 0.8475\n",
          "name": "stdout",
          "output_type": "stream"
        }
      ]
    },
    {
      "cell_type": "markdown",
      "source": "### Putting it all together\n\nNow that we have all the working parts, let's put it all together.\n\n```\n1.  line count is 0\n2.  total confidence is 0\n3.  open mailbox file\n4.  for each line in file\n5.  if line starts with `X-DSPAM-Confidence:`\n6.     remove `X-DSPAM-Confidence:` from line and convert to float\n7.     increment line count\n8.     add spam confidence to total confidence\n9.  print average confidence (total confidence/line count)\n```",
      "metadata": {}
    },
    {
      "cell_type": "code",
      "source": "## TODO: Write program here:\ntotal = 0\nline_count = 0\nfilename = \"CCL-mbox-tiny.txt\"\nwith open(filename, 'r') as f:\n    for line in f.readlines():\n        if line.startswith('X-DSPAM-Confidence'):\n            line = 'X-DSPAM-Confidence: 0.8475'\n            number = float(line.replace('X-DSPAM-Confidence:', ''))\n            line_count = line_count + 1\n            total = number + total\nprint(\"The average confidence is: \", total / line_count )",
      "metadata": {
        "collapsed": true,
        "trusted": true
      },
      "execution_count": 48,
      "outputs": [
        {
          "text": "The average confidence is:  0.8474999999999999\n",
          "name": "stdout",
          "output_type": "stream"
        }
      ]
    },
    {
      "cell_type": "markdown",
      "source": "When you have the program working, try it with `ICCL-mbox-short.txt` mailbox file, too.",
      "metadata": {}
    }
  ]
}