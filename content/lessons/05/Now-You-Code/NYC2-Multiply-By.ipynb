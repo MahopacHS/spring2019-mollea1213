{
  "metadata": {
    "anaconda-cloud": {},
    "kernelspec": {
      "name": "python3",
      "display_name": "Python 3",
      "language": "python"
    },
    "language_info": {
      "mimetype": "text/x-python",
      "nbconvert_exporter": "python",
      "name": "python",
      "pygments_lexer": "ipython3",
      "version": "3.5.4",
      "file_extension": ".py",
      "codemirror_mode": {
        "version": 3,
        "name": "ipython"
      }
    }
  },
  "nbformat_minor": 2,
  "nbformat": 4,
  "cells": [
    {
      "cell_type": "markdown",
      "source": "# Now You Code 2: Multiply By\n\nWrite a program to ask for a number to multiply by and then lists the multiplication table for that number from 1 to 10. This process will repeat until you enter quit as which point the program will exit.\n\nWow. Seems complicated! We'll use technique called problem simplification to make this problem a little easier to solve.\n\nFirst we'll write a complete program to solve *part* of the problem, then we will take our new level of understanding to solve the *entire* problem.\n\n## Start with Sub-Problem 1\n\nLet's write a program to simply input a number and then uses a loop to print out the multiplication table up to 10  for that number. \n\nFor example, when you input `5`:\n\n```\nEnter number to multiply by: 5\n1 x 5 = 5\n2 x 5 = 10\n3 x 5 = 15\n4 x 5 = 20\n5 x 5 = 25\n6 x 5 = 30\n7 x 5 = 35\n8 x 5 = 40\n9 x 5 = 45\n10 x 5 = 50\n```\n",
      "metadata": {}
    },
    {
      "cell_type": "markdown",
      "source": "## Step 1: Problem Analysis for Sub-Problem 1\nInputs:\n\nEnter number to multiply by:\n\nOutputs:\n\ntotal * number\n\nAlgorithm (Steps in Program):\n\ninput number\ntotal = 0\nwhile true\nincrement total\nmultiply up to 10\nprint total * number",
      "metadata": {}
    },
    {
      "cell_type": "code",
      "source": "# Step 2: write code for sub-problem 1\nnumber = int(input(\"Enter a number to multiply by: \"))\ntotal = 0\nwhile True:\n    total = total + 1\n    if total <= 10:\n        print(total * number)",
      "metadata": {
        "collapsed": false,
        "trusted": true
      },
      "execution_count": null,
      "outputs": []
    },
    {
      "cell_type": "markdown",
      "source": "# Full Problem \n\nNow that we've got part of the problem figured out, let's solve the entire problem. The program should keep asking for numbers and then print out multiplcation tables until you enter `quit`. Here's an example:\n\nExample Run:\n\n```\nEnter number to multiply by or type 'quit': 10\n1 x 10 = 10\n2 x 10 = 20\n3 x 10 = 30\n4 x 10 = 40\n5 x 10 = 50\n6 x 10 = 60\n7 x 10 = 70\n8 x 10 = 80\n9 x 10 = 90\n10 x 10 = 100\nEnter number to multiply by or type 'quit': 5\n1 x 5 = 5\n2 x 5 = 10\n3 x 5 = 15\n4 x 5 = 20\n5 x 5 = 25\n6 x 5 = 30\n7 x 5 = 35\n8 x 5 = 40\n9 x 5 = 45\n10 x 5 = 50\nEnter number to multiply by or type 'quit': quit\n```\n\n**NOTE:** you need another loop complete this program. Take the code you wrote in the first part and repeat it in another loop until you type quit. ",
      "metadata": {}
    },
    {
      "cell_type": "markdown",
      "source": "## Step 3: Problem Analysis for Full Problem\n\nInputs:\n\nnumber\nenter 'quit' or press enter\n\nOutputs:\n\nenter a number\nprint number and its multiplication tables\nask to quit or continue\n\nAlgorithm (Steps in Program):\n\nask for number \ntotal = 0\n",
      "metadata": {}
    },
    {
      "cell_type": "code",
      "source": "# Step 4: Write code for full problem\nnumber = int(input(\"Enter a number to multiply by: \"))\ntotal = 0\nwhile True:\n    total = total + 1\n    if total <= 10:\n        print(total * number)\n    if total > 10:\n        exit = input(\"Enter 'quit' to stop or enter to continue. \")\n        if exit == quit :\n            break\n        else:\n            number = int(input(\"Enter a number to multiply by: \"))\n            total = 0\n        while True:\n            total = total + 1\n            if total <= 10:\n                 print(total * number)\n            if total > 10:\n                  exit = input(\"Enter 'quit' to stop or enter to continue \")\n            if exit == quit:\n                  break",
      "metadata": {
        "collapsed": true,
        "trusted": true
      },
      "execution_count": null,
      "outputs": []
    },
    {
      "cell_type": "markdown",
      "source": "## Step 3: Questions\n\n1. What is the loop control variable for the first (outer) loop? while true\n2. What is the loop control variable for the second (inner) loop? while true\n3. Provide at least one way this program can be improved, or make more flexible by introducing more inputs?\n\ninclude a failsafe for if a user enters a wrong kind of input.\n",
      "metadata": {}
    },
    {
      "cell_type": "markdown",
      "source": "## Reminder of Evaluation Criteria\n\n1. What the problem attempted (analysis, code, and answered questions) ?\n2. What the problem analysis thought out? (does the program match the plan?)\n3. Does the code execute without syntax error?\n4. Does the code solve the intended problem?\n5. Is the code well written? (easy to understand, modular, and self-documenting, handles errors)\n",
      "metadata": {}
    },
    {
      "cell_type": "code",
      "source": "",
      "metadata": {
        "collapsed": true
      },
      "execution_count": null,
      "outputs": []
    }
  ]
}