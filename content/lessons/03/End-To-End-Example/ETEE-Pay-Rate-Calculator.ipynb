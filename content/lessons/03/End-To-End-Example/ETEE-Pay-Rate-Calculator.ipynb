{
  "metadata": {
    "anaconda-cloud": {},
    "kernelspec": {
      "name": "python3",
      "display_name": "Python 3",
      "language": "python"
    },
    "language_info": {
      "mimetype": "text/x-python",
      "nbconvert_exporter": "python",
      "name": "python",
      "pygments_lexer": "ipython3",
      "version": "3.5.4",
      "file_extension": ".py",
      "codemirror_mode": {
        "version": 3,
        "name": "ipython"
      }
    }
  },
  "nbformat_minor": 2,
  "nbformat": 4,
  "cells": [
    {
      "cell_type": "markdown",
      "source": "# End-To-End Example: Pay Rate Calculator\nWrite a program to prompt for inputs hourly rate and hours worked, then output total pay. Then input tax rate and output net pay.\n\nProcedure:\n\n- write to do list\n- write initial code\n- re-write code to be better",
      "metadata": {}
    },
    {
      "cell_type": "code",
      "source": "# TODO List:\nhourly_rate = float(input(\"Enter hourly rate: \")) # input hourly rate\nhours_worked = float(input(\"Enter Hours Worked: \")) # input hours worked\ntotal_pay = hourly_rate * hours_worked # calculate total pay\nprint(\"Total Pay: $%.2f\" % (total_pay)) # output total pay\ntax_rate = float(input(\"Enter Tax Rate: \")) # input tax rate\nnet_pay = (1- tax_rate) * total_pay # calculate net pay\nprint(\"Net Pay: $%.2f\" % (net_pay)) # output net pay",
      "metadata": {
        "collapsed": false,
        "trusted": true
      },
      "execution_count": 4,
      "outputs": [
        {
          "text": "Total Pay: $1100.00\nNet Pay: $935.00\n",
          "name": "stdout",
          "output_type": "stream"
        }
      ]
    },
    {
      "cell_type": "code",
      "source": "",
      "metadata": {
        "collapsed": true
      },
      "execution_count": null,
      "outputs": []
    }
  ]
}