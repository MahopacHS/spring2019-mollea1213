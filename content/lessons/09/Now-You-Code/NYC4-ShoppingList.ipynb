{
  "metadata": {
    "anaconda-cloud": {},
    "kernelspec": {
      "name": "python36",
      "display_name": "Python 3.6",
      "language": "python"
    },
    "language_info": {
      "mimetype": "text/x-python",
      "nbconvert_exporter": "python",
      "name": "python",
      "pygments_lexer": "ipython3",
      "version": "3.6.6",
      "file_extension": ".py",
      "codemirror_mode": {
        "version": 3,
        "name": "ipython"
      }
    }
  },
  "nbformat_minor": 2,
  "nbformat": 4,
  "cells": [
    {
      "cell_type": "markdown",
      "source": "# Now You Code 4: Shopping List\n\nWrite a simple shopping list program. Use a Python `list` as a shopping list. Functions definitions have been written for you, so all you need to do is complete the code inside the function. \n\nThe main program loop has a menu allowing you to 1) add to the list 2) remove an item from the list or 3) print the list\n\nExample Run\n\n```\nA - Add Item to Shopping List\nP - Print Shopping List\nR - Remove Item from Shopping List\nQ - Quit Shopping List Program\nEnter choice: a\nEnter Item to Add: eggs\nA - Add Item to Shopping List\nP - Print Shopping List\nR - Remove Item from Shopping List\nQ - Quit Shopping List Program\nEnter choice: a\nEnter Item to Add: eggs\neggs is already in the list!\nA - Add Item to Shopping List\nP - Print Shopping List\nR - Remove Item from Shopping List\nQ - Quit Shopping List Program\nEnter choice: p\nYour List: ['eggs']\nA - Add Item to Shopping List\nP - Print Shopping List\nR - Remove Item from Shopping List\nQ - Quit Shopping List Program\nEnter choice: r\nEnter Item to Remove from List: peas\npeas is not in the list!\nA - Add Item to Shopping List\nP - Print Shopping List\nR - Remove Item from Shopping List\nQ - Quit Shopping List Program\nEnter choice: r\nEnter Item to Remove from List: eggs\nA - Add Item to Shopping List\nP - Print Shopping List\nR - Remove Item from Shopping List\nQ - Quit Shopping List Program\nEnter choice: p\nYour List: []\nA - Add Item to Shopping List\nP - Print Shopping List\nR - Remove Item from Shopping List\nQ - Quit Shopping List Program\nEnter choice: q\n```\n\nMost of the code has been written for you fill in the areas below.\n",
      "metadata": {}
    },
    {
      "cell_type": "code",
      "source": "# TODO: Write Todo lists for\n# #1 Add item to list if it does not exist\n# #2 Remove item from list when it does not exist",
      "metadata": {
        "collapsed": true
      },
      "execution_count": null,
      "outputs": []
    },
    {
      "cell_type": "code",
      "source": "def print_menu():\n    print(\"A - Add Item to Shopping List\")\n    print(\"P - Print Shopping List\")\n    print(\"R - Remove Item from Shopping List\")\n    print(\"Q - Quit Shopping List Program\")\n    return\n\n# prompts for a new item using input() then adds it to the shopping list\n# only when it does not exist\n# input: shopping list\n# output: shopping list\ndef add_item(shopping_list):\n    #todo write code here\n    item = input(\"Enter new item: \")\n    for item in shopping_list:\n        if item not in shopping_list:\n            shopping_list.append(item)\n    return shopping_list\n\n# sorts then prints the shopping list\n# input: shopping list\n# output: shopping list\ndef print_list(shopping_list):\n    #todo write code here\n    for item in shopping_list:\n        shopping_list.sort\n    return shopping_list\n\n# prompts for an item then removes it from the shopping list\n# only when it exists\n# input: shopping list\n# output: shopping list\ndef remove_item(shopping_list):\n    #todo write code here\n    remove = input(\"Enter item to remove: \")\n    for item in shopping_list:\n        if remove in shopping_list:\n            shopping_list.remove(remove)\n    return shopping_list        \n \n## Main Program Written For You\nshopping_list = []\nwhile True:\n    print_menu()\n    choice = input(\"Enter choice: \").upper()\n    if choice == 'A':\n        shopping_list = add_item(shopping_list)\n    elif choice == 'P':\n        shopping_list = print_list(shopping_list)\n    elif choice == 'R':\n        shopping_list = remove_item(shopping_list)\n    elif choice == \"Q\":\n        break\n    else:\n        print('ERROR:', choice,'is not a menu option')\n",
      "metadata": {
        "collapsed": true,
        "trusted": true
      },
      "execution_count": 9,
      "outputs": [
        {
          "text": "A - Add Item to Shopping List\nP - Print Shopping List\nR - Remove Item from Shopping List\nQ - Quit Shopping List Program\nERROR: EGGS is not a menu option\nA - Add Item to Shopping List\nP - Print Shopping List\nR - Remove Item from Shopping List\nQ - Quit Shopping List Program\n",
          "name": "stdout",
          "output_type": "stream"
        }
      ]
    },
    {
      "cell_type": "markdown",
      "source": "## Step 3: Questions\n\n1. When we write functions we usually don't have `input()` or `print()` Python functions in them, but in this solution we do. What is the advantage of doing it in this example?\n\n It allows the menu to work in a way that users have options with what to do, like choosing between adding or removing items from the list which uses the functions. \n\n2. Explain a strategy you can employ to save the list to a file and load it back. How would that work?\n\n Create a new function that opens a file and writes the list to the file\n\n3. What does the `.upper()` method function accomplish in the main program?\n\n it makes it so that there are can be no errors from the same words being capitlized or not which could mess up the program",
      "metadata": {}
    },
    {
      "cell_type": "markdown",
      "source": "## Reminder of Evaluation Criteria\n\n1. What the problem attempted (analysis, code, and answered questions) ?\n2. What the problem analysis thought out? (does the program match the plan?)\n3. Does the code execute without syntax error?\n4. Does the code solve the intended problem?\n5. Is the code well written? (easy to understand, modular, and self-documenting, handles errors)",
      "metadata": {}
    },
    {
      "cell_type": "code",
      "source": "",
      "metadata": {},
      "execution_count": null,
      "outputs": []
    }
  ]
}