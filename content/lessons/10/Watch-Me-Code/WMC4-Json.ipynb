{
  "metadata": {
    "anaconda-cloud": {},
    "kernelspec": {
      "display_name": "Python 3",
      "language": "python",
      "name": "python3"
    },
    "language_info": {
      "mimetype": "text/x-python",
      "nbconvert_exporter": "python",
      "name": "python",
      "pygments_lexer": "ipython3",
      "version": "3.5.4",
      "file_extension": ".py",
      "codemirror_mode": {
        "version": 3,
        "name": "ipython"
      }
    }
  },
  "nbformat_minor": 2,
  "nbformat": 4,
  "cells": [
    {
      "cell_type": "markdown",
      "source": "# Watch Me Code 1: JSON\n\n",
      "metadata": {}
    },
    {
      "cell_type": "code",
      "source": "import json\n\nwith open('WMC4-usinfo.json', encoding='utf8') as inf:\n    data = inf.read()\n    \ndata\n",
      "metadata": {},
      "execution_count": 1,
      "outputs": [
        {
          "execution_count": 1,
          "output_type": "execute_result",
          "data": {
            "text/plain": "'[{\"name\":\"United States\",\"topLevelDomain\":[\".us\"],\"alpha2Code\":\"US\",\"alpha3Code\":\"USA\",\"callingCodes\":[\"1\"],\"capital\":\"Washington, D.C.\",\"altSpellings\":[\"US\",\"USA\",\"United States of America\"],\"relevance\":\"3.5\",\"region\":\"Americas\",\"subregion\":\"Northern America\",\"translations\":{\"de\":\"Vereinigte Staaten von Amerika\",\"es\":\"Estados Unidos\",\"fr\":\"États-Unis\",\"ja\":\"アメリカ合衆国\",\"it\":\"Stati Uniti D\\'America\"},\"population\":321645000,\"latlng\":[38.0,-97.0],\"demonym\":\"American\",\"area\":9629091.0,\"gini\":48.0,\"timezones\":[\"UTC-12:00\",\"UTC-11:00\",\"UTC-10:00\",\"UTC-09:00\",\"UTC-08:00\",\"UTC-07:00\",\"UTC-06:00\",\"UTC-05:00\",\"UTC-04:00\",\"UTC+10:00\",\"UTC+12:00\"],\"borders\":[\"CAN\",\"MEX\"],\"nativeName\":\"United States\",\"numericCode\":\"840\",\"currencies\":[\"USD\",\"USN\",\"USS\"],\"languages\":[\"en\"]}]'"
          },
          "metadata": {}
        }
      ]
    },
    {
      "cell_type": "code",
      "source": "type(data)",
      "metadata": {},
      "execution_count": 20,
      "outputs": [
        {
          "execution_count": 20,
          "output_type": "execute_result",
          "data": {
            "text/plain": "str"
          },
          "metadata": {}
        }
      ]
    },
    {
      "cell_type": "code",
      "source": "# let's decode the string to a Python object\nus = json.loads(data)\n\nus",
      "metadata": {},
      "execution_count": 2,
      "outputs": [
        {
          "execution_count": 2,
          "output_type": "execute_result",
          "data": {
            "text/plain": "[{'alpha2Code': 'US',\n  'alpha3Code': 'USA',\n  'altSpellings': ['US', 'USA', 'United States of America'],\n  'area': 9629091.0,\n  'borders': ['CAN', 'MEX'],\n  'callingCodes': ['1'],\n  'capital': 'Washington, D.C.',\n  'currencies': ['USD', 'USN', 'USS'],\n  'demonym': 'American',\n  'gini': 48.0,\n  'languages': ['en'],\n  'latlng': [38.0, -97.0],\n  'name': 'United States',\n  'nativeName': 'United States',\n  'numericCode': '840',\n  'population': 321645000,\n  'region': 'Americas',\n  'relevance': '3.5',\n  'subregion': 'Northern America',\n  'timezones': ['UTC-12:00',\n   'UTC-11:00',\n   'UTC-10:00',\n   'UTC-09:00',\n   'UTC-08:00',\n   'UTC-07:00',\n   'UTC-06:00',\n   'UTC-05:00',\n   'UTC-04:00',\n   'UTC+10:00',\n   'UTC+12:00'],\n  'topLevelDomain': ['.us'],\n  'translations': {'de': 'Vereinigte Staaten von Amerika',\n   'es': 'Estados Unidos',\n   'fr': 'États-Unis',\n   'it': \"Stati Uniti D'America\",\n   'ja': 'アメリカ合衆国'}}]"
          },
          "metadata": {}
        }
      ]
    },
    {
      "cell_type": "code",
      "source": "us",
      "metadata": {},
      "execution_count": 12,
      "outputs": [
        {
          "execution_count": 12,
          "output_type": "execute_result",
          "data": {
            "text/plain": "[{'alpha2Code': 'US',\n  'alpha3Code': 'USA',\n  'altSpellings': ['US', 'USA', 'United States of America'],\n  'area': 9629091.0,\n  'borders': ['CAN', 'MEX'],\n  'callingCodes': ['1'],\n  'capital': 'Washington, D.C.',\n  'currencies': ['USD', 'USN', 'USS'],\n  'demonym': 'American',\n  'gini': 48.0,\n  'languages': ['en'],\n  'latlng': [38.0, -97.0],\n  'name': 'United States',\n  'nativeName': 'United States',\n  'numericCode': '840',\n  'population': 321645000,\n  'region': 'Americas',\n  'relevance': '3.5',\n  'subregion': 'Northern America',\n  'timezones': ['UTC-12:00',\n   'UTC-11:00',\n   'UTC-10:00',\n   'UTC-09:00',\n   'UTC-08:00',\n   'UTC-07:00',\n   'UTC-06:00',\n   'UTC-05:00',\n   'UTC-04:00',\n   'UTC+10:00',\n   'UTC+12:00'],\n  'topLevelDomain': ['.us'],\n  'translations': {'de': 'Vereinigte Staaten von Amerika',\n   'es': 'Estados Unidos',\n   'fr': 'États-Unis',\n   'it': \"Stati Uniti D'America\",\n   'ja': 'アメリカ合衆国'}}]"
          },
          "metadata": {}
        }
      ]
    },
    {
      "cell_type": "code",
      "source": "population = us[0][\"population\"]\nprint(population)",
      "metadata": {},
      "execution_count": 9,
      "outputs": [
        {
          "name": "stdout",
          "output_type": "stream",
          "text": "321645000\n"
        }
      ]
    },
    {
      "cell_type": "code",
      "source": "borders = us[0]['borders']\nprint(borders)\n",
      "metadata": {},
      "execution_count": 17,
      "outputs": [
        {
          "name": "stdout",
          "output_type": "stream",
          "text": "['CAN', 'MEX']\n"
        }
      ]
    },
    {
      "cell_type": "code",
      "source": "",
      "metadata": {
        "collapsed": true
      },
      "execution_count": null,
      "outputs": []
    }
  ]
}