{
  "metadata": {
    "anaconda-cloud": {},
    "kernelspec": {
      "name": "python3",
      "display_name": "Python 3",
      "language": "python"
    },
    "language_info": {
      "mimetype": "text/x-python",
      "nbconvert_exporter": "python",
      "name": "python",
      "file_extension": ".py",
      "version": "3.5.4",
      "pygments_lexer": "ipython3",
      "codemirror_mode": {
        "version": 3,
        "name": "ipython"
      }
    }
  },
  "nbformat_minor": 2,
  "nbformat": 4,
  "cells": [
    {
      "cell_type": "markdown",
      "source": "# Watch Me Code 1: Do I need more milk?\nMy family requires a gallon of milk at all times!",
      "metadata": {}
    },
    {
      "cell_type": "code",
      "source": "milk = float(input(\"How many gallons of milk do you have? \"))\nif milk < 1:\n    print(\"Buy more milk!\")\nelse:\n    print(\"You're good for now!\")",
      "metadata": {
        "collapsed": false,
        "trusted": true
      },
      "execution_count": 1,
      "outputs": [
        {
          "text": "You're good for now!\n",
          "name": "stdout",
          "output_type": "stream"
        }
      ]
    },
    {
      "cell_type": "markdown",
      "source": "## Another example. \nI only go to the store when I need both diapers and beer!",
      "metadata": {}
    },
    {
      "cell_type": "code",
      "source": "diapers = input(\"do you need diapers? \")\nbeer = input(\"do you need beer? \")\nif diapers == 'yes' and beer=='yes':\n    print(\"You'd better get to the store, ASAP!\")\nelse:\n    print(\"No need to go to the store yet!\")",
      "metadata": {
        "collapsed": false,
        "trusted": true
      },
      "execution_count": 3,
      "outputs": [
        {
          "text": "No need to go to the store yet!\n",
          "name": "stdout",
          "output_type": "stream"
        }
      ]
    },
    {
      "cell_type": "code",
      "source": "",
      "metadata": {
        "collapsed": true
      },
      "execution_count": null,
      "outputs": []
    }
  ]
}