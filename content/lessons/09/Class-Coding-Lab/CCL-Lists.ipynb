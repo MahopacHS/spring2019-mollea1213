{
  "metadata": {
    "anaconda-cloud": {},
    "kernelspec": {
      "name": "python3",
      "display_name": "Python 3",
      "language": "python"
    },
    "language_info": {
      "mimetype": "text/x-python",
      "nbconvert_exporter": "python",
      "name": "python",
      "file_extension": ".py",
      "version": "3.5.4",
      "pygments_lexer": "ipython3",
      "codemirror_mode": {
        "version": 3,
        "name": "ipython"
      }
    }
  },
  "nbformat_minor": 2,
  "nbformat": 4,
  "cells": [
    {
      "cell_type": "markdown",
      "source": "# In-Class Coding Lab: Lists\n\nThe goals of this lab are to help you understand:\n\n - List indexing and slicing\n - List methods such as insert, append, find, delete\n - How to iterate over lists with loops\n \n## Python Lists work like Real-Life Lists\n \nIn real life, we make lists all the time. To-Do lists. Shopping lists. Reading lists.  These lists are collections of items, for example here's my shopping list:\n \n ```\n Milk, Eggs, Bread, Beer\n ```\n\nThere are 4 items in this list.\n\nLikewise, we can make a similar list in Python, and count the number of items in the list using the `len()` function:",
      "metadata": {}
    },
    {
      "cell_type": "code",
      "source": "shopping_list = [ 'Milk', 'Eggs', 'Bread', 'Beer']\nitem_count = len(shopping_list)\nprint(\"List: %s has %d items\" % (shopping_list, item_count))",
      "metadata": {
        "collapsed": false,
        "trusted": true
      },
      "execution_count": 1,
      "outputs": [
        {
          "text": "List: ['Milk', 'Eggs', 'Bread', 'Beer'] has 4 items\n",
          "name": "stdout",
          "output_type": "stream"
        }
      ]
    },
    {
      "cell_type": "markdown",
      "source": "## Enumerating Your List Items\n\nIn real-life, we *enumerate* lists all the time. We go through the items on our list one at a time and make a decision, for example: \"Did I add that to my shopping cart yet?\"\n\nIn Python we go through items in our lists with the `for` loop. We use `for` because the number of items in pre-determined and thus a **definite** loop is the appropriate choice. \n\nHere's an example:",
      "metadata": {}
    },
    {
      "cell_type": "code",
      "source": "for item in shopping_list:\n    print(\"I need to buy some %s \" % (item))",
      "metadata": {
        "collapsed": false,
        "trusted": true
      },
      "execution_count": 2,
      "outputs": [
        {
          "text": "I need to buy some Milk \nI need to buy some Eggs \nI need to buy some Bread \nI need to buy some Beer \n",
          "name": "stdout",
          "output_type": "stream"
        }
      ]
    },
    {
      "cell_type": "markdown",
      "source": "## Now You Try It!\n\nWrite code in the space below to print each stock on its own line.",
      "metadata": {}
    },
    {
      "cell_type": "code",
      "source": "stocks = [ 'IBM', 'AAPL', 'GOOG', 'MSFT', 'TWTR', 'FB']\nfor item in stocks:\n    print(\"You have invested in %s \" % (item))\n#TODO: Write code here\n",
      "metadata": {
        "collapsed": true,
        "trusted": true
      },
      "execution_count": 14,
      "outputs": [
        {
          "text": "You have invested in IBM \nYou have invested in AAPL \nYou have invested in GOOG \nYou have invested in MSFT \nYou have invested in TWTR \nYou have invested in FB \n",
          "name": "stdout",
          "output_type": "stream"
        }
      ]
    },
    {
      "cell_type": "markdown",
      "source": "## Indexing Lists\n\nSometimes we refer to our items by their place in the list. For example \"Milk is the first item on the list\" or \"Beer is the last item on the list.\"\n\nWe can also do this in Python, and it is called *indexing* the list. \n\n**IMPORTANT** The first item in a Python lists starts at index **0**.",
      "metadata": {}
    },
    {
      "cell_type": "code",
      "source": "print(\"The first item in the list is:\", shopping_list[0]) \nprint(\"The last item in the list is:\", shopping_list[3])   \nprint(\"This is also the last item in the list:\", shopping_list[-1])  \nprint(\"This is the second to last item in the list:\", shopping_list[-2])\n",
      "metadata": {
        "collapsed": false,
        "trusted": true
      },
      "execution_count": 4,
      "outputs": [
        {
          "text": "The first item in the list is: Milk\nThe last item in the list is: Beer\nThis is also the last item in the list: Beer\nThis is the second to last item in the list: Bread\n",
          "name": "stdout",
          "output_type": "stream"
        }
      ]
    },
    {
      "cell_type": "markdown",
      "source": "## For Loop with Index\n\nYou can also loop through your Python list using an index. In this case we use the `range()` function to determine how many times we should loop:",
      "metadata": {}
    },
    {
      "cell_type": "code",
      "source": "for i in range(len(shopping_list)):\n    print(\"I need to buy some %s \" % (shopping_list[i]))",
      "metadata": {
        "collapsed": false,
        "trusted": true
      },
      "execution_count": 5,
      "outputs": [
        {
          "text": "I need to buy some Milk \nI need to buy some Eggs \nI need to buy some Bread \nI need to buy some Beer \n",
          "name": "stdout",
          "output_type": "stream"
        }
      ]
    },
    {
      "cell_type": "markdown",
      "source": "## Now You Try It!\n\nWrite code to print the 2nd and 4th stocks in the list variable `stocks`. For example:\n\n`AAPL MSFT`",
      "metadata": {}
    },
    {
      "cell_type": "code",
      "source": "#TODO: Write code here\nprint(\"This is the 2nd stock in the list: \", stocks[1])\nprint(\"This is the 4th stock in the list: \", stocks[3])\n\n",
      "metadata": {
        "collapsed": true,
        "trusted": true
      },
      "execution_count": 7,
      "outputs": [
        {
          "text": "This is the 2nd stock in the list:  AAPL\nThis is the 4th stock in the list:  MSFT\n",
          "name": "stdout",
          "output_type": "stream"
        }
      ]
    },
    {
      "cell_type": "markdown",
      "source": "## Lists are Mutable\n\nUnlike strings, lists are mutable. This means we can change a value in the list.\n\nFor example, I want `'Craft Beer'` not just `'Beer'`:",
      "metadata": {}
    },
    {
      "cell_type": "code",
      "source": "print(shopping_list)\nshopping_list[-1] = 'Craft Beer'\nprint(shopping_list)",
      "metadata": {
        "collapsed": false,
        "trusted": true
      },
      "execution_count": 8,
      "outputs": [
        {
          "text": "['Milk', 'Eggs', 'Bread', 'Beer']\n['Milk', 'Eggs', 'Bread', 'Craft Beer']\n",
          "name": "stdout",
          "output_type": "stream"
        }
      ]
    },
    {
      "cell_type": "markdown",
      "source": "## List Methods\n\nIn your readings and class lecture, you encountered some list methods. These allow us to maniupulate the list by adding or removing items.",
      "metadata": {}
    },
    {
      "cell_type": "code",
      "source": "print(\"Shopping List: %s\" %(shopping_list))\n\nprint(\"Adding 'Cheese' to the end of the list...\")\nshopping_list.append('Cheese')  #add to end of list\nprint(\"Shopping List: %s\" %(shopping_list))\n\nprint(\"Adding 'Cereal' to position 0  in the list...\")\nshopping_list.insert(0,'Cereal') # add to the beginning of the list (position 0)\nprint(\"Shopping List: %s\" %(shopping_list))\n\nprint(\"Removing 'Cheese' from the list...\")\nshopping_list.remove('Cheese')  # remove 'Cheese' from the list\nprint(\"Shopping List: %s\" %(shopping_list))\n\nprint(\"Removing item from position 0 in the list...\")\ndel shopping_list[0]   # remove item at position 0\nprint(\"Shopping List: %s\" %(shopping_list))\n",
      "metadata": {
        "collapsed": false,
        "trusted": true
      },
      "execution_count": 9,
      "outputs": [
        {
          "text": "Shopping List: ['Milk', 'Eggs', 'Bread', 'Craft Beer']\nAdding 'Cheese' to the end of the list...\nShopping List: ['Milk', 'Eggs', 'Bread', 'Craft Beer', 'Cheese']\nAdding 'Cereal' to position 0  in the list...\nShopping List: ['Cereal', 'Milk', 'Eggs', 'Bread', 'Craft Beer', 'Cheese']\nRemoving 'Cheese' from the list...\nShopping List: ['Cereal', 'Milk', 'Eggs', 'Bread', 'Craft Beer']\nRemoving item from position 0 in the list...\nShopping List: ['Milk', 'Eggs', 'Bread', 'Craft Beer']\n",
          "name": "stdout",
          "output_type": "stream"
        }
      ]
    },
    {
      "cell_type": "markdown",
      "source": "## Now You Try It!\n\nWrite a program to remove the following stocks: `IBM` and `TWTR`\n\nThen add this stock to the end `NFLX` and this stock to the beginning `TSLA`\n\nPrint your list when you are done. It should look like this:\n\n`['TSLA', 'AAPL', 'GOOG', 'MSFT', 'FB', 'NFLX']`\n",
      "metadata": {}
    },
    {
      "cell_type": "code",
      "source": "# TODO: Write Code here\nprint(\"Stocks list: %s \" % (stocks))\n\nprint(\"Removing IBM from the list\")\nstocks.remove('IBM')\nprint(\"Stocks: %s\" % (stocks))\n\nprint(\"Removing TWTR from the list\")\nstocks.remove('TWTR')\nprint(\"Stocks: %s\" % (stocks))\n\nprint(\"Adding NFLX to the end of the list\")\nstocks.append('NFLX')\nprint(\"Stocks: %s \" % (stocks))\n\nprint(\"Adding TSLA to the beginning of the list\")\nstocks.insert(0, 'TSLA')\nprint(\"Stocks: %s \" % (stocks))",
      "metadata": {
        "collapsed": false,
        "trusted": true
      },
      "execution_count": 15,
      "outputs": [
        {
          "text": "Stocks list: ['IBM', 'AAPL', 'GOOG', 'MSFT', 'TWTR', 'FB'] \nRemoving IBM from the list\nStocks: ['AAPL', 'GOOG', 'MSFT', 'TWTR', 'FB']\nRemoving TWTR from the list\nStocks: ['AAPL', 'GOOG', 'MSFT', 'FB']\nAdding NFLX to the end of the list\nStocks: ['AAPL', 'GOOG', 'MSFT', 'FB', 'NFLX'] \nAdding TSLA to the beginning of the list\nStocks: ['TSLA', 'AAPL', 'GOOG', 'MSFT', 'FB', 'NFLX'] \n",
          "name": "stdout",
          "output_type": "stream"
        }
      ]
    },
    {
      "cell_type": "markdown",
      "source": "## Sorting\n\nSince Lists are mutable. You can use the `sort()` method to re-arrange the items in the list alphabetically (or numerically if it's a list of numbers)",
      "metadata": {}
    },
    {
      "cell_type": "code",
      "source": "print(\"Before Sort:\", shopping_list)\nshopping_list.sort() \nprint(\"After Sort:\", shopping_list)",
      "metadata": {
        "collapsed": false,
        "trusted": true
      },
      "execution_count": 16,
      "outputs": [
        {
          "text": "Before Sort: ['Milk', 'Eggs', 'Bread', 'Craft Beer']\nAfter Sort: ['Bread', 'Craft Beer', 'Eggs', 'Milk']\n",
          "name": "stdout",
          "output_type": "stream"
        }
      ]
    },
    {
      "cell_type": "markdown",
      "source": "# Putting it all together\n\nWinning Lotto numbers. When the lotto numbers are drawn, they are in any order, when they are presented they're allways sorted. Let's write a program to input 5 numbers then output them sorted\n\n```\n1. for i in range(5)\n2.    input a number\n3.    append the number you input to the lotto_numbers list\n4. sort the lotto_numbers list\n5. print the lotto_numbers list like this: \n   'today's winning numbers are [1, 5, 17, 34, 56]'\n```",
      "metadata": {}
    },
    {
      "cell_type": "code",
      "source": "## TODO: Write program here:\nlotto_numbers = []  # start with an empty list\nfor i in range(5):\n    numbers = int(input(\"Enter your lottery numbers: \"))\n    lotto_numbers.append(numbers)\n\nlotto_numbers.sort()\nprint(\"Today's winning numbers are \", lotto_numbers)",
      "metadata": {
        "collapsed": true,
        "trusted": true
      },
      "execution_count": 31,
      "outputs": [
        {
          "text": "Today's winning numbers are  [1, 5, 17, 34, 56]\n",
          "name": "stdout",
          "output_type": "stream"
        }
      ]
    },
    {
      "cell_type": "code",
      "source": "",
      "metadata": {},
      "execution_count": null,
      "outputs": []
    }
  ]
}