{
  "metadata": {
    "anaconda-cloud": {},
    "kernelspec": {
      "display_name": "Python 3",
      "language": "python",
      "name": "python3"
    },
    "language_info": {
      "mimetype": "text/x-python",
      "nbconvert_exporter": "python",
      "name": "python",
      "pygments_lexer": "ipython3",
      "version": "3.5.4",
      "file_extension": ".py",
      "codemirror_mode": {
        "version": 3,
        "name": "ipython"
      }
    }
  },
  "nbformat_minor": 2,
  "nbformat": 4,
  "cells": [
    {
      "cell_type": "markdown",
      "source": "# Watch Me Code 1: List Basics\n",
      "metadata": {}
    },
    {
      "cell_type": "code",
      "source": "colors = [] #empty list",
      "metadata": {
        "collapsed": true
      },
      "execution_count": 1,
      "outputs": []
    },
    {
      "cell_type": "code",
      "source": "type(colors)",
      "metadata": {
        "collapsed": false
      },
      "execution_count": 2,
      "outputs": [
        {
          "execution_count": 2,
          "output_type": "execute_result",
          "data": {
            "text/plain": "list"
          },
          "metadata": {}
        }
      ]
    },
    {
      "cell_type": "code",
      "source": "dir(colors)",
      "metadata": {
        "collapsed": false
      },
      "execution_count": 3,
      "outputs": [
        {
          "execution_count": 3,
          "output_type": "execute_result",
          "data": {
            "text/plain": "['__add__',\n '__class__',\n '__contains__',\n '__delattr__',\n '__delitem__',\n '__dir__',\n '__doc__',\n '__eq__',\n '__format__',\n '__ge__',\n '__getattribute__',\n '__getitem__',\n '__gt__',\n '__hash__',\n '__iadd__',\n '__imul__',\n '__init__',\n '__iter__',\n '__le__',\n '__len__',\n '__lt__',\n '__mul__',\n '__ne__',\n '__new__',\n '__reduce__',\n '__reduce_ex__',\n '__repr__',\n '__reversed__',\n '__rmul__',\n '__setattr__',\n '__setitem__',\n '__sizeof__',\n '__str__',\n '__subclasshook__',\n 'append',\n 'clear',\n 'copy',\n 'count',\n 'extend',\n 'index',\n 'insert',\n 'pop',\n 'remove',\n 'reverse',\n 'sort']"
          },
          "metadata": {}
        }
      ]
    },
    {
      "cell_type": "code",
      "source": "help(colors.index)",
      "metadata": {
        "collapsed": false
      },
      "execution_count": 3,
      "outputs": [
        {
          "name": "stdout",
          "output_type": "stream",
          "text": "Help on built-in function index:\n\nindex(...) method of builtins.list instance\n    L.index(value, [start, [stop]]) -> integer -- return first index of value.\n    Raises ValueError if the value is not present.\n\n"
        }
      ]
    },
    {
      "cell_type": "code",
      "source": "colors.append(\"orange\")\ncolors.append(\"blue\")\ncolors.append(\"green\")\ncolors.append(\"white\")\nprint(colors)\nprint(len(colors))",
      "metadata": {
        "collapsed": false
      },
      "execution_count": 5,
      "outputs": [
        {
          "name": "stdout",
          "output_type": "stream",
          "text": "['orange', 'blue', 'green', 'white']\n4\n"
        }
      ]
    },
    {
      "cell_type": "code",
      "source": "colors.remove(\"green\")\nprint(colors)",
      "metadata": {
        "collapsed": false
      },
      "execution_count": 6,
      "outputs": [
        {
          "name": "stdout",
          "output_type": "stream",
          "text": "['orange', 'blue', 'white']\n"
        }
      ]
    },
    {
      "cell_type": "code",
      "source": "#lists are mutable\ncolors.reverse()\ncolors",
      "metadata": {
        "collapsed": false
      },
      "execution_count": 7,
      "outputs": [
        {
          "execution_count": 7,
          "output_type": "execute_result",
          "data": {
            "text/plain": "['white', 'blue', 'orange']"
          },
          "metadata": {}
        }
      ]
    },
    {
      "cell_type": "code",
      "source": "index = colors.index('blue')\nprint(index)",
      "metadata": {
        "collapsed": false
      },
      "execution_count": 8,
      "outputs": [
        {
          "execution_count": 8,
          "output_type": "execute_result",
          "data": {
            "text/plain": "1"
          },
          "metadata": {}
        }
      ]
    },
    {
      "cell_type": "code",
      "source": "colors.index('brown') # ValueError",
      "metadata": {
        "collapsed": false
      },
      "execution_count": 6,
      "outputs": [
        {
          "ename": "ValueError",
          "evalue": "'brown' is not in list",
          "output_type": "error",
          "traceback": [
            "\u001b[0;31m---------------------------------------------------------------------------\u001b[0m",
            "\u001b[0;31mValueError\u001b[0m                                Traceback (most recent call last)",
            "\u001b[0;32m<ipython-input-6-8737937d04fe>\u001b[0m in \u001b[0;36m<module>\u001b[0;34m()\u001b[0m\n\u001b[0;32m----> 1\u001b[0;31m \u001b[0mcolors\u001b[0m\u001b[1;33m.\u001b[0m\u001b[0mindex\u001b[0m\u001b[1;33m(\u001b[0m\u001b[1;34m'brown'\u001b[0m\u001b[1;33m)\u001b[0m \u001b[1;31m# ValueError\u001b[0m\u001b[1;33m\u001b[0m\u001b[0m\n\u001b[0m",
            "\u001b[0;31mValueError\u001b[0m: 'brown' is not in list"
          ]
        }
      ]
    },
    {
      "cell_type": "code",
      "source": "",
      "metadata": {
        "collapsed": true
      },
      "execution_count": null,
      "outputs": []
    }
  ]
}