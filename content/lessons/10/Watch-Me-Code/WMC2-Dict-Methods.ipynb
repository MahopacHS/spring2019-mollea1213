{
  "metadata": {
    "anaconda-cloud": {},
    "kernelspec": {
      "display_name": "Python 3",
      "language": "python",
      "name": "python3"
    },
    "language_info": {
      "mimetype": "text/x-python",
      "nbconvert_exporter": "python",
      "name": "python",
      "file_extension": ".py",
      "version": "3.5.4",
      "pygments_lexer": "ipython3",
      "codemirror_mode": {
        "version": 3,
        "name": "ipython"
      }
    }
  },
  "nbformat_minor": 2,
  "nbformat": 4,
  "cells": [
    {
      "cell_type": "markdown",
      "source": "# Watch Me Code 2: Dictionary Methods\n",
      "metadata": {}
    },
    {
      "cell_type": "code",
      "source": "student = { 'Name' : 'Michael', 'GPA': 3.2, 'Ischool' : True }\nprint(student)",
      "metadata": {},
      "execution_count": 15,
      "outputs": [
        {
          "name": "stdout",
          "output_type": "stream",
          "text": "{'Ischool': True, 'GPA': 3.2, 'Name': 'Michael'}\n"
        }
      ]
    },
    {
      "cell_type": "code",
      "source": "# KeyError, keys must match exactly\nstudent['gpa']\n",
      "metadata": {},
      "execution_count": 16,
      "outputs": [
        {
          "ename": "KeyError",
          "evalue": "'gpa'",
          "output_type": "error",
          "traceback": [
            "\u001b[0;31m---------------------------------------------------------------------------\u001b[0m",
            "\u001b[0;31mKeyError\u001b[0m                                  Traceback (most recent call last)",
            "\u001b[0;32m<ipython-input-16-962c3d448a23>\u001b[0m in \u001b[0;36m<module>\u001b[0;34m()\u001b[0m\n\u001b[1;32m      1\u001b[0m \u001b[1;31m# KeyError, keys must match exactly\u001b[0m\u001b[1;33m\u001b[0m\u001b[1;33m\u001b[0m\u001b[0m\n\u001b[0;32m----> 2\u001b[0;31m \u001b[0mstudent\u001b[0m\u001b[1;33m[\u001b[0m\u001b[1;34m'gpa'\u001b[0m\u001b[1;33m]\u001b[0m\u001b[1;33m\u001b[0m\u001b[0m\n\u001b[0m",
            "\u001b[0;31mKeyError\u001b[0m: 'gpa'"
          ]
        }
      ]
    },
    {
      "cell_type": "code",
      "source": "try:\n    print(student['Age'])\nexcept KeyError:\n    print('The key \"Age\" does not exist.')",
      "metadata": {},
      "execution_count": 17,
      "outputs": [
        {
          "name": "stdout",
          "output_type": "stream",
          "text": "The key \"Age\" does not exist.\n"
        }
      ]
    },
    {
      "cell_type": "code",
      "source": "list(student.values())",
      "metadata": {},
      "execution_count": 18,
      "outputs": [
        {
          "execution_count": 18,
          "output_type": "execute_result",
          "data": {
            "text/plain": "[True, 3.2, 'Michael']"
          },
          "metadata": {}
        }
      ]
    },
    {
      "cell_type": "code",
      "source": "list(student.keys())",
      "metadata": {},
      "execution_count": 19,
      "outputs": [
        {
          "execution_count": 19,
          "output_type": "execute_result",
          "data": {
            "text/plain": "['Ischool', 'GPA', 'Name']"
          },
          "metadata": {}
        }
      ]
    },
    {
      "cell_type": "code",
      "source": "for key in student.keys():\n    print(student[key])",
      "metadata": {},
      "execution_count": 20,
      "outputs": [
        {
          "name": "stdout",
          "output_type": "stream",
          "text": "True\n3.2\nMichael\n"
        }
      ]
    },
    {
      "cell_type": "code",
      "source": "del student['GPA']\nprint(student)",
      "metadata": {},
      "execution_count": 21,
      "outputs": [
        {
          "name": "stdout",
          "output_type": "stream",
          "text": "{'Ischool': True, 'Name': 'Michael'}\n"
        }
      ]
    }
  ]
}