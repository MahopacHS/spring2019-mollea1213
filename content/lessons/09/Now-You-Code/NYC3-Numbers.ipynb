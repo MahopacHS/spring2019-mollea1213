{
  "metadata": {
    "anaconda-cloud": {},
    "kernelspec": {
      "name": "python3",
      "display_name": "Python 3",
      "language": "python"
    },
    "language_info": {
      "mimetype": "text/x-python",
      "nbconvert_exporter": "python",
      "name": "python",
      "file_extension": ".py",
      "version": "3.5.4",
      "pygments_lexer": "ipython3",
      "codemirror_mode": {
        "version": 3,
        "name": "ipython"
      }
    }
  },
  "nbformat_minor": 2,
  "nbformat": 4,
  "cells": [
    {
      "cell_type": "markdown",
      "source": "# Now You Code 3: List of numbers\n\nThis example will demonstrate how to parse an input string into\na list of numbers. You will then demonstrate it's a list of\nnumbers by calculating the count, sum(), min(), max() and average\nof the numbers using Python's len(), sum(), min(), and max() functions.\n\nExample Run #1:\n```\n    Enter numbers separated by a space: 10 5 0\n\n    Numbers: [10.0, 5.0, 0.0]\n    Count: 3\n    Min: 0.0\n    Max: 10.0\n    Sum: 15.0\n    Average: 5.0\n```\n\nAs usual, devise your plan, write the program, THEN figure out how to handle bad input in Example run #2.\n\nHINT: Use split() to make a list from the input, use a loop to convert\neach item in the list to a float\n\nStart out your program by writing your TODO list of steps\nyou'll need to solve the problem!",
      "metadata": {}
    },
    {
      "cell_type": "markdown",
      "source": "## Step 1: Problem Analysis\n\nInputs: a string of numbers separated by a space eg. `10 5 1`\n\nOutputs: the count, sum, min, max and average of the numbers\n\nAlgorithm (Steps in Program):\n\n```\nTODO: Write algorithm here\n```\n\n",
      "metadata": {}
    },
    {
      "cell_type": "code",
      "source": "# Step 2: Write solution\nnumbers = [] # start with an empty list\n\n",
      "metadata": {},
      "execution_count": 1,
      "outputs": []
    },
    {
      "cell_type": "markdown",
      "source": "## Step 3: Questions\n\n1. Re-write the solution so that it handles bad input:\n\nExample Run #2: (Handles bad input)\n```\n    Enter numbers separated by a space: 5 mike 3\n\n    Error: mike is not a number!\n```\n\n2 Explain part of the solution could be refactored into a function? What would be be the input(s) and output of that function?\n",
      "metadata": {}
    },
    {
      "cell_type": "markdown",
      "source": "## Reminder of Evaluation Criteria\n\n1. What the problem attempted (analysis, code, and answered questions) ?\n2. What the problem analysis thought out? (does the program match the plan?)\n3. Does the code execute without syntax error?\n4. Does the code solve the intended problem?\n5. Is the code well written? (easy to understand, modular, and self-documenting, handles errors)",
      "metadata": {}
    },
    {
      "cell_type": "code",
      "source": "",
      "metadata": {},
      "execution_count": null,
      "outputs": []
    }
  ]
}