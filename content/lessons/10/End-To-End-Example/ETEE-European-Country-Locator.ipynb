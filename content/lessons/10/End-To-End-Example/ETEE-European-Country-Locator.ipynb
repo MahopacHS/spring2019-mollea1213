{
  "metadata": {
    "anaconda-cloud": {},
    "kernelspec": {
      "display_name": "Python 3",
      "language": "python",
      "name": "python3"
    },
    "language_info": {
      "mimetype": "text/x-python",
      "nbconvert_exporter": "python",
      "name": "python",
      "file_extension": ".py",
      "version": "3.5.4",
      "pygments_lexer": "ipython3",
      "codemirror_mode": {
        "version": 3,
        "name": "ipython"
      }
    }
  },
  "nbformat_minor": 2,
  "nbformat": 4,
  "cells": [
    {
      "cell_type": "markdown",
      "source": "# End-To-End Example: European Country Locator\n\nIn this example, we will load in json data for European countries. We will write a program to prompt to input a country then tell the user which part of Europe the country is located in and what are the neighboring European countries.\n",
      "metadata": {}
    },
    {
      "cell_type": "code",
      "source": "## todo list\n# load europe data into Python\n# loop\n#   input a country name\n#   if country name is quit, exit loop\n#   for each country in europe\n#        if input name equals country name\n#              get info on country (region and neighbors)\n#              print country info",
      "metadata": {
        "collapsed": true
      },
      "execution_count": null,
      "outputs": []
    },
    {
      "cell_type": "code",
      "source": "import json\n\n# input: none\n# output: Python object of data in JSON file\ndef load_europe_data():    \n    with open('ETEE-europe.json', encoding='utf8') as f:\n        data = f.read()\n        europe = json.loads(data)\n        return europe\n\n# input: country and europe data\n# output: dictionary of country info (name, region and neighbors)\ndef extract_country_info(country, europe):\n    info = {}\n    info['name'] = country['name']\n    info['subregion'] = country['subregion']\n    info['borders'] = []\n    for country_code in country['borders']:\n        for country in europe: \n            if country['alpha3Code'] == country_code:\n                info['borders'].append(country['name'])\n    return info\n\n# main program \neurope = load_europe_data()\nprint(\"EUROPEAN COUNTRY LOCATOR\")\nwhile True:\n    name = input(\"Enter a country name, or type 'quit': \").title()\n    if name == 'Quit':\n        break\n    for country in europe:\n        if name == country['name']:\n            info = extract_country_info(country, europe)\n            print(\"%s is in %s.\\nBordering countries are %s\" % (info['name'], info['subregion'], info['borders']))\n        ",
      "metadata": {},
      "execution_count": 41,
      "outputs": [
        {
          "name": "stdout",
          "output_type": "stream",
          "text": "European country locator.\nEnter a country name, or type 'quit': Norway\nNorway is in Northern Europe.\nBordering countries are ['Finland', 'Sweden', 'Russia']\nEnter a country name, or type 'quit': Finland\nFinland is in Northern Europe.\nBordering countries are ['Norway', 'Sweden', 'Russia']\nEnter a country name, or type 'quit': Russia\nRussia is in Eastern Europe.\nBordering countries are ['Belarus', 'Estonia', 'Finland', 'Latvia', 'Lithuania', 'Norway', 'Poland', 'Ukraine']\nEnter a country name, or type 'quit': Poland\nPoland is in Eastern Europe.\nBordering countries are ['Belarus', 'Czech Republic', 'Germany', 'Lithuania', 'Russia', 'Slovakia', 'Ukraine']\nEnter a country name, or type 'quit': quit\n"
        }
      ]
    }
  ]
}