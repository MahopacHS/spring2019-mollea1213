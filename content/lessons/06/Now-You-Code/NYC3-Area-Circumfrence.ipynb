{
  "metadata": {
    "anaconda-cloud": {},
    "kernelspec": {
      "name": "python3",
      "display_name": "Python 3",
      "language": "python"
    },
    "language_info": {
      "mimetype": "text/x-python",
      "nbconvert_exporter": "python",
      "name": "python",
      "file_extension": ".py",
      "version": "3.5.4",
      "pygments_lexer": "ipython3",
      "codemirror_mode": {
        "version": 3,
        "name": "ipython"
      }
    }
  },
  "nbformat_minor": 2,
  "nbformat": 4,
  "cells": [
    {
      "cell_type": "markdown",
      "source": "# Now You Code 3: Area and Circumfrence\n\nIn this assignment you are tasks with writing a program which inputs the radius of a circle, and outputs the circumfrence and area of that circle. Feel free to lookup the formulas online. \n\nWe will use the **Write - Refactor - Test - Rewrite** approach to complete the final solution which uses functions.\n\n**NOTE** `import math` then use `math.PI` to get the value of Pi https://en.wikipedia.org/wiki/Pi",
      "metadata": {}
    },
    {
      "cell_type": "markdown",
      "source": "## Step 1: Write\n\nHere's the algorihm of this program. Write the solution in Python.\n\n```\n    input radius as a float\n    calculate circle area\n    calcuate circle circumfrence\n    print radus, area, circumfrence\n```\n\nExample run:\n\n```\nEnter Radius: 1\nA circle with radius 1.000000 has area 3.141593 and circumfrence 6.283185\n```\n",
      "metadata": {}
    },
    {
      "cell_type": "code",
      "source": "import math\n## TODO: Write the solution here Step 1\nradius = float(input(\"Enter radius: \"))\narea = radius**2 * 3.14\ncircumfrence = 2 * 3.14 * radius\nprint(radius, area, circumfrence)\n\n",
      "metadata": {
        "trusted": true
      },
      "execution_count": 12,
      "outputs": [
        {
          "text": "1.0 3.14 6.28\n",
          "name": "stdout",
          "output_type": "stream"
        }
      ]
    },
    {
      "cell_type": "markdown",
      "source": "## Step 2: Refactor\n\nNext we need to refactor the `area` and `circumfrence` logic into functions. \n\n- `CircleArea()` has one input a `radius` and returns the `area` as output.\n- `CircleCircumfrence()` has one input a `radius` and returns the `circumfrence` as output. \n",
      "metadata": {}
    },
    {
      "cell_type": "code",
      "source": "## Step 2: Refactor into two functions def CircleArea... and def CircleCircumfrence\ndef CircleArea(radius):\n    radius = float(input(\"Enter radius: \"))\n    area = radius**2 * 3.14\n    print(\"The area is\", area)\ndef CircleCircumfrence(radius):\n    radius = float(input(\"Enter radius: \"))\n    circumfrence = 2 * 3.14 * radius\n    print(\"The circumfrence is\", circumfrence)\n",
      "metadata": {
        "trusted": true
      },
      "execution_count": 26,
      "outputs": []
    },
    {
      "cell_type": "markdown",
      "source": "## Step 3: Test \n\nTime to test. Write two tests, once for each function\n```\nWHEN radius=1 We EXPECT CircleArea(radius) to return 3.141593 \nWHEN radius=1 We EXPECT CircleCircumfrence(radius) to return 6.283185\n```\n\nMake sure you call the function to get the actual, just like in the coding lab. \n\nNOTE: If its accurate to 4 decimal places, that's sufficient. The test values might be different because of how the \"%f\" format code works.",
      "metadata": {}
    },
    {
      "cell_type": "code",
      "source": "# Step 3: Write tests.\nprint(\"WHEN radius=1 We EXPECT CircleArea(radius) to return 3.141593\", CircleArea(radius))\nprint(\"WHEN radius=1 We EXPECT CircleCircumfrence(radius) to return 6.28318\", CircleCircumfrence(radius))\n\n\n",
      "metadata": {
        "trusted": true
      },
      "execution_count": 27,
      "outputs": [
        {
          "text": "The area is 3.14\nWHEN radius=1 We EXPECT CircleArea(radius) to return 3.141593 None\nThe circumfrence is 6.28\nWHEN radius=1 We EXPECT CircleCircumfrence(radius) to return 6.28318 None\n",
          "name": "stdout",
          "output_type": "stream"
        }
      ]
    },
    {
      "cell_type": "markdown",
      "source": "## Step 4: rewrite the program to use the function\n\nFinally re-write the original program, but call the functions. \n",
      "metadata": {}
    },
    {
      "cell_type": "code",
      "source": "## Step 4: Write program here from the algorithm above\nCircleArea(radius)\nCircleCircumfrence(radius)\nprint(\"The radius is\", radius,\",the area is\", area,\",the circumfrence is\", circumfrence)\n",
      "metadata": {
        "trusted": true
      },
      "execution_count": 31,
      "outputs": [
        {
          "text": "The area is 3.14\nThe circumfrence is 6.28\nThe radius is 1.0 ,the area is 3.14 ,the circumfrence is 6.28\n",
          "name": "stdout",
          "output_type": "stream"
        }
      ]
    },
    {
      "cell_type": "markdown",
      "source": "## Step 6: Questions\n\n1. Provide 3 advantages for programming a user function in your code like `CircleArea`  or `CircleCircumfrence`\n\n-It can prevent messy looking code, it can let you hide information, and it lets you reuse the code later.\n\n2. If we want to guarantee our `CircleCircumfrence` function is 100% accurate, what is the minimum number of test cases must we provide in step 3? \n\n-I think testing twice would be a good indicator of whether or not the function works. \n",
      "metadata": {}
    },
    {
      "cell_type": "markdown",
      "source": "## Reminder of Evaluation Criteria\n\n1. What the problem attempted (analysis, code, and answered questions) ?\n2. What the problem analysis thought out? (does the program match the plan?)\n3. Does the code execute without syntax error?\n4. Does the code solve the intended problem?\n5. Is the code well written? (easy to understand, modular, and self-documenting, handles errors)\n",
      "metadata": {}
    },
    {
      "cell_type": "code",
      "source": "",
      "metadata": {
        "collapsed": true
      },
      "execution_count": null,
      "outputs": []
    }
  ]
}