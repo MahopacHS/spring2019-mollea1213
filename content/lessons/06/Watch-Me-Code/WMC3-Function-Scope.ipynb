{
  "metadata": {
    "anaconda-cloud": {},
    "kernelspec": {
      "name": "python36",
      "display_name": "Python 3.6",
      "language": "python"
    },
    "language_info": {
      "mimetype": "text/x-python",
      "nbconvert_exporter": "python",
      "name": "python",
      "pygments_lexer": "ipython3",
      "version": "3.6.6",
      "file_extension": ".py",
      "codemirror_mode": {
        "version": 3,
        "name": "ipython"
      }
    }
  },
  "nbformat_minor": 2,
  "nbformat": 4,
  "cells": [
    {
      "cell_type": "markdown",
      "source": "# Watch Me Code 3: Understanding Function Variable Scope\n\n",
      "metadata": {}
    },
    {
      "cell_type": "code",
      "source": "def area_incorrect():\n    area = length * width # these are in the global scope!!!!\n    return area\n",
      "metadata": {
        "collapsed": true
      },
      "execution_count": 26,
      "outputs": []
    },
    {
      "cell_type": "code",
      "source": "## This is a bad idea\n\nlength = 10\nwidth = 5\narea = area_incorrect()\nprint (\"length=\",length, \"width=\",width, \"area=\",area)",
      "metadata": {
        "collapsed": false,
        "scrolled": true
      },
      "execution_count": 27,
      "outputs": [
        {
          "name": "stdout",
          "output_type": "stream",
          "text": "length= 10 width= 5 area= 50\n"
        }
      ]
    },
    {
      "cell_type": "code",
      "source": "## Always pass in arguments from the global scope!\n\ndef area_correct(length, width):\n    area = length * width # these are local copies from the global scope...\n    length = 0 \n    width = 0 # what happens here, stays here!\n    return area",
      "metadata": {
        "collapsed": true
      },
      "execution_count": 28,
      "outputs": []
    },
    {
      "cell_type": "code",
      "source": "# in the global scope\nlength = 5\nwidth = 10\narea = area_correct(length,width)\nprint (\"length=\",length, \"width=\",width, \"area=\",area)",
      "metadata": {
        "collapsed": false
      },
      "execution_count": 29,
      "outputs": [
        {
          "name": "stdout",
          "output_type": "stream",
          "text": "length= 5 width= 10 area= 50\n"
        }
      ]
    },
    {
      "cell_type": "code",
      "source": "",
      "metadata": {
        "collapsed": true
      },
      "execution_count": null,
      "outputs": []
    }
  ]
}