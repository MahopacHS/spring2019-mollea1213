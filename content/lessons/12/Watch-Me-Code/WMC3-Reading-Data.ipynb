{
  "metadata": {
    "anaconda-cloud": {},
    "kernelspec": {
      "display_name": "Python 3",
      "language": "python",
      "name": "python3"
    },
    "language_info": {
      "mimetype": "text/x-python",
      "nbconvert_exporter": "python",
      "name": "python",
      "pygments_lexer": "ipython3",
      "version": "3.5.4",
      "file_extension": ".py",
      "codemirror_mode": {
        "version": 3,
        "name": "ipython"
      }
    }
  },
  "nbformat_minor": 2,
  "nbformat": 4,
  "cells": [
    {
      "cell_type": "markdown",
      "source": "# Watch Me Code 3: Reading Data From an API into Pandas\n\nThis example will read from the star wars api http://swapi.co/api/people/ into a Pandas DataFrame",
      "metadata": {}
    },
    {
      "cell_type": "code",
      "source": "import pandas as pd\nimport requests",
      "metadata": {},
      "execution_count": 1,
      "outputs": []
    },
    {
      "cell_type": "code",
      "source": "# function to get star wars characters\ndef GetStarWarsCharacters():\n    response = requests.get('http://swapi.co/api/people/')\n    data_dict = response.json()\n    characters = data_dict['results']\n    return characters",
      "metadata": {
        "collapsed": true
      },
      "execution_count": 2,
      "outputs": []
    },
    {
      "cell_type": "code",
      "source": "# let's try out our function. notice it's a list of dictionary.\nGetStarWarsCharacters()",
      "metadata": {},
      "execution_count": 3,
      "outputs": [
        {
          "execution_count": 3,
          "output_type": "execute_result",
          "data": {
            "text/plain": "[{'birth_year': '19BBY',\n  'created': '2014-12-09T13:50:51.644000Z',\n  'edited': '2014-12-20T21:17:56.891000Z',\n  'eye_color': 'blue',\n  'films': ['http://swapi.co/api/films/6/',\n   'http://swapi.co/api/films/3/',\n   'http://swapi.co/api/films/2/',\n   'http://swapi.co/api/films/1/',\n   'http://swapi.co/api/films/7/'],\n  'gender': 'male',\n  'hair_color': 'blond',\n  'height': '172',\n  'homeworld': 'http://swapi.co/api/planets/1/',\n  'mass': '77',\n  'name': 'Luke Skywalker',\n  'skin_color': 'fair',\n  'species': ['http://swapi.co/api/species/1/'],\n  'starships': ['http://swapi.co/api/starships/12/',\n   'http://swapi.co/api/starships/22/'],\n  'url': 'http://swapi.co/api/people/1/',\n  'vehicles': ['http://swapi.co/api/vehicles/14/',\n   'http://swapi.co/api/vehicles/30/']},\n {'birth_year': '112BBY',\n  'created': '2014-12-10T15:10:51.357000Z',\n  'edited': '2014-12-20T21:17:50.309000Z',\n  'eye_color': 'yellow',\n  'films': ['http://swapi.co/api/films/5/',\n   'http://swapi.co/api/films/4/',\n   'http://swapi.co/api/films/6/',\n   'http://swapi.co/api/films/3/',\n   'http://swapi.co/api/films/2/',\n   'http://swapi.co/api/films/1/'],\n  'gender': 'n/a',\n  'hair_color': 'n/a',\n  'height': '167',\n  'homeworld': 'http://swapi.co/api/planets/1/',\n  'mass': '75',\n  'name': 'C-3PO',\n  'skin_color': 'gold',\n  'species': ['http://swapi.co/api/species/2/'],\n  'starships': [],\n  'url': 'http://swapi.co/api/people/2/',\n  'vehicles': []},\n {'birth_year': '33BBY',\n  'created': '2014-12-10T15:11:50.376000Z',\n  'edited': '2014-12-20T21:17:50.311000Z',\n  'eye_color': 'red',\n  'films': ['http://swapi.co/api/films/5/',\n   'http://swapi.co/api/films/4/',\n   'http://swapi.co/api/films/6/',\n   'http://swapi.co/api/films/3/',\n   'http://swapi.co/api/films/2/',\n   'http://swapi.co/api/films/1/',\n   'http://swapi.co/api/films/7/'],\n  'gender': 'n/a',\n  'hair_color': 'n/a',\n  'height': '96',\n  'homeworld': 'http://swapi.co/api/planets/8/',\n  'mass': '32',\n  'name': 'R2-D2',\n  'skin_color': 'white, blue',\n  'species': ['http://swapi.co/api/species/2/'],\n  'starships': [],\n  'url': 'http://swapi.co/api/people/3/',\n  'vehicles': []},\n {'birth_year': '41.9BBY',\n  'created': '2014-12-10T15:18:20.704000Z',\n  'edited': '2014-12-20T21:17:50.313000Z',\n  'eye_color': 'yellow',\n  'films': ['http://swapi.co/api/films/6/',\n   'http://swapi.co/api/films/3/',\n   'http://swapi.co/api/films/2/',\n   'http://swapi.co/api/films/1/'],\n  'gender': 'male',\n  'hair_color': 'none',\n  'height': '202',\n  'homeworld': 'http://swapi.co/api/planets/1/',\n  'mass': '136',\n  'name': 'Darth Vader',\n  'skin_color': 'white',\n  'species': ['http://swapi.co/api/species/1/'],\n  'starships': ['http://swapi.co/api/starships/13/'],\n  'url': 'http://swapi.co/api/people/4/',\n  'vehicles': []},\n {'birth_year': '19BBY',\n  'created': '2014-12-10T15:20:09.791000Z',\n  'edited': '2014-12-20T21:17:50.315000Z',\n  'eye_color': 'brown',\n  'films': ['http://swapi.co/api/films/6/',\n   'http://swapi.co/api/films/3/',\n   'http://swapi.co/api/films/2/',\n   'http://swapi.co/api/films/1/',\n   'http://swapi.co/api/films/7/'],\n  'gender': 'female',\n  'hair_color': 'brown',\n  'height': '150',\n  'homeworld': 'http://swapi.co/api/planets/2/',\n  'mass': '49',\n  'name': 'Leia Organa',\n  'skin_color': 'light',\n  'species': ['http://swapi.co/api/species/1/'],\n  'starships': [],\n  'url': 'http://swapi.co/api/people/5/',\n  'vehicles': ['http://swapi.co/api/vehicles/30/']},\n {'birth_year': '52BBY',\n  'created': '2014-12-10T15:52:14.024000Z',\n  'edited': '2014-12-20T21:17:50.317000Z',\n  'eye_color': 'blue',\n  'films': ['http://swapi.co/api/films/5/',\n   'http://swapi.co/api/films/6/',\n   'http://swapi.co/api/films/1/'],\n  'gender': 'male',\n  'hair_color': 'brown, grey',\n  'height': '178',\n  'homeworld': 'http://swapi.co/api/planets/1/',\n  'mass': '120',\n  'name': 'Owen Lars',\n  'skin_color': 'light',\n  'species': ['http://swapi.co/api/species/1/'],\n  'starships': [],\n  'url': 'http://swapi.co/api/people/6/',\n  'vehicles': []},\n {'birth_year': '47BBY',\n  'created': '2014-12-10T15:53:41.121000Z',\n  'edited': '2014-12-20T21:17:50.319000Z',\n  'eye_color': 'blue',\n  'films': ['http://swapi.co/api/films/5/',\n   'http://swapi.co/api/films/6/',\n   'http://swapi.co/api/films/1/'],\n  'gender': 'female',\n  'hair_color': 'brown',\n  'height': '165',\n  'homeworld': 'http://swapi.co/api/planets/1/',\n  'mass': '75',\n  'name': 'Beru Whitesun lars',\n  'skin_color': 'light',\n  'species': ['http://swapi.co/api/species/1/'],\n  'starships': [],\n  'url': 'http://swapi.co/api/people/7/',\n  'vehicles': []},\n {'birth_year': 'unknown',\n  'created': '2014-12-10T15:57:50.959000Z',\n  'edited': '2014-12-20T21:17:50.321000Z',\n  'eye_color': 'red',\n  'films': ['http://swapi.co/api/films/1/'],\n  'gender': 'n/a',\n  'hair_color': 'n/a',\n  'height': '97',\n  'homeworld': 'http://swapi.co/api/planets/1/',\n  'mass': '32',\n  'name': 'R5-D4',\n  'skin_color': 'white, red',\n  'species': ['http://swapi.co/api/species/2/'],\n  'starships': [],\n  'url': 'http://swapi.co/api/people/8/',\n  'vehicles': []},\n {'birth_year': '24BBY',\n  'created': '2014-12-10T15:59:50.509000Z',\n  'edited': '2014-12-20T21:17:50.323000Z',\n  'eye_color': 'brown',\n  'films': ['http://swapi.co/api/films/1/'],\n  'gender': 'male',\n  'hair_color': 'black',\n  'height': '183',\n  'homeworld': 'http://swapi.co/api/planets/1/',\n  'mass': '84',\n  'name': 'Biggs Darklighter',\n  'skin_color': 'light',\n  'species': ['http://swapi.co/api/species/1/'],\n  'starships': ['http://swapi.co/api/starships/12/'],\n  'url': 'http://swapi.co/api/people/9/',\n  'vehicles': []},\n {'birth_year': '57BBY',\n  'created': '2014-12-10T16:16:29.192000Z',\n  'edited': '2014-12-20T21:17:50.325000Z',\n  'eye_color': 'blue-gray',\n  'films': ['http://swapi.co/api/films/5/',\n   'http://swapi.co/api/films/4/',\n   'http://swapi.co/api/films/6/',\n   'http://swapi.co/api/films/3/',\n   'http://swapi.co/api/films/2/',\n   'http://swapi.co/api/films/1/'],\n  'gender': 'male',\n  'hair_color': 'auburn, white',\n  'height': '182',\n  'homeworld': 'http://swapi.co/api/planets/20/',\n  'mass': '77',\n  'name': 'Obi-Wan Kenobi',\n  'skin_color': 'fair',\n  'species': ['http://swapi.co/api/species/1/'],\n  'starships': ['http://swapi.co/api/starships/48/',\n   'http://swapi.co/api/starships/59/',\n   'http://swapi.co/api/starships/64/',\n   'http://swapi.co/api/starships/65/',\n   'http://swapi.co/api/starships/74/'],\n  'url': 'http://swapi.co/api/people/10/',\n  'vehicles': ['http://swapi.co/api/vehicles/38/']}]"
          },
          "metadata": {}
        }
      ]
    },
    {
      "cell_type": "code",
      "source": "# example of reading the star-wars api\ncharacters = GetStarWarsCharacters() # This function gets the people as json\ncharacter_df = pd.DataFrame(characters)\ncharacter_df",
      "metadata": {
        "scrolled": true
      },
      "execution_count": 4,
      "outputs": [
        {
          "execution_count": 4,
          "output_type": "execute_result",
          "data": {
            "text/html": "<div>\n<table border=\"1\" class=\"dataframe\">\n  <thead>\n    <tr style=\"text-align: right;\">\n      <th></th>\n      <th>birth_year</th>\n      <th>created</th>\n      <th>edited</th>\n      <th>eye_color</th>\n      <th>films</th>\n      <th>gender</th>\n      <th>hair_color</th>\n      <th>height</th>\n      <th>homeworld</th>\n      <th>mass</th>\n      <th>name</th>\n      <th>skin_color</th>\n      <th>species</th>\n      <th>starships</th>\n      <th>url</th>\n      <th>vehicles</th>\n    </tr>\n  </thead>\n  <tbody>\n    <tr>\n      <th>0</th>\n      <td>19BBY</td>\n      <td>2014-12-09T13:50:51.644000Z</td>\n      <td>2014-12-20T21:17:56.891000Z</td>\n      <td>blue</td>\n      <td>[http://swapi.co/api/films/6/, http://swapi.co...</td>\n      <td>male</td>\n      <td>blond</td>\n      <td>172</td>\n      <td>http://swapi.co/api/planets/1/</td>\n      <td>77</td>\n      <td>Luke Skywalker</td>\n      <td>fair</td>\n      <td>[http://swapi.co/api/species/1/]</td>\n      <td>[http://swapi.co/api/starships/12/, http://swa...</td>\n      <td>http://swapi.co/api/people/1/</td>\n      <td>[http://swapi.co/api/vehicles/14/, http://swap...</td>\n    </tr>\n    <tr>\n      <th>1</th>\n      <td>112BBY</td>\n      <td>2014-12-10T15:10:51.357000Z</td>\n      <td>2014-12-20T21:17:50.309000Z</td>\n      <td>yellow</td>\n      <td>[http://swapi.co/api/films/5/, http://swapi.co...</td>\n      <td>n/a</td>\n      <td>n/a</td>\n      <td>167</td>\n      <td>http://swapi.co/api/planets/1/</td>\n      <td>75</td>\n      <td>C-3PO</td>\n      <td>gold</td>\n      <td>[http://swapi.co/api/species/2/]</td>\n      <td>[]</td>\n      <td>http://swapi.co/api/people/2/</td>\n      <td>[]</td>\n    </tr>\n    <tr>\n      <th>2</th>\n      <td>33BBY</td>\n      <td>2014-12-10T15:11:50.376000Z</td>\n      <td>2014-12-20T21:17:50.311000Z</td>\n      <td>red</td>\n      <td>[http://swapi.co/api/films/5/, http://swapi.co...</td>\n      <td>n/a</td>\n      <td>n/a</td>\n      <td>96</td>\n      <td>http://swapi.co/api/planets/8/</td>\n      <td>32</td>\n      <td>R2-D2</td>\n      <td>white, blue</td>\n      <td>[http://swapi.co/api/species/2/]</td>\n      <td>[]</td>\n      <td>http://swapi.co/api/people/3/</td>\n      <td>[]</td>\n    </tr>\n    <tr>\n      <th>3</th>\n      <td>41.9BBY</td>\n      <td>2014-12-10T15:18:20.704000Z</td>\n      <td>2014-12-20T21:17:50.313000Z</td>\n      <td>yellow</td>\n      <td>[http://swapi.co/api/films/6/, http://swapi.co...</td>\n      <td>male</td>\n      <td>none</td>\n      <td>202</td>\n      <td>http://swapi.co/api/planets/1/</td>\n      <td>136</td>\n      <td>Darth Vader</td>\n      <td>white</td>\n      <td>[http://swapi.co/api/species/1/]</td>\n      <td>[http://swapi.co/api/starships/13/]</td>\n      <td>http://swapi.co/api/people/4/</td>\n      <td>[]</td>\n    </tr>\n    <tr>\n      <th>4</th>\n      <td>19BBY</td>\n      <td>2014-12-10T15:20:09.791000Z</td>\n      <td>2014-12-20T21:17:50.315000Z</td>\n      <td>brown</td>\n      <td>[http://swapi.co/api/films/6/, http://swapi.co...</td>\n      <td>female</td>\n      <td>brown</td>\n      <td>150</td>\n      <td>http://swapi.co/api/planets/2/</td>\n      <td>49</td>\n      <td>Leia Organa</td>\n      <td>light</td>\n      <td>[http://swapi.co/api/species/1/]</td>\n      <td>[]</td>\n      <td>http://swapi.co/api/people/5/</td>\n      <td>[http://swapi.co/api/vehicles/30/]</td>\n    </tr>\n    <tr>\n      <th>5</th>\n      <td>52BBY</td>\n      <td>2014-12-10T15:52:14.024000Z</td>\n      <td>2014-12-20T21:17:50.317000Z</td>\n      <td>blue</td>\n      <td>[http://swapi.co/api/films/5/, http://swapi.co...</td>\n      <td>male</td>\n      <td>brown, grey</td>\n      <td>178</td>\n      <td>http://swapi.co/api/planets/1/</td>\n      <td>120</td>\n      <td>Owen Lars</td>\n      <td>light</td>\n      <td>[http://swapi.co/api/species/1/]</td>\n      <td>[]</td>\n      <td>http://swapi.co/api/people/6/</td>\n      <td>[]</td>\n    </tr>\n    <tr>\n      <th>6</th>\n      <td>47BBY</td>\n      <td>2014-12-10T15:53:41.121000Z</td>\n      <td>2014-12-20T21:17:50.319000Z</td>\n      <td>blue</td>\n      <td>[http://swapi.co/api/films/5/, http://swapi.co...</td>\n      <td>female</td>\n      <td>brown</td>\n      <td>165</td>\n      <td>http://swapi.co/api/planets/1/</td>\n      <td>75</td>\n      <td>Beru Whitesun lars</td>\n      <td>light</td>\n      <td>[http://swapi.co/api/species/1/]</td>\n      <td>[]</td>\n      <td>http://swapi.co/api/people/7/</td>\n      <td>[]</td>\n    </tr>\n    <tr>\n      <th>7</th>\n      <td>unknown</td>\n      <td>2014-12-10T15:57:50.959000Z</td>\n      <td>2014-12-20T21:17:50.321000Z</td>\n      <td>red</td>\n      <td>[http://swapi.co/api/films/1/]</td>\n      <td>n/a</td>\n      <td>n/a</td>\n      <td>97</td>\n      <td>http://swapi.co/api/planets/1/</td>\n      <td>32</td>\n      <td>R5-D4</td>\n      <td>white, red</td>\n      <td>[http://swapi.co/api/species/2/]</td>\n      <td>[]</td>\n      <td>http://swapi.co/api/people/8/</td>\n      <td>[]</td>\n    </tr>\n    <tr>\n      <th>8</th>\n      <td>24BBY</td>\n      <td>2014-12-10T15:59:50.509000Z</td>\n      <td>2014-12-20T21:17:50.323000Z</td>\n      <td>brown</td>\n      <td>[http://swapi.co/api/films/1/]</td>\n      <td>male</td>\n      <td>black</td>\n      <td>183</td>\n      <td>http://swapi.co/api/planets/1/</td>\n      <td>84</td>\n      <td>Biggs Darklighter</td>\n      <td>light</td>\n      <td>[http://swapi.co/api/species/1/]</td>\n      <td>[http://swapi.co/api/starships/12/]</td>\n      <td>http://swapi.co/api/people/9/</td>\n      <td>[]</td>\n    </tr>\n    <tr>\n      <th>9</th>\n      <td>57BBY</td>\n      <td>2014-12-10T16:16:29.192000Z</td>\n      <td>2014-12-20T21:17:50.325000Z</td>\n      <td>blue-gray</td>\n      <td>[http://swapi.co/api/films/5/, http://swapi.co...</td>\n      <td>male</td>\n      <td>auburn, white</td>\n      <td>182</td>\n      <td>http://swapi.co/api/planets/20/</td>\n      <td>77</td>\n      <td>Obi-Wan Kenobi</td>\n      <td>fair</td>\n      <td>[http://swapi.co/api/species/1/]</td>\n      <td>[http://swapi.co/api/starships/48/, http://swa...</td>\n      <td>http://swapi.co/api/people/10/</td>\n      <td>[http://swapi.co/api/vehicles/38/]</td>\n    </tr>\n  </tbody>\n</table>\n</div>",
            "text/plain": "  birth_year                      created                       edited  \\\n0      19BBY  2014-12-09T13:50:51.644000Z  2014-12-20T21:17:56.891000Z   \n1     112BBY  2014-12-10T15:10:51.357000Z  2014-12-20T21:17:50.309000Z   \n2      33BBY  2014-12-10T15:11:50.376000Z  2014-12-20T21:17:50.311000Z   \n3    41.9BBY  2014-12-10T15:18:20.704000Z  2014-12-20T21:17:50.313000Z   \n4      19BBY  2014-12-10T15:20:09.791000Z  2014-12-20T21:17:50.315000Z   \n5      52BBY  2014-12-10T15:52:14.024000Z  2014-12-20T21:17:50.317000Z   \n6      47BBY  2014-12-10T15:53:41.121000Z  2014-12-20T21:17:50.319000Z   \n7    unknown  2014-12-10T15:57:50.959000Z  2014-12-20T21:17:50.321000Z   \n8      24BBY  2014-12-10T15:59:50.509000Z  2014-12-20T21:17:50.323000Z   \n9      57BBY  2014-12-10T16:16:29.192000Z  2014-12-20T21:17:50.325000Z   \n\n   eye_color                                              films  gender  \\\n0       blue  [http://swapi.co/api/films/6/, http://swapi.co...    male   \n1     yellow  [http://swapi.co/api/films/5/, http://swapi.co...     n/a   \n2        red  [http://swapi.co/api/films/5/, http://swapi.co...     n/a   \n3     yellow  [http://swapi.co/api/films/6/, http://swapi.co...    male   \n4      brown  [http://swapi.co/api/films/6/, http://swapi.co...  female   \n5       blue  [http://swapi.co/api/films/5/, http://swapi.co...    male   \n6       blue  [http://swapi.co/api/films/5/, http://swapi.co...  female   \n7        red                     [http://swapi.co/api/films/1/]     n/a   \n8      brown                     [http://swapi.co/api/films/1/]    male   \n9  blue-gray  [http://swapi.co/api/films/5/, http://swapi.co...    male   \n\n      hair_color height                        homeworld mass  \\\n0          blond    172   http://swapi.co/api/planets/1/   77   \n1            n/a    167   http://swapi.co/api/planets/1/   75   \n2            n/a     96   http://swapi.co/api/planets/8/   32   \n3           none    202   http://swapi.co/api/planets/1/  136   \n4          brown    150   http://swapi.co/api/planets/2/   49   \n5    brown, grey    178   http://swapi.co/api/planets/1/  120   \n6          brown    165   http://swapi.co/api/planets/1/   75   \n7            n/a     97   http://swapi.co/api/planets/1/   32   \n8          black    183   http://swapi.co/api/planets/1/   84   \n9  auburn, white    182  http://swapi.co/api/planets/20/   77   \n\n                 name   skin_color                           species  \\\n0      Luke Skywalker         fair  [http://swapi.co/api/species/1/]   \n1               C-3PO         gold  [http://swapi.co/api/species/2/]   \n2               R2-D2  white, blue  [http://swapi.co/api/species/2/]   \n3         Darth Vader        white  [http://swapi.co/api/species/1/]   \n4         Leia Organa        light  [http://swapi.co/api/species/1/]   \n5           Owen Lars        light  [http://swapi.co/api/species/1/]   \n6  Beru Whitesun lars        light  [http://swapi.co/api/species/1/]   \n7               R5-D4   white, red  [http://swapi.co/api/species/2/]   \n8   Biggs Darklighter        light  [http://swapi.co/api/species/1/]   \n9      Obi-Wan Kenobi         fair  [http://swapi.co/api/species/1/]   \n\n                                           starships  \\\n0  [http://swapi.co/api/starships/12/, http://swa...   \n1                                                 []   \n2                                                 []   \n3                [http://swapi.co/api/starships/13/]   \n4                                                 []   \n5                                                 []   \n6                                                 []   \n7                                                 []   \n8                [http://swapi.co/api/starships/12/]   \n9  [http://swapi.co/api/starships/48/, http://swa...   \n\n                              url  \\\n0   http://swapi.co/api/people/1/   \n1   http://swapi.co/api/people/2/   \n2   http://swapi.co/api/people/3/   \n3   http://swapi.co/api/people/4/   \n4   http://swapi.co/api/people/5/   \n5   http://swapi.co/api/people/6/   \n6   http://swapi.co/api/people/7/   \n7   http://swapi.co/api/people/8/   \n8   http://swapi.co/api/people/9/   \n9  http://swapi.co/api/people/10/   \n\n                                            vehicles  \n0  [http://swapi.co/api/vehicles/14/, http://swap...  \n1                                                 []  \n2                                                 []  \n3                                                 []  \n4                 [http://swapi.co/api/vehicles/30/]  \n5                                                 []  \n6                                                 []  \n7                                                 []  \n8                                                 []  \n9                 [http://swapi.co/api/vehicles/38/]  "
          },
          "metadata": {}
        }
      ]
    },
    {
      "cell_type": "code",
      "source": "# Let's get character names eye_xolorand skin colors\ncharacter_df[['name','skin_color', 'eye_color']]",
      "metadata": {},
      "execution_count": 6,
      "outputs": [
        {
          "execution_count": 6,
          "output_type": "execute_result",
          "data": {
            "text/html": "<div>\n<table border=\"1\" class=\"dataframe\">\n  <thead>\n    <tr style=\"text-align: right;\">\n      <th></th>\n      <th>name</th>\n      <th>skin_color</th>\n      <th>eye_color</th>\n    </tr>\n  </thead>\n  <tbody>\n    <tr>\n      <th>0</th>\n      <td>Luke Skywalker</td>\n      <td>fair</td>\n      <td>blue</td>\n    </tr>\n    <tr>\n      <th>1</th>\n      <td>C-3PO</td>\n      <td>gold</td>\n      <td>yellow</td>\n    </tr>\n    <tr>\n      <th>2</th>\n      <td>R2-D2</td>\n      <td>white, blue</td>\n      <td>red</td>\n    </tr>\n    <tr>\n      <th>3</th>\n      <td>Darth Vader</td>\n      <td>white</td>\n      <td>yellow</td>\n    </tr>\n    <tr>\n      <th>4</th>\n      <td>Leia Organa</td>\n      <td>light</td>\n      <td>brown</td>\n    </tr>\n    <tr>\n      <th>5</th>\n      <td>Owen Lars</td>\n      <td>light</td>\n      <td>blue</td>\n    </tr>\n    <tr>\n      <th>6</th>\n      <td>Beru Whitesun lars</td>\n      <td>light</td>\n      <td>blue</td>\n    </tr>\n    <tr>\n      <th>7</th>\n      <td>R5-D4</td>\n      <td>white, red</td>\n      <td>red</td>\n    </tr>\n    <tr>\n      <th>8</th>\n      <td>Biggs Darklighter</td>\n      <td>light</td>\n      <td>brown</td>\n    </tr>\n    <tr>\n      <th>9</th>\n      <td>Obi-Wan Kenobi</td>\n      <td>fair</td>\n      <td>blue-gray</td>\n    </tr>\n  </tbody>\n</table>\n</div>",
            "text/plain": "                 name   skin_color  eye_color\n0      Luke Skywalker         fair       blue\n1               C-3PO         gold     yellow\n2               R2-D2  white, blue        red\n3         Darth Vader        white     yellow\n4         Leia Organa        light      brown\n5           Owen Lars        light       blue\n6  Beru Whitesun lars        light       blue\n7               R5-D4   white, red        red\n8   Biggs Darklighter        light      brown\n9      Obi-Wan Kenobi         fair  blue-gray"
          },
          "metadata": {}
        }
      ]
    },
    {
      "cell_type": "code",
      "source": "# let's do the same for the male characters only\ncharacter_df[['name','skin_color', 'eye_color']][character_df['gender'] == 'male']",
      "metadata": {},
      "execution_count": 7,
      "outputs": [
        {
          "execution_count": 7,
          "output_type": "execute_result",
          "data": {
            "text/html": "<div>\n<table border=\"1\" class=\"dataframe\">\n  <thead>\n    <tr style=\"text-align: right;\">\n      <th></th>\n      <th>name</th>\n      <th>skin_color</th>\n      <th>eye_color</th>\n    </tr>\n  </thead>\n  <tbody>\n    <tr>\n      <th>0</th>\n      <td>Luke Skywalker</td>\n      <td>fair</td>\n      <td>blue</td>\n    </tr>\n    <tr>\n      <th>3</th>\n      <td>Darth Vader</td>\n      <td>white</td>\n      <td>yellow</td>\n    </tr>\n    <tr>\n      <th>5</th>\n      <td>Owen Lars</td>\n      <td>light</td>\n      <td>blue</td>\n    </tr>\n    <tr>\n      <th>8</th>\n      <td>Biggs Darklighter</td>\n      <td>light</td>\n      <td>brown</td>\n    </tr>\n    <tr>\n      <th>9</th>\n      <td>Obi-Wan Kenobi</td>\n      <td>fair</td>\n      <td>blue-gray</td>\n    </tr>\n  </tbody>\n</table>\n</div>",
            "text/plain": "                name skin_color  eye_color\n0     Luke Skywalker       fair       blue\n3        Darth Vader      white     yellow\n5          Owen Lars      light       blue\n8  Biggs Darklighter      light      brown\n9     Obi-Wan Kenobi       fair  blue-gray"
          },
          "metadata": {}
        }
      ]
    },
    {
      "cell_type": "code",
      "source": "",
      "metadata": {
        "collapsed": true
      },
      "execution_count": null,
      "outputs": []
    }
  ]
}