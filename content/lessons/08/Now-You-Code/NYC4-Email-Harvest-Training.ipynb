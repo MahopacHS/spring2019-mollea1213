{
  "metadata": {
    "anaconda-cloud": {},
    "kernelspec": {
      "name": "python3",
      "display_name": "Python 3",
      "language": "python"
    },
    "language_info": {
      "mimetype": "text/x-python",
      "nbconvert_exporter": "python",
      "name": "python",
      "pygments_lexer": "ipython3",
      "version": "3.5.4",
      "file_extension": ".py",
      "codemirror_mode": {
        "version": 3,
        "name": "ipython"
      }
    }
  },
  "nbformat_minor": 2,
  "nbformat": 4,
  "cells": [
    {
      "cell_type": "markdown",
      "source": "# Now You Code 4: Email Harvest Training\n\nLet's teach you how to extract emails from text. This has a variety of applications the most common being buiding an email list.\nThe best way to find the emails in the mailbox file is to search for lines in the file that begin with \"From: (similar to what we did in the lab). When you find an email write just the email address (not \"From:\" and the address) to \"NYC4-emails.txt\", and don't worry about duplicates.\n\nThe program should print the number of emails it wrote to the file.\n\nExample Run:\n\n```\nWrote 27 emails to NYC4-emails.txt\n```",
      "metadata": {}
    },
    {
      "cell_type": "markdown",
      "source": "## Step 1: Problem Analysis\n\nInput: (No user input, but we do read from the file `NYC4-emails.txt`\n\nOutput (The number of emails collected from the file, and a new file `NYC4-emails.txt` with one email per line.\n\nAlgorithm:\n\n```\n(write here)\n```\n",
      "metadata": {}
    },
    {
      "cell_type": "code",
      "source": "## Step 2: Write the code\namount = 0\nwith open('NYC4-mbox-short.txt','r') as f:\n    for line in f.readlines():\n        if line.startswith('From:'):\n            amount = amount + 1\n            email = line.replace('From:', '')\n            with open('NYC4-emails.txt', 'w') as f:\n                f.write(email)\n                \n            \n    print(\"Wrote\", amount, \"emails to NYC4-emails.txt\")\n    ",
      "metadata": {
        "trusted": true
      },
      "execution_count": 24,
      "outputs": [
        {
          "text": "Wrote 27 emails to NYC4-emails.txt\n",
          "name": "stdout",
          "output_type": "stream"
        }
      ]
    },
    {
      "cell_type": "code",
      "source": "## Step 3: Write a program to read the emails from NYC4-emails.txt and print them to the console\nwith open('NYC4-emails.txt', 'r') as f:\n    for line in f.readlines():\n        print(line)\n    \n    \n\n",
      "metadata": {
        "trusted": true
      },
      "execution_count": 25,
      "outputs": [
        {
          "text": " cwen@iupui.edu\n\n",
          "name": "stdout",
          "output_type": "stream"
        }
      ]
    },
    {
      "cell_type": "markdown",
      "source": "## Step 4: Questions\n\n1. Does this code actually \"detect\" emails? How does it find emails in the text?\n\n It just detects the beginning of emails which usually start with the text 'From:'\n\n2. Explain how this program can be improved to prompt for an email file at to process runtime?\n\n you can start the program with filename = input(filename)\n\n3. Devise an approach to remove duplicate emails from the output file. You don't have to write as code, just explain it.\n\n do an if statement for whether or not an email has already started the same way.",
      "metadata": {}
    },
    {
      "cell_type": "markdown",
      "source": "## Reminder of Evaluation Criteria\n\n1. What the problem attempted (analysis, code, and answered questions) ?\n2. What the problem analysis thought out? (does the program match the plan?)\n3. Does the code execute without syntax error?\n4. Does the code solve the intended problem?\n5. Is the code well written? (easy to understand, modular, and self-documenting, handles errors)\n",
      "metadata": {}
    },
    {
      "cell_type": "code",
      "source": "",
      "metadata": {},
      "execution_count": null,
      "outputs": []
    }
  ]
}