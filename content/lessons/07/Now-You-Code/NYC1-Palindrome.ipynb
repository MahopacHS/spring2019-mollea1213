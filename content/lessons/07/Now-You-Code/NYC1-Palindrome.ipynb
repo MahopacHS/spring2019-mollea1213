{
  "metadata": {
    "anaconda-cloud": {},
    "kernelspec": {
      "name": "python36",
      "display_name": "Python 3.6",
      "language": "python"
    },
    "language_info": {
      "mimetype": "text/x-python",
      "nbconvert_exporter": "python",
      "name": "python",
      "pygments_lexer": "ipython3",
      "version": "3.6.6",
      "file_extension": ".py",
      "codemirror_mode": {
        "version": 3,
        "name": "ipython"
      }
    }
  },
  "nbformat_minor": 2,
  "nbformat": 4,
  "cells": [
    {
      "cell_type": "markdown",
      "source": "# Now You Code 1: Palindrome Detector\n\nWrite a program to detect palindromes [https://en.wikipedia.org/wiki/Palindrome]. A palindrome is defined as a word or phrase which is the same in reverse. Here's some example's of one word palindromes:\n\n```\ndad\nwow\npop\nabba\nnoon\nkayak\nmadam\nsolos\nracecar\n```\n\nThere's several ways you accomplish this but we'd recommend using Python's extended slice notation as covered in the readings. It's by far the simplest method. \n\nThe final program should take input and return whether the text is or is not a palindrome until you enter `quit`.\n\nSample run of complete program:\n\n```\nEnter text or type `quit`: dad\n'dad' is a palindrome.\nEnter text or type `quit`: pappa\n'pappa' is not a palindrome.\nEnter text or type `quit`: quit\n```\n\nOnce again we will use the problem simplification technique to writing this program.\n\nFirst we will write the `isPalindrome(text)` function, then we will write the main program.\n",
      "metadata": {}
    },
    {
      "cell_type": "markdown",
      "source": "## Step 1: Problem Analysis for isPalindrome function only\n\nInputs: \n\n-Enter text\n-or enter quit\n\nOutputs: \n\n-text is a palindrome\n-text is not a palindrome\n-quit\n\nAlgorithm (Steps in Program):\n\n-input text\n-text.isPalindrome\n\ntext = str(input(\"Enter text or type quit: \"))\n",
      "metadata": {}
    },
    {
      "cell_type": "code",
      "source": "## Step 2: todo write function definition here\ndef isPalindrome(text):\n    while True:\n        text = str(input(\"Enter text or type quit. \"))\n        if text == text[::-1] :\n            return True\n        elif text == 'quit':\n            exit()\n        else:\n            return False\n            ",
      "metadata": {
        "collapsed": false,
        "trusted": true
      },
      "execution_count": 11,
      "outputs": []
    },
    {
      "cell_type": "code",
      "source": "## step 3: test the isPalindrome function to make sure it works:\nprint(\"Input:\", \"kayak\", \"Should be True, Actual Value:\", isPalindrome(\"kayak\") )\nprint(\"Input:\", \"mike\", \"Should be False, Actual Value:\", isPalindrome(\"mike\") )",
      "metadata": {
        "collapsed": false,
        "trusted": true
      },
      "execution_count": 12,
      "outputs": [
        {
          "text": "Input: kayak Should be True, Actual Value: True\nInput: mike Should be False, Actual Value: False\n",
          "name": "stdout",
          "output_type": "stream"
        }
      ]
    },
    {
      "cell_type": "markdown",
      "source": "## Step 4: Problem Analysis for full Program\n\nInputs:\n\n-text\n\nOutputs:\n\n-is or is not a palindrome\n\nAlgorithm (Steps in Program):\n\n",
      "metadata": {}
    },
    {
      "cell_type": "code",
      "source": "## Step 5: todo write code for full problem, using the isPalindrome function to help you solve the problem\ntext = 0\nisPalindrome(text)\nif True:\n    print(text, \"is a palindrome. \")\nelif text == 'quit ':\n    exit()\nelse: \n    print(text, \"is not a palindrome. \")",
      "metadata": {
        "collapsed": true,
        "trusted": true
      },
      "execution_count": 14,
      "outputs": [
        {
          "text": "0 is a palindrome. \n",
          "name": "stdout",
          "output_type": "stream"
        }
      ]
    },
    {
      "cell_type": "markdown",
      "source": "## Step 6: Questions\n\n1. Did you use a loop inside your `isPalindrome` function? Can you think of a way to re-factor it without a loop?\n\n-I did a while loop so the program would continue until 'quit' is entered.\n\n2. How many tests are required in step 3? \n\n-two tests\n\n3. What is the exit condition of the loop in the full program?\n\n-The user must type 'quit'\n",
      "metadata": {}
    },
    {
      "cell_type": "markdown",
      "source": "## Reminder of Evaluation Criteria\n\n1. What the problem attempted (analysis, code, and answered questions) ?\n2. What the problem analysis thought out? (does the program match the plan?)\n3. Does the code execute without syntax error?\n4. Does the code solve the intended problem?\n5. Is the code well written? (easy to understand, modular, and self-documenting, handles errors)\n",
      "metadata": {}
    },
    {
      "cell_type": "code",
      "source": "",
      "metadata": {
        "collapsed": true
      },
      "execution_count": null,
      "outputs": []
    }
  ]
}