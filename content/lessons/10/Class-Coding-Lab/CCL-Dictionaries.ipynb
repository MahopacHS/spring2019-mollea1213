{
  "metadata": {
    "anaconda-cloud": {},
    "kernelspec": {
      "name": "python36",
      "display_name": "Python 3.6",
      "language": "python"
    },
    "language_info": {
      "mimetype": "text/x-python",
      "nbconvert_exporter": "python",
      "name": "python",
      "pygments_lexer": "ipython3",
      "version": "3.6.6",
      "file_extension": ".py",
      "codemirror_mode": {
        "version": 3,
        "name": "ipython"
      }
    }
  },
  "nbformat_minor": 2,
  "nbformat": 4,
  "cells": [
    {
      "cell_type": "markdown",
      "source": "# In-Class Coding Lab: Dictionaries\n\nThe goals of this lab are to help you understand:\n\n - How to use Python Dictionaries\n - Basic Dictionary methods\n - Dealing with Key errors\n - How to use lists of Dictionaries\n - How to encode / decode python dictionaries to json.\n \n## Dictionaries are Key-Value Pairs.\n\nThe **key** is unique for each Python dictionary object and is always of type `str`. The **value** stored under the key can be any Python type. \n\nThis example creates a `stock` variable with two keys `symbol` and `name`. We access the dictionary key with `['keyname']`.",
      "metadata": {}
    },
    {
      "cell_type": "code",
      "source": "stock = {} # empty dictionary\nstock['symbol'] = 'AAPL'\nstock['name'] = 'Apple Computer'\nprint(stock)\nprint(stock['symbol'])\nprint(stock['name'])",
      "metadata": {
        "collapsed": false,
        "trusted": true
      },
      "execution_count": 4,
      "outputs": [
        {
          "text": "{'symbol': 'AAPL', 'name': 'Apple Computer'}\nAAPL\nApple Computer\n",
          "name": "stdout",
          "output_type": "stream"
        }
      ]
    },
    {
      "cell_type": "markdown",
      "source": "While Python lists are best suited for storing multiple values of the same type ( like grades ), Python dictionaries are best suited for storing hybrid values, or values with multiple attributes.\n\nIn the example above we created an empty dictionary `{}` then assigned keys `symbol` and `name` as part of individual assignment statements.\n\nWe can also build the dictionary in a single statement, like this:",
      "metadata": {}
    },
    {
      "cell_type": "code",
      "source": "stock = { 'name' : 'Apple Computer', 'symbol' : 'AAPL', 'value' : 125.6 }\nprint(stock)\nprint(\"%s (%s) has a value of $%.2f\" %(stock['name'], stock['symbol'], stock['value']))",
      "metadata": {
        "collapsed": false,
        "trusted": true
      },
      "execution_count": 5,
      "outputs": [
        {
          "text": "{'name': 'Apple Computer', 'symbol': 'AAPL', 'value': 125.6}\nApple Computer (AAPL) has a value of $125.60\n",
          "name": "stdout",
          "output_type": "stream"
        }
      ]
    },
    {
      "cell_type": "markdown",
      "source": "## Dictionaries are mutable\n\nThis means we can change their value. We can add and remove keys and update the value of keys. This makes dictionaries quite useful for storing  data.",
      "metadata": {}
    },
    {
      "cell_type": "code",
      "source": "# let's add 2 new keys\nprint(\"Before changes\", stock)\nstock['low'] = 119.85\nstock['high'] = 127.0\n\n# and update the value key\nstock['value'] = 126.25\nprint(\"After change\", stock)\n",
      "metadata": {
        "collapsed": false,
        "trusted": true
      },
      "execution_count": 6,
      "outputs": [
        {
          "text": "Before changes {'name': 'Apple Computer', 'symbol': 'AAPL', 'value': 125.6}\nAfter change {'name': 'Apple Computer', 'symbol': 'AAPL', 'value': 126.25, 'low': 119.85, 'high': 127.0}\n",
          "name": "stdout",
          "output_type": "stream"
        }
      ]
    },
    {
      "cell_type": "markdown",
      "source": "## Now you Try It!\n\nCreate a python dictionary called `car` with the following keys `make`, `model` and `price`. Set appropriate values and print out the dictionary.\n",
      "metadata": {}
    },
    {
      "cell_type": "code",
      "source": "# TODO: Write code here \ncar = { \"make\" , \"model\" , \"price\", 'value' , 126.5}\nprint(car)",
      "metadata": {
        "collapsed": true,
        "trusted": true
      },
      "execution_count": 7,
      "outputs": [
        {
          "text": "{'model', 'value', 'price', 'make', 126.5}\n",
          "name": "stdout",
          "output_type": "stream"
        }
      ]
    },
    {
      "cell_type": "markdown",
      "source": "## What Happens when the key is not there?\n\nLet's go back to our stock example. What happens when we try to read a key not present in the dictionary? \n\nThe answer is that Python will report a `KeyError` ",
      "metadata": {}
    },
    {
      "cell_type": "code",
      "source": "print( stock['change'] )",
      "metadata": {
        "collapsed": false,
        "trusted": true
      },
      "execution_count": 8,
      "outputs": [
        {
          "ename": "KeyError",
          "evalue": "'change'",
          "traceback": [
            "\u001b[0;31m---------------------------------------------------------------------------\u001b[0m",
            "\u001b[0;31mKeyError\u001b[0m                                  Traceback (most recent call last)",
            "\u001b[0;32m<ipython-input-8-28c6e1db7ee9>\u001b[0m in \u001b[0;36m<module>\u001b[0;34m\u001b[0m\n\u001b[0;32m----> 1\u001b[0;31m \u001b[0mprint\u001b[0m\u001b[0;34m(\u001b[0m \u001b[0mstock\u001b[0m\u001b[0;34m[\u001b[0m\u001b[0;34m'change'\u001b[0m\u001b[0;34m]\u001b[0m \u001b[0;34m)\u001b[0m\u001b[0;34m\u001b[0m\u001b[0m\n\u001b[0m",
            "\u001b[0;31mKeyError\u001b[0m: 'change'"
          ],
          "output_type": "error"
        }
      ]
    },
    {
      "cell_type": "markdown",
      "source": "No worries. We know how to handle run-time errors in Python... use `try except` !!!",
      "metadata": {}
    },
    {
      "cell_type": "code",
      "source": "try:\n    print( stock['change'] )\nexcept KeyError:\n    print(\"The key 'change' does not exist!\")",
      "metadata": {
        "collapsed": false,
        "trusted": true
      },
      "execution_count": 9,
      "outputs": [
        {
          "text": "The key 'change' does not exist!\n",
          "name": "stdout",
          "output_type": "stream"
        }
      ]
    },
    {
      "cell_type": "markdown",
      "source": "## Avoiding KeyError\n\nYou can avoid `KeyError` using the `get()` dictionary method. This method will return a default value when the key does not exist.\n\nThe first argument to `get()` is the key to get, the second argument is the value to return when the key does not exist. ",
      "metadata": {}
    },
    {
      "cell_type": "code",
      "source": "print(stock.get('name','no key'))\nprint(stock.get('change', 'no key'))",
      "metadata": {
        "collapsed": false,
        "trusted": true
      },
      "execution_count": 10,
      "outputs": [
        {
          "text": "Apple Computer\nno key\n",
          "name": "stdout",
          "output_type": "stream"
        }
      ]
    },
    {
      "cell_type": "markdown",
      "source": "## Now You try It!\n\nWrite a program to ask the user to input a key for the `stock` variable. \n\nIf the key exists, print the value, otherwise print 'Key does not exist'",
      "metadata": {}
    },
    {
      "cell_type": "code",
      "source": "# TODO: write code here\nnewkey = input(\"Enter input for stock variable: \")\nif newkey in stock:\n    print(stock[newkey])\nelse:\n    print(\"Key does not exist. \")",
      "metadata": {
        "collapsed": true,
        "trusted": true
      },
      "execution_count": 11,
      "outputs": [
        {
          "text": "Apple Computer\n",
          "name": "stdout",
          "output_type": "stream"
        }
      ]
    },
    {
      "cell_type": "markdown",
      "source": "## Enumerating keys and values\n\nYou can enumerate keys and values easily, using the `keys()` and `values()` methods:",
      "metadata": {}
    },
    {
      "cell_type": "code",
      "source": "print(\"KEYS\")\nfor k in stock.keys():\n    print(k)\n    \nprint(\"VALUES\")\nfor v in stock.values():\n    print(v)",
      "metadata": {
        "collapsed": false,
        "trusted": true
      },
      "execution_count": 12,
      "outputs": [
        {
          "text": "KEYS\nname\nsymbol\nvalue\nlow\nhigh\nVALUES\nApple Computer\nAAPL\n126.25\n119.85\n127.0\n",
          "name": "stdout",
          "output_type": "stream"
        }
      ]
    },
    {
      "cell_type": "markdown",
      "source": "## List of Dictionary\n\nThe List of Dictionary object in Python allows us to create useful in-memory data structures. It's one of the features of Python that sets it apart from other programming languages. \n\nLet's use it to build a portfolio (list of 4 stocks).",
      "metadata": {}
    },
    {
      "cell_type": "code",
      "source": "portfolio = [\n    { 'symbol' : 'AAPL', 'name' : 'Apple Computer Corp.', 'value': 136.66 },\n    { 'symbol' : 'AMZN', 'name' : 'Amazon.com, Inc.', 'value': 845.24 },\n    { 'symbol' : 'MSFT', 'name' : 'Microsoft Corporation', 'value': 64.62 },\n    { 'symbol' : 'TSLA', 'name' : 'Tesla, Inc.', 'value': 257.00 }    \n]\n\nprint(\"first stock\", portfolio[0])           \nprint(\"name of first stock\", portfolio[0]['name'])   \nprint(\"last stock\", portfolio[-1])          \nprint(\"value of 2nd stock\",  portfolio[1]['value'])  ",
      "metadata": {
        "collapsed": false,
        "trusted": true
      },
      "execution_count": 13,
      "outputs": [
        {
          "text": "first stock {'symbol': 'AAPL', 'name': 'Apple Computer Corp.', 'value': 136.66}\nname of first stock Apple Computer Corp.\nlast stock {'symbol': 'TSLA', 'name': 'Tesla, Inc.', 'value': 257.0}\nvalue of 2nd stock 845.24\n",
          "name": "stdout",
          "output_type": "stream"
        }
      ]
    },
    {
      "cell_type": "markdown",
      "source": "## Putting It All Together\n\nWrite a program to build out your personal stock portfolio.\n\n```\n1. Start with an empty list, called portfolio\n2. loop\n3.     create a new stock dictionary\n3.     input a stock symbol, or type 'QUIT' to print portfolio\n4.     if symbol equals 'QUIT' exit loop\n5.     add symbol value to stock dictionary under 'symbol' key\n6.     input stock value as float\n7.     add stock value to stock dictionary under 'value key\n8.     append stock variable to portfolio list variable\n9. time to print the portfolio: for each stock in the portfolio\n10.    print stock symbol and stock value, like this \"AAPL $136.66\"\n```",
      "metadata": {}
    },
    {
      "cell_type": "code",
      "source": "portfolio = []\nwhile True:\n    stock = {}\n    symbol = input(\"Enter a stock symbol or type 'quit' to print portfolio: \")\n    if symbol == 'quit':\n        break\n    stock['symbol'] = symbol\n    stock_value = float(input(\"Enter stock value as float. \"))\n    stock['value'] = stock_value\n    portfolio.append(stock)\n    for stock in portfolio:\n        print (stock['symbol'], stock['value'])",
      "metadata": {
        "collapsed": true,
        "trusted": true
      },
      "execution_count": 2,
      "outputs": [
        {
          "text": "AAPL 136.66\n",
          "name": "stdout",
          "output_type": "stream"
        }
      ]
    },
    {
      "cell_type": "code",
      "source": "",
      "metadata": {
        "collapsed": true
      },
      "execution_count": null,
      "outputs": []
    }
  ]
}