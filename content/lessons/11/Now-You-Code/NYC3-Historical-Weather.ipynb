{
  "metadata": {
    "anaconda-cloud": {},
    "kernelspec": {
      "name": "python36",
      "display_name": "Python 3.6",
      "language": "python"
    },
    "language_info": {
      "mimetype": "text/x-python",
      "nbconvert_exporter": "python",
      "name": "python",
      "pygments_lexer": "ipython3",
      "version": "3.6.6",
      "file_extension": ".py",
      "codemirror_mode": {
        "version": 3,
        "name": "ipython"
      }
    }
  },
  "nbformat_minor": 2,
  "nbformat": 4,
  "cells": [
    {
      "cell_type": "markdown",
      "source": "# Now You Code 3: Syracuse Historical Weather\n\nWrite a program to prompt a user to input a date and time string, and then it should **report the temperature and weather conditions on that day and time for Syracuse, NY.**\n\nTo accomplish this, use the Dark Sky Time Machine API, here: https://darksky.net/dev/docs/time-machine \n\nYou're going to have to read about the API and understand how it works before you can write this program, which is the point of the exercise.\n\nThe date and time that the user inputs must be in the following format: `YYYY-MM-DDThh:mm:ss` \n\nFor example January 7, 2016 at 4:30pm would be: `2016-01-07T16:30:00`\n\nBe sure to use the GPS coordinates for Syracuse, NY which are (lat=43.048122,lng=-76.147424)\n\nExample Run (Based on the exchange rates from 2017-03-06:\n\n```\nSyracuse, NY Historical Weather\nEnter a date and time in the following format: YYYY-MM-DDThh:mm:ss => 2016-07-23T14:30:00\nOn 2016-07-23T14:30:00 Syracuse, NY was Partly Cloudy with a temperature of  85\n```\n",
      "metadata": {}
    },
    {
      "cell_type": "markdown",
      "source": "## Step 1: Problem Analysis\n\nInputs: A date in the format `YYYY-MM-DDThh:mm:ss` \n\nOutputs: the current weather conditions (sunny, rain, partly cloudy) and the temperature.\n\nAlgorithm (Steps in Program):\n\n```\ntodo write algorithm here\n```\n- print title of program\n- get the date and time\n- load in the darksky website program \n- get the weather and temperature from the user inputted date and time",
      "metadata": {}
    },
    {
      "cell_type": "code",
      "source": "# step 2: write code here\nimport requests\nimport json  \n\nprint('Syracuse, NY Historical Weather')\n\ndatetime = input(\"Enter a date and time in the following format: YYYY-MM-DDThh:mm:ss : \")\ncoords = { 'lat' : 43.048122, 'lng' : -76.147424 }\n\nkey = 'b559f6aa7586d6d6e8073e9761dba259'  \nurl= 'https://api.darksky.net/forecast/%s/%f,%f,%s' % (key, coords['lat'], coords['lng'], datetime)\nresponse = requests.get(url)\nweather = response.json\nconditions = { 'daily' : float(data[0]['summary']) }\ntemperature = { 'daily' : float(data[0]['temperature']) }\n\nprint(\"On %s Syracuse, NY was %s with a temperature of %.0f\" % \n      (datetime, currently['summary'], currently['temperature']))\n",
      "metadata": {
        "trusted": true
      },
      "execution_count": null,
      "outputs": [
        {
          "text": "Syracuse, NY Historical Weather\n",
          "name": "stdout",
          "output_type": "stream"
        }
      ]
    },
    {
      "cell_type": "markdown",
      "source": "## Step 6: Questions\n\n1. What happens when you enter `1/1/2017` as date input? Which error to you get? Fix the program in step 2 so that it handles this error.\n2. Put your laptop in Airplane mode (disable the wifi) and then run the program. What happens? Fix the program in step 4 so that it handles this error.",
      "metadata": {}
    },
    {
      "cell_type": "markdown",
      "source": "## Reminder of Evaluation Criteria\n\n1. What the problem attempted (analysis, code, and answered questions) ?\n2. What the problem analysis thought out? (does the program match the plan?)\n3. Does the code execute without syntax error?\n4. Does the code solve the intended problem?\n5. Is the code well written? (easy to understand, modular, and self-documenting, handles errors)",
      "metadata": {}
    }
  ]
}