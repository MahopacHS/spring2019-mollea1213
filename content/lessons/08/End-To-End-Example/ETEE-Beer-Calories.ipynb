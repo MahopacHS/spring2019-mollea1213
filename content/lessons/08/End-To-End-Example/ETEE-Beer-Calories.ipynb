{
  "metadata": {
    "anaconda-cloud": {},
    "kernelspec": {
      "display_name": "Python 3",
      "language": "python",
      "name": "python3"
    },
    "language_info": {
      "mimetype": "text/x-python",
      "nbconvert_exporter": "python",
      "name": "python",
      "file_extension": ".py",
      "version": "3.5.4",
      "pygments_lexer": "ipython3",
      "codemirror_mode": {
        "version": 3,
        "name": "ipython"
      }
    }
  },
  "nbformat_minor": 2,
  "nbformat": 4,
  "cells": [
    {
      "cell_type": "markdown",
      "source": "# End-To-End Example: Get Calories For Popular Beers\n\nThis example uses a data file `\"ETEE-beer-calories.txt\"` which contains calorie information for 254 popular beers. The calories are per 12 fluid ounces.\n\nThe data file looks like this:\n```\n...\nAbita Purple Haze,128\nAbita Restoration,167\nAbita Turbodog,168\nAmstel Light,99\nAnchor Porter,209\n...\n```\n\nLet's write a program to search for a beer by name and retrieve the number of calories in 12 ounces.\n\nExample Run:\n\n```\nEnter a beer name: Stella\nSearching for Stella...\nStella Artois has 154 calories per 12oz.\n```",
      "metadata": {}
    },
    {
      "cell_type": "code",
      "source": "filename = \"ETEE-beer-calories.txt\"\ntry:\n    with open (filename,\"r\") as f:\n        beer = input(\"Enter a beer name: \").title()\n        print(\"Searching for %s...\" % (beer))\n        for line in f.readlines():\n            if beer in line:\n                beer_name = line.split(',')[0]\n                calories = int(line.split(',')[1])\n                print(\"%s has %d calories per 12oz.\" % (beer_name, calories))\n                break\n        else:\n            print(\"I could not find %s\" % (beer))\nexcept FileNotFoundError:\n    print(\"Could not find data file '%s'\" % (filename))",
      "metadata": {
        "collapsed": false,
        "trusted": true
      },
      "execution_count": 3,
      "outputs": [
        {
          "text": "Searching for Bud...\nBud American Ale has 182 calories per 12oz.\n",
          "name": "stdout",
          "output_type": "stream"
        }
      ]
    },
    {
      "cell_type": "code",
      "source": "\n\n\n\n",
      "metadata": {
        "collapsed": true
      },
      "execution_count": null,
      "outputs": []
    }
  ]
}