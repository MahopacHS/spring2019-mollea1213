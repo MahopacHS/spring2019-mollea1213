{
  "metadata": {
    "anaconda-cloud": {},
    "kernelspec": {
      "display_name": "Python 3",
      "language": "python",
      "name": "python3"
    },
    "language_info": {
      "mimetype": "text/x-python",
      "nbconvert_exporter": "python",
      "name": "python",
      "file_extension": ".py",
      "version": "3.5.4",
      "pygments_lexer": "ipython3",
      "codemirror_mode": {
        "version": 3,
        "name": "ipython"
      }
    }
  },
  "nbformat_minor": 2,
  "nbformat": 4,
  "cells": [
    {
      "cell_type": "markdown",
      "source": "# Inter-Class Coding Lab: Variables And Types\n\nThe goals of this lab are to help you to understand:\n\n1. Python data types\n1. Getting input as different types\n1. Formatting output as different types\n1. Basic arithmetic operators\n1. How to create a program from an idea.",
      "metadata": {}
    },
    {
      "cell_type": "markdown",
      "source": "## Variable Types\n\nEvery Python variable has a **type**. The Type determines how the data is stored in the computer's memory: ",
      "metadata": {}
    },
    {
      "cell_type": "code",
      "source": "a = \"4\"\ntype(a) # should be str",
      "metadata": {
        "collapsed": false
      },
      "execution_count": 2,
      "outputs": [
        {
          "execution_count": 2,
          "output_type": "execute_result",
          "data": {
            "text/plain": "str"
          },
          "metadata": {}
        }
      ]
    },
    {
      "cell_type": "code",
      "source": "a = 4\ntype(a) # should be int",
      "metadata": {
        "collapsed": false
      },
      "execution_count": 3,
      "outputs": [
        {
          "execution_count": 3,
          "output_type": "execute_result",
          "data": {
            "text/plain": "int"
          },
          "metadata": {}
        }
      ]
    },
    {
      "cell_type": "markdown",
      "source": "### Types Matter \n\nPython's built in functions and operators work differently depending on the type of the variable.:",
      "metadata": {}
    },
    {
      "cell_type": "code",
      "source": "a = 4\nb = 5\na + b # this plus in this case means add so 9",
      "metadata": {
        "collapsed": false
      },
      "execution_count": 5,
      "outputs": [
        {
          "execution_count": 5,
          "output_type": "execute_result",
          "data": {
            "text/plain": "9"
          },
          "metadata": {}
        }
      ]
    },
    {
      "cell_type": "code",
      "source": "a = \"4\"\nb = \"5\"\na + b # the plus + in this case means concatenation, so '45'",
      "metadata": {
        "collapsed": false
      },
      "execution_count": 6,
      "outputs": [
        {
          "execution_count": 6,
          "output_type": "execute_result",
          "data": {
            "text/plain": "'45'"
          },
          "metadata": {}
        }
      ]
    },
    {
      "cell_type": "markdown",
      "source": "### Switching Types\n\nthere are built-in Python functions for switching types. For example:",
      "metadata": {}
    },
    {
      "cell_type": "code",
      "source": "x = \"45\" # x is a str\ny = int(x)  # y is now an int\nz = float(x) # z is a float\nprint(x,y,z)",
      "metadata": {
        "collapsed": false
      },
      "execution_count": 9,
      "outputs": [
        {
          "name": "stdout",
          "output_type": "stream",
          "text": "45 45 45.0\n"
        }
      ]
    },
    {
      "cell_type": "markdown",
      "source": "### Inputs type str\n\nWhen you use the `input()` function the result is of type `str`:\n",
      "metadata": {}
    },
    {
      "cell_type": "code",
      "source": "age = input(\"Enter your age: \")\ntype(age)",
      "metadata": {
        "collapsed": false
      },
      "execution_count": 11,
      "outputs": [
        {
          "name": "stdout",
          "output_type": "stream",
          "text": "Enter your age: 45\n"
        },
        {
          "execution_count": 11,
          "output_type": "execute_result",
          "data": {
            "text/plain": "str"
          },
          "metadata": {}
        }
      ]
    },
    {
      "cell_type": "markdown",
      "source": "We can use a built in Python function to convert the type from `str` to our desired type:",
      "metadata": {}
    },
    {
      "cell_type": "code",
      "source": "age = input(\"Enter your age: \")\nage = int(age)\ntype(age)",
      "metadata": {
        "collapsed": false
      },
      "execution_count": 12,
      "outputs": [
        {
          "name": "stdout",
          "output_type": "stream",
          "text": "Enter your age: 45\n"
        },
        {
          "execution_count": 12,
          "output_type": "execute_result",
          "data": {
            "text/plain": "int"
          },
          "metadata": {}
        }
      ]
    },
    {
      "cell_type": "markdown",
      "source": "We typically combine the first two lines into one expression like this:",
      "metadata": {}
    },
    {
      "cell_type": "code",
      "source": "age = int(input(\"Enter your age: \"))\ntype(age)",
      "metadata": {
        "collapsed": false
      },
      "execution_count": 13,
      "outputs": [
        {
          "name": "stdout",
          "output_type": "stream",
          "text": "Enter your age: 45\n"
        },
        {
          "execution_count": 13,
          "output_type": "execute_result",
          "data": {
            "text/plain": "int"
          },
          "metadata": {}
        }
      ]
    },
    {
      "cell_type": "markdown",
      "source": "## Now Try This:\n\nWrite a program to:\n\n- input your age, convert it to an int and store it in a variable\n- add one to your age, store it in another variable\n- print out your current age and your age next year.\n\nFor example:\n```\nEnter your age: 45\nToday you are 45 next year you will be 46\n```",
      "metadata": {}
    },
    {
      "cell_type": "code",
      "source": "# TODO: Write your code here\nage = int(input(\"Enter your age: \"))\nprint(\"Today you are\", age, \"next year you will be\", age +1)\n",
      "metadata": {
        "collapsed": true,
        "trusted": true
      },
      "execution_count": 1,
      "outputs": [
        {
          "text": "Today you are 45 next year you will be 46\n",
          "name": "stdout",
          "output_type": "stream"
        }
      ]
    },
    {
      "cell_type": "markdown",
      "source": "## Format Codes\n\nPython has some string format codes which allow us to control the output of our variables. \n\n- %s = format variable as str\n- %d = format variable as int\n- %f = format variable as float\n\nYou can also include the number of spaces to use for example `%5.2f` prints a float with 5 spaces 2 to the right of the decimal point.",
      "metadata": {}
    },
    {
      "cell_type": "code",
      "source": "name = \"Mike\"\nage = 45\ngpa = 3.4\nprint(\"%s is %d years old. His gpa is %.3f\" % (name, age,gpa))",
      "metadata": {
        "collapsed": false
      },
      "execution_count": 14,
      "outputs": [
        {
          "name": "stdout",
          "output_type": "stream",
          "text": "Mike is 45 years old. His gpa is 3.400\n"
        }
      ]
    },
    {
      "cell_type": "markdown",
      "source": "## Now Try This:\n\nPrint the PI variable out 3 times. Once as a string, once as an int and once as a float to 4 decimal places:",
      "metadata": {}
    },
    {
      "cell_type": "code",
      "source": "PI = 3.1415927\nprint(\"%s\" % (PI))\nprint(\"%d\" % (PI))\nprint(\"%.4f\" % (PI))\n",
      "metadata": {
        "collapsed": true,
        "trusted": true
      },
      "execution_count": 7,
      "outputs": [
        {
          "text": "3.1415927\n3\n3.1416\n",
          "name": "stdout",
          "output_type": "stream"
        }
      ]
    },
    {
      "cell_type": "markdown",
      "source": "## Putting it all together: Fred's Fence Estimator\n\nFred's Fence has hired you to write a program to  estimate the cost of their fencing projects. For a given length and width you will calculate the number of 6 foot fence sections, and total cost of the project. Each fence section costs $23.95. Assume the posts and labor are free.\n\nProgram Inputs:\n\n- Length of yard in feet\n- Width of yard in feet\n    \nProgram Outputs:\n\n- Perimeter of yard ( 2 x (Length + Width))\n- Number of fence sections required (Permiemer divided by 6 )\n- Total cost for fence ( fence sections multiplied by $23.95 )\n    \nNOTE: All outputs should be formatted to 2 decimal places: e.g. 123.05 ",
      "metadata": {}
    },
    {
      "cell_type": "code",
      "source": "#TODO:\n# 1. Input length of yard as float, assign to a variable\n# 2. Input Width of yard as float, assign to a variable\n# 3. Calculate perimeter of yar, assign to a variable\n# 4. calculate number of fence sections, assign to a variable \n# 5. calculate total cost, assign to variable\n# 6. print perimeter of yard\n# 7. print number of fence sections\n# 8. print total cost for fence. ",
      "metadata": {
        "collapsed": true
      },
      "execution_count": null,
      "outputs": []
    },
    {
      "cell_type": "markdown",
      "source": "## Now Try This\n\nBased on the provided TODO, write the program in python in the cell below. Your solution should have 8 lines of code, one for each TODO.\n\n**HINT**: Don't try to write the program in one sitting. Instead write a line of code, run it, verify it works and fix any issues with it before writing the next line of code. ",
      "metadata": {}
    },
    {
      "cell_type": "code",
      "source": "# TODO: Write your code here\nlength_yard = float(input(\"Enter the length of a yard: \"))\nwidth_yard = float(input(\"Enter the width of a yard: \"))\nperimeter_yard = 2 * (length_yard + width_yard)\nfence_sections = perimeter_yard / 6\ntotal_cost = fence_sections * 23.95\nprint(\"The perimeter of the yard is %.2f\" % (perimeter_yard))\nprint(\"The number of fence sections is %.2f\" % (fence_sections))\nprint(\"The total cost is %.2f\" % (total_cost))\n",
      "metadata": {
        "collapsed": true,
        "trusted": true
      },
      "execution_count": 12,
      "outputs": [
        {
          "text": "The perimeter of the yard is 46.00\nThe number of fence sections is 7.67\nThe total cost is 183.62\n",
          "name": "stdout",
          "output_type": "stream"
        }
      ]
    },
    {
      "cell_type": "code",
      "source": "",
      "metadata": {},
      "execution_count": null,
      "outputs": []
    }
  ]
}