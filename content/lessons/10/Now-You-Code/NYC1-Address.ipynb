{
  "metadata": {
    "anaconda-cloud": {},
    "kernelspec": {
      "name": "python3",
      "display_name": "Python 3",
      "language": "python"
    },
    "language_info": {
      "mimetype": "text/x-python",
      "nbconvert_exporter": "python",
      "name": "python",
      "pygments_lexer": "ipython3",
      "version": "3.5.4",
      "file_extension": ".py",
      "codemirror_mode": {
        "version": 3,
        "name": "ipython"
      }
    }
  },
  "nbformat_minor": 2,
  "nbformat": 4,
  "cells": [
    {
      "cell_type": "markdown",
      "source": "# Now You Code 1: Address\n\nWrite a Python program to input elements of your postal address and then output them as if they were an address label. The program should use a dictionary to store the address and complete two function defintions one for inputting the address and one for printing the address.\n\n**NOTE:** While you most certainly can write this program without using dictionaries or functions, the point of the exercise is to get used to using them!!!\n\nSample Run:\n\n```\nEnter Street: 314 Hinds Hall\nEnter City: Syracuse\nEnter State: NY\nEnter Postal Zip Code: 13244\nMailing Address:\n314 Hinds Hall\nSyracuse , NY 13244\n\n```",
      "metadata": {}
    },
    {
      "cell_type": "markdown",
      "source": "## Step 1: Problem Analysis `input_address` function\n\nThis function should get input from the user at run time and return the input address.\n\nInputs: None (gets input from user)\n\nOutputs: a Python dictionary of address info (street, city, state, postal_code)\n\nAlgorithm (Steps in Program):\n\n",
      "metadata": {}
    },
    {
      "cell_type": "code",
      "source": "## Step 2: Write input_address_ function\n#input: None (inputs from console)\n#output: dictionary of the address\ndef input_address():\n    # todo: write code here to input the street, city, state and zip code and add to dictionary at runtime and store in a dictionary\n    address['street'] = str(input(\"Enter the street: \"))\n    address['city'] = str(input(\"Enter the city: \"))\n    address['state'] = str(input(\"Enter the state: \"))\n    address['zipcode'] = str(input(\"Enter the zip code: \"))\n    return address\n\n",
      "metadata": {
        "trusted": true
      },
      "execution_count": 53,
      "outputs": []
    },
    {
      "cell_type": "markdown",
      "source": "## Step 3: Problem Analysis `print_address` function\n\nThis function should display a mailing address using the dictionary variable\n\nInputs: dictionary variable of address into (street, city, state, postal_code)\n\nOutputs: None (prints to screen)\n\nAlgorithm (Steps in Program):\n\n",
      "metadata": {}
    },
    {
      "cell_type": "code",
      "source": "## Step 4: write code\n# input: address dictionary\n# output: none (outputs to console)\ndef print_address(address):\n    # todo: write code to print the address (leave empty return at the end\n    print(\"Mailing Address: \")\n    print(address['street'])\n    print(address['city'], \",\", address['state'], address['zipcode'])\n    return ",
      "metadata": {
        "collapsed": true,
        "trusted": true
      },
      "execution_count": 54,
      "outputs": []
    },
    {
      "cell_type": "markdown",
      "source": "## Step 5: Problem Analysis main program\n\nShould be trivial at this point. \n\nInputs: \n\n- city, state, street, zipcode\n\nOutputs: \n\n- mailing address\n\nAlgorithm (Steps in Program):\n",
      "metadata": {}
    },
    {
      "cell_type": "code",
      "source": "## Step 6: write main program, use other 2 functions you made to solve this problem.\n    \n# main program\n# todo: call input_address, then print_address\naddress = {}\nwhile True:\n    input_address()\n    print_address(address)\n    break\n\n\n\n",
      "metadata": {
        "collapsed": true,
        "trusted": true
      },
      "execution_count": 55,
      "outputs": [
        {
          "text": "Mailing Address: \n29 Cuddy Road\nMahopac , NY 10541\n",
          "name": "stdout",
          "output_type": "stream"
        }
      ]
    },
    {
      "cell_type": "markdown",
      "source": "## Step 7: Questions\n\n1. Explain a strategy for a situation when an expected dictionary key, like 'state' for example does not exist?\n\n- Add the key\n\n2. The program as it is written is not very useful. How can we make it more useful?\n\n- \n",
      "metadata": {}
    },
    {
      "cell_type": "markdown",
      "source": "## Reminder of Evaluation Criteria\n\n1. What the problem attempted (analysis, code, and answered questions) ?\n2. What the problem analysis thought out? (does the program match the plan?)\n3. Does the code execute without syntax error?\n4. Does the code solve the intended problem?\n5. Is the code well written? (easy to understand, modular, and self-documenting, handles errors)\n",
      "metadata": {}
    },
    {
      "cell_type": "code",
      "source": "",
      "metadata": {
        "collapsed": true
      },
      "execution_count": null,
      "outputs": []
    }
  ]
}