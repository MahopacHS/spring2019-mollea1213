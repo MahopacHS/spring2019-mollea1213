{
  "metadata": {
    "anaconda-cloud": {},
    "kernelspec": {
      "display_name": "Python 3",
      "language": "python",
      "name": "python3"
    },
    "language_info": {
      "mimetype": "text/x-python",
      "nbconvert_exporter": "python",
      "name": "python",
      "pygments_lexer": "ipython3",
      "version": "3.5.4",
      "file_extension": ".py",
      "codemirror_mode": {
        "version": 3,
        "name": "ipython"
      }
    }
  },
  "nbformat_minor": 2,
  "nbformat": 4,
  "cells": [
    {
      "cell_type": "markdown",
      "source": "# End-To-End Example: Today's Weather\n\nThis example will input a location and then output today's current weather conditions at that location. \n\nTo complete this example we will use the following API's \n\n- OpenStreetMaps Geocode api to get GPS coordinates for a location eg. Syracuse, NY\n- Darksky.net forecast api to get the currnt weather conditions for those GPS coordinates\n",
      "metadata": {}
    },
    {
      "cell_type": "code",
      "source": "# Todo list\n# input a location eg. Syracuse, ny\n# use the google geocode api to get a lat/lng\n# use the darksky api and lat/lng to get current weather conditions\n# output current weather conditions (temperature and summary (rain, snow, etc...))\n",
      "metadata": {},
      "execution_count": 29,
      "outputs": []
    },
    {
      "cell_type": "code",
      "source": "import requests",
      "metadata": {},
      "execution_count": 30,
      "outputs": []
    },
    {
      "cell_type": "code",
      "source": "def geocode(location):\n    params = {'q' : location, 'format': 'json'}\n    url='https://nominatim.openstreetmap.org/search' \n    response = requests.get(url, params = params)\n    if response.ok:\n        geodata = response.json()\n        return geodata\n    else:\n        print(\"Error calling api!!!\")\n        print(response.text)\n        \n# Testing with syracuse, NY \n# geocode('Syracuse, NY')",
      "metadata": {},
      "execution_count": 31,
      "outputs": []
    },
    {
      "cell_type": "code",
      "source": "def darksky_weather(coords):\n    key = '3428d875996cccbf7b713a175d3fd7a5' # sign up for your own key at https://darksky.net/dev \n    url='https://api.darksky.net/forecast/%s/%f,%f' % (key, coords['lat'], coords['lng'])\n    #print(url)\n    response = requests.get(url)\n    weather = response.json()\n    return weather\n\n# Testing with syracuse, NY coordinates\n# darksky_weather( {'lat' : 43.0481221, 'lng' : -76.1474244})",
      "metadata": {},
      "execution_count": 32,
      "outputs": []
    },
    {
      "cell_type": "code",
      "source": "# then test them here to figue out how to extract from the dictionary\ngeodata = geocode('Syracuse, NY')\ncoords = { 'lat' : float(geodata[0]['lat']), 'lng' : float(geodata[0]['lon']) }\ncoords\nweather = darksky_weather(coords)\nweather['currently']['temperature']\n    ",
      "metadata": {},
      "execution_count": 33,
      "outputs": [
        {
          "execution_count": 33,
          "output_type": "execute_result",
          "data": {
            "text/plain": "40.2"
          },
          "metadata": {}
        }
      ]
    },
    {
      "cell_type": "code",
      "source": "import requests\n# Now I can write the entire program...\nlocation = input(\"Where are you? (eg. Syracuse, NY) : \")\ngeodata = geocode(location)\ncoords = { 'lat' : float(geodata[0]['lat']), 'lng' : float(geodata[0]['lon']) }\nweather = darksky_weather(coords)\ncurrent = weather['currently']\nprint(\"Current conditions in %s are %s with a temperature of %.0f degrees.\" % \n      (location, current['summary'], current['temperature']))\n",
      "metadata": {},
      "execution_count": 34,
      "outputs": [
        {
          "name": "stdout",
          "output_type": "stream",
          "text": "Where are you? (eg. Syracuse, NY) : Ottawa, ON\nCurrent conditions in Ottawa, ON are Partly Cloudy with a temperature of 31 degrees.\n"
        }
      ]
    },
    {
      "cell_type": "code",
      "source": "",
      "metadata": {},
      "execution_count": null,
      "outputs": []
    }
  ]
}