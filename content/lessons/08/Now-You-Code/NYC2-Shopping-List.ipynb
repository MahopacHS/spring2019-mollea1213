{
  "metadata": {
    "anaconda-cloud": {},
    "kernelspec": {
      "name": "python3",
      "display_name": "Python 3",
      "language": "python"
    },
    "language_info": {
      "mimetype": "text/x-python",
      "nbconvert_exporter": "python",
      "name": "python",
      "pygments_lexer": "ipython3",
      "version": "3.5.4",
      "file_extension": ".py",
      "codemirror_mode": {
        "version": 3,
        "name": "ipython"
      }
    }
  },
  "nbformat_minor": 2,
  "nbformat": 4,
  "cells": [
    {
      "cell_type": "markdown",
      "source": "# Now You Code 2: Shopping List\n\nWrite a program to input a list of grocery items for your shopping list and then writes them to a file a line at a time.  The program should keep asking you to enter grocery items until you type `'done'`.\n\nAfter you complete the list, the program should then load the file and read the list back to you by printing each item out.\n\nSample Run:\n\n```\nLet's make a shopping list. Type 'done' when you're finished:\nEnter Item: milk\nEnter Item: cheese\nEnter Item: eggs\nEnter Item: beer\nEnter Item: apples\nEnter Item: done\nYour shopping list:\nmilk\ncheese\neggs\nbeer\napples\n```\n",
      "metadata": {}
    },
    {
      "cell_type": "markdown",
      "source": "## Step 1: Problem Analysis\n\nInputs:\n\n-grocery item.\n-done\n\nOutputs:\n\n-state back entered items after input\n-list all items \n\nAlgorithm (Steps in Program):\n\n-input item\n-put item into list\n-ask if done\n-put list into file\n\n\n",
      "metadata": {}
    },
    {
      "cell_type": "code",
      "source": "filename = \"NYC2-shopping-list.txt\"\nwith open('NYC2-shopping-list.txt', 'w') as f:\n        shoppingList=[]\n        i = 0\n        while 1:\n            i = i + 1\n            item = input(\"Enter Item or type 'done': \")\n            if item == 'done':\n                print(\"Your shopping list:\")\n                print(shoppingList)\n                break\n            shoppingList.append(item)\n",
      "metadata": {
        "trusted": true
      },
      "execution_count": 1,
      "outputs": [
        {
          "text": "Your shopping list:\n['milk', 'cheese', 'butter', 'eggs']\n",
          "name": "stdout",
          "output_type": "stream"
        }
      ]
    },
    {
      "cell_type": "markdown",
      "source": "## Step 3: Refactoring\n\nRefactor the part of your program which reads the shopping list from the file into a separate user-defined function called `readShoppingList` \nre-write your program to use this function.\n\n## ReadShoppingList function\n\nInputs:\n\n-groceries\n-done\n\nOutputs:\n\n-shopping list\n\nAlgorithm (Steps in Program):\n\n-input item\n-append item to list\n-repeat until done entered\n-when done entered, call function\n-print out shopping list\n",
      "metadata": {}
    },
    {
      "cell_type": "code",
      "source": "def readShoppingList():\n    if item == 'done':\n        shoppingList.append(item)\n        return shoppingList\n        exit()\n\nfilename = \"NYC2-shopping-list.txt\"\nwith open('NYC2-shopping-list.txt', 'w') as f:\n    shoppingList = []\n    i = 0\n    while 1:\n        i = i + 1\n        item = input(\"Enter Item or type 'done': \")\n        readShoppingList()\n        ",
      "metadata": {
        "collapsed": true,
        "trusted": true
      },
      "execution_count": null,
      "outputs": []
    },
    {
      "cell_type": "markdown",
      "source": "## Step 5: Questions\n\n1. Is the refactored code in step 4 easier to read? Why or why not?\n2. Explain how this program could be refarctored further (there's one thing that's obvious).\n\n-make a factor for opening/reading a file.\n\n3. Describe how this program can be modified to support multiple shopping lists?\n\n-make different functions with different names such as shoppingList1 or shoppingList 2, or even lists for different types of foods like shoppingDairy or shoppingMeat. \n",
      "metadata": {}
    },
    {
      "cell_type": "markdown",
      "source": "## Reminder of Evaluation Criteria\n\n1. What the problem attempted (analysis, code, and answered questions) ?\n2. What the problem analysis thought out? (does the program match the plan?)\n3. Does the code execute without syntax error?\n4. Does the code solve the intended problem?\n5. Is the code well written? (easy to understand, modular, and self-documenting, handles errors)\n",
      "metadata": {}
    }
  ]
}