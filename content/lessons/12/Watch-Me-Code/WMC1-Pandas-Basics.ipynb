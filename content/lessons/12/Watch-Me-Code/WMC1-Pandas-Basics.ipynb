{
  "metadata": {
    "anaconda-cloud": {},
    "kernelspec": {
      "display_name": "Python 3",
      "language": "python",
      "name": "python3"
    },
    "language_info": {
      "mimetype": "text/x-python",
      "nbconvert_exporter": "python",
      "name": "python",
      "pygments_lexer": "ipython3",
      "version": "3.5.4",
      "file_extension": ".py",
      "codemirror_mode": {
        "version": 3,
        "name": "ipython"
      }
    }
  },
  "nbformat_minor": 2,
  "nbformat": 4,
  "cells": [
    {
      "cell_type": "markdown",
      "source": "# Watch Me Code 1: Pandas Basics\n\n- Series\n- DataFrame\n- Select columns, Select rows with Boolean indexing\n",
      "metadata": {}
    },
    {
      "cell_type": "code",
      "source": "import pandas as pd",
      "metadata": {
        "collapsed": true
      },
      "execution_count": 7,
      "outputs": []
    },
    {
      "cell_type": "code",
      "source": "fruits = pd.Series(['Apple', 'Banana', 'Cherry', 'Orange'], name = \"Fruit\")\nfruits",
      "metadata": {
        "collapsed": false
      },
      "execution_count": 8,
      "outputs": [
        {
          "execution_count": 8,
          "output_type": "execute_result",
          "data": {
            "text/plain": "0     Apple\n1    Banana\n2    Cherry\n3    Orange\nName: Fruit, dtype: object"
          },
          "metadata": {}
        }
      ]
    },
    {
      "cell_type": "code",
      "source": "qtys = pd.Series([5,7,2,9])\nqtys",
      "metadata": {
        "collapsed": false
      },
      "execution_count": 9,
      "outputs": [
        {
          "execution_count": 9,
          "output_type": "execute_result",
          "data": {
            "text/plain": "0    5\n1    7\n2    2\n3    9\ndtype: int64"
          },
          "metadata": {}
        }
      ]
    },
    {
      "cell_type": "code",
      "source": "# dictionary of Series\ninventory = pd.DataFrame({ 'Fruit' : fruits, 'Qty' : qtys, 'Price': [2.99,1.99,3.99,2.99] })\ninventory",
      "metadata": {
        "collapsed": false
      },
      "execution_count": 11,
      "outputs": [
        {
          "execution_count": 11,
          "output_type": "execute_result",
          "data": {
            "text/html": "<div>\n<table border=\"1\" class=\"dataframe\">\n  <thead>\n    <tr style=\"text-align: right;\">\n      <th></th>\n      <th>Fruit</th>\n      <th>Price</th>\n      <th>Qty</th>\n    </tr>\n  </thead>\n  <tbody>\n    <tr>\n      <th>0</th>\n      <td>Apple</td>\n      <td>2.99</td>\n      <td>5</td>\n    </tr>\n    <tr>\n      <th>1</th>\n      <td>Banana</td>\n      <td>1.99</td>\n      <td>7</td>\n    </tr>\n    <tr>\n      <th>2</th>\n      <td>Cherry</td>\n      <td>3.99</td>\n      <td>2</td>\n    </tr>\n    <tr>\n      <th>3</th>\n      <td>Orange</td>\n      <td>2.99</td>\n      <td>9</td>\n    </tr>\n  </tbody>\n</table>\n</div>",
            "text/plain": "    Fruit  Price  Qty\n0   Apple   2.99    5\n1  Banana   1.99    7\n2  Cherry   3.99    2\n3  Orange   2.99    9"
          },
          "metadata": {}
        }
      ]
    },
    {
      "cell_type": "code",
      "source": "# column selection\ninventory['Fruit']",
      "metadata": {
        "collapsed": false
      },
      "execution_count": 12,
      "outputs": [
        {
          "execution_count": 12,
          "output_type": "execute_result",
          "data": {
            "text/plain": "0     Apple\n1    Banana\n2    Cherry\n3    Orange\nName: Fruit, dtype: object"
          },
          "metadata": {}
        }
      ]
    },
    {
      "cell_type": "code",
      "source": "# as DataFrame\ninventory[ ['Fruit'] ]",
      "metadata": {
        "collapsed": false
      },
      "execution_count": 13,
      "outputs": [
        {
          "execution_count": 13,
          "output_type": "execute_result",
          "data": {
            "text/html": "<div>\n<table border=\"1\" class=\"dataframe\">\n  <thead>\n    <tr style=\"text-align: right;\">\n      <th></th>\n      <th>Fruit</th>\n    </tr>\n  </thead>\n  <tbody>\n    <tr>\n      <th>0</th>\n      <td>Apple</td>\n    </tr>\n    <tr>\n      <th>1</th>\n      <td>Banana</td>\n    </tr>\n    <tr>\n      <th>2</th>\n      <td>Cherry</td>\n    </tr>\n    <tr>\n      <th>3</th>\n      <td>Orange</td>\n    </tr>\n  </tbody>\n</table>\n</div>",
            "text/plain": "    Fruit\n0   Apple\n1  Banana\n2  Cherry\n3  Orange"
          },
          "metadata": {}
        }
      ]
    },
    {
      "cell_type": "code",
      "source": "#two columns in the list\ninventory[ ['Fruit','Price'] ]",
      "metadata": {
        "collapsed": false
      },
      "execution_count": 14,
      "outputs": [
        {
          "execution_count": 14,
          "output_type": "execute_result",
          "data": {
            "text/html": "<div>\n<table border=\"1\" class=\"dataframe\">\n  <thead>\n    <tr style=\"text-align: right;\">\n      <th></th>\n      <th>Fruit</th>\n      <th>Price</th>\n    </tr>\n  </thead>\n  <tbody>\n    <tr>\n      <th>0</th>\n      <td>Apple</td>\n      <td>2.99</td>\n    </tr>\n    <tr>\n      <th>1</th>\n      <td>Banana</td>\n      <td>1.99</td>\n    </tr>\n    <tr>\n      <th>2</th>\n      <td>Cherry</td>\n      <td>3.99</td>\n    </tr>\n    <tr>\n      <th>3</th>\n      <td>Orange</td>\n      <td>2.99</td>\n    </tr>\n  </tbody>\n</table>\n</div>",
            "text/plain": "    Fruit  Price\n0   Apple   2.99\n1  Banana   1.99\n2  Cherry   3.99\n3  Orange   2.99"
          },
          "metadata": {}
        }
      ]
    },
    {
      "cell_type": "code",
      "source": "# Boolean index\ninventory['Qty'] >5 ",
      "metadata": {
        "collapsed": false
      },
      "execution_count": 15,
      "outputs": [
        {
          "execution_count": 15,
          "output_type": "execute_result",
          "data": {
            "text/plain": "0    False\n1     True\n2    False\n3     True\nName: Qty, dtype: bool"
          },
          "metadata": {}
        }
      ]
    },
    {
      "cell_type": "code",
      "source": "# applying a boolean index to a dataframe\ninventory[ inventory['Qty'] >5 ]",
      "metadata": {
        "collapsed": false
      },
      "execution_count": 16,
      "outputs": [
        {
          "execution_count": 16,
          "output_type": "execute_result",
          "data": {
            "text/html": "<div>\n<table border=\"1\" class=\"dataframe\">\n  <thead>\n    <tr style=\"text-align: right;\">\n      <th></th>\n      <th>Fruit</th>\n      <th>Price</th>\n      <th>Qty</th>\n    </tr>\n  </thead>\n  <tbody>\n    <tr>\n      <th>1</th>\n      <td>Banana</td>\n      <td>1.99</td>\n      <td>7</td>\n    </tr>\n    <tr>\n      <th>3</th>\n      <td>Orange</td>\n      <td>2.99</td>\n      <td>9</td>\n    </tr>\n  </tbody>\n</table>\n</div>",
            "text/plain": "    Fruit  Price  Qty\n1  Banana   1.99    7\n3  Orange   2.99    9"
          },
          "metadata": {}
        }
      ]
    },
    {
      "cell_type": "code",
      "source": "#combining columns and filters\nfruit_and_price_over5 = inventory[['Fruit','Price']][inventory['Qty'] >5 ] \nfruit_and_price_over5",
      "metadata": {
        "collapsed": false
      },
      "execution_count": 20,
      "outputs": [
        {
          "execution_count": 20,
          "output_type": "execute_result",
          "data": {
            "text/html": "<div>\n<table border=\"1\" class=\"dataframe\">\n  <thead>\n    <tr style=\"text-align: right;\">\n      <th></th>\n      <th>Fruit</th>\n      <th>Price</th>\n    </tr>\n  </thead>\n  <tbody>\n    <tr>\n      <th>1</th>\n      <td>Banana</td>\n      <td>1.99</td>\n    </tr>\n    <tr>\n      <th>3</th>\n      <td>Orange</td>\n      <td>2.99</td>\n    </tr>\n  </tbody>\n</table>\n</div>",
            "text/plain": "    Fruit  Price\n1  Banana   1.99\n3  Orange   2.99"
          },
          "metadata": {}
        }
      ]
    },
    {
      "cell_type": "code",
      "source": "# Confused? Too hot to handle??? Use variables!\nlarge_qty = inventory[ inventory['Qty'] >5 ]\nfruit_and_price_over5 = large_qty[ ['Fruit', 'Price' ] ]\nfruit_and_price_over5 ",
      "metadata": {
        "collapsed": false
      },
      "execution_count": 19,
      "outputs": [
        {
          "execution_count": 19,
          "output_type": "execute_result",
          "data": {
            "text/html": "<div>\n<table border=\"1\" class=\"dataframe\">\n  <thead>\n    <tr style=\"text-align: right;\">\n      <th></th>\n      <th>Fruit</th>\n      <th>Price</th>\n    </tr>\n  </thead>\n  <tbody>\n    <tr>\n      <th>1</th>\n      <td>Banana</td>\n      <td>1.99</td>\n    </tr>\n    <tr>\n      <th>3</th>\n      <td>Orange</td>\n      <td>2.99</td>\n    </tr>\n  </tbody>\n</table>\n</div>",
            "text/plain": "    Fruit  Price\n1  Banana   1.99\n3  Orange   2.99"
          },
          "metadata": {}
        }
      ]
    },
    {
      "cell_type": "code",
      "source": "",
      "metadata": {
        "collapsed": true
      },
      "execution_count": null,
      "outputs": []
    }
  ]
}