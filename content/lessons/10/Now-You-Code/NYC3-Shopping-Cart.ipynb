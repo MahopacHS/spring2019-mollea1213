{
  "metadata": {
    "anaconda-cloud": {},
    "kernelspec": {
      "name": "python3",
      "display_name": "Python 3",
      "language": "python"
    },
    "language_info": {
      "mimetype": "text/x-python",
      "nbconvert_exporter": "python",
      "name": "python",
      "pygments_lexer": "ipython3",
      "version": "3.5.4",
      "file_extension": ".py",
      "codemirror_mode": {
        "version": 3,
        "name": "ipython"
      }
    }
  },
  "nbformat_minor": 2,
  "nbformat": 4,
  "cells": [
    {
      "cell_type": "markdown",
      "source": "# Now You Code 3: Shopping Cart\n\nIn this program you will implement an online shopping cart using a Python list of dictionary. The dictionary will contain the product name, price and quantity. \n\n\nThe program should loop continually,  asking the user to enter \n - Product name\n - Product price\n - Product quantity\n\nuntil the user enters a product name of `'checkout'` at which time the loop should break.\n\nEach time through the loop you should create a dictionary of product name, product price and product quantity then add the dictionary to a list.\n\nAfter you enter `'checkout'`  the program should show:\n\n - all the items in the cart, including their quantity and price\n - and the total amount of the order, a running sum of quantity times price\n\nNOTE: Don't worry about handling bad inputs for this exercise.\n\nExample Run:\n\n```\nE-Commerce Shopping Cart\nEnter product name or 'checkout':pencil\nEnter pencil Price:0.99\nEnter pencil Quantity:10\nEnter product name or 'checkout':calculator\nEnter calculator Price:9.99\nEnter calculator Quantity:1\nEnter product name or 'checkout':checkout\npencil 10 $0.99\ncalculator 1 $9.99\nTOTAL: $19.89\n```\n\nStart out your program by writing your TODO list of steps you'll need to solve the problem!",
      "metadata": {}
    },
    {
      "cell_type": "markdown",
      "source": "## Step 1: Problem Analysis\n\nInputs:\n\n- product name\n- price\n- quantity\n- 'checkout'\n\nOutputs:\n\n- \"E-Commerce Shopping Cart\n- total cost\n\nAlgorithm (Steps in Program):\n\n```\n- write algorithm here\nprint E-Commerce Shopping Cart\nEnter product name or checkout\nif name is checkout \n     break\nenter product cost\nenter product quantity\nmultiply cost times quantity\nput item and cost into dictionary\nput dictionary into list\nnew input\n```\n",
      "metadata": {}
    },
    {
      "cell_type": "code",
      "source": "# STEP 2: Write code\ncheckout = []\nprint(\"E-Commerce Shopping Cart\")\nwhile True:\n    stuff = {}\n    name = input(\"Enter name of item or 'checkout' : \")\n    if name == 'checkout':\n        break\n    else:\n        stuff['name'] = name\n    cost = float(input(\"Enter item's cost: \"))\n    stuff['quantity'] = float(input(\"Enter quantity of item: \"))\n    stuff['cost'] = stuff['quantity'] * cost\n    checkout.append(stuff['cost'])\nprint(\"TOTAL: $\", checkout[0] + checkout[1])",
      "metadata": {
        "trusted": true
      },
      "execution_count": 29,
      "outputs": [
        {
          "text": "E-Commerce Shopping Cart\nTOTAL: $ 19.89\n",
          "name": "stdout",
          "output_type": "stream"
        }
      ]
    },
    {
      "cell_type": "markdown",
      "source": "## Step 3: Questions\n\n1. How does using a Python dictionary simplify this program? (Think of how you would have to write this program if you did not use a dictionary)\n\n- by putting each item seperately into it's own dictionary the program becomes a bit cleaner and it's easier to keep track of everything. \n\n2. What Happens when you run the program and just type `checkout`. Does the program work as you would expect?\n\n- The total is empty because there is nothing to add up.",
      "metadata": {}
    },
    {
      "cell_type": "markdown",
      "source": "## Reminder of Evaluation Criteria\n\n1. What the problem attempted (analysis, code, and answered questions) ?\n2. What the problem analysis thought out? (does the program match the plan?)\n3. Does the code execute without syntax error?\n4. Does the code solve the intended problem?\n5. Is the code well written? (easy to understand, modular, and self-documenting, handles errors)\n",
      "metadata": {}
    },
    {
      "cell_type": "code",
      "source": "",
      "metadata": {},
      "execution_count": null,
      "outputs": []
    }
  ]
}