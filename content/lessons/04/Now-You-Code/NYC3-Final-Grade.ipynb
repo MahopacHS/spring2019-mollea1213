{
  "metadata": {
    "anaconda-cloud": {},
    "kernelspec": {
      "name": "python3",
      "display_name": "Python 3",
      "language": "python"
    },
    "language_info": {
      "mimetype": "text/x-python",
      "nbconvert_exporter": "python",
      "name": "python",
      "pygments_lexer": "ipython3",
      "version": "3.5.4",
      "file_extension": ".py",
      "codemirror_mode": {
        "version": 3,
        "name": "ipython"
      }
    }
  },
  "nbformat_minor": 2,
  "nbformat": 4,
  "cells": [
    {
      "cell_type": "markdown",
      "source": "# Now You Code 3: Final Grade in IST256\n\n# Part 1\n\nOur Course Syllabus has a grading scale here:\n\nhttp://ist256.syr.edu/syllabus/#grading-scale\n\nWrite a Python program to input a number of points earned out of 600 and then\noutputs the registrar letter grade. \n\nFor example:\n\n    IST256 Grade Calculator\n    Enter total points out of 600:  550\n    Grade: A- \n",
      "metadata": {}
    },
    {
      "cell_type": "markdown",
      "source": "## Step 1: Problem Analysis\n\nInputs:\n\n-total points\n\nOutputs:\n\n-grade\n\nAlgorithm (Steps in Program):\n\n-ask for grade\n-convert grade to letter\n-output letter grade",
      "metadata": {}
    },
    {
      "cell_type": "code",
      "source": "#Step 2: write code here\nprint(\"IST256 Grade Calculator\")\npoints = int(input(\"Enter total points out of 600: \"))\nif points >= 0 and points <= 0:\n    print(\"Grade: F\")\nelif points >= 300 and points <= 359:\n    print(\"Grade: D\")\nelif points >= 360 and points <= 449:\n    print(\"Grade: C\")\nelif points >= 450 and points <= 539:\n    print(\"Grade: B\")\nelif points >= 540 and points <= 600:\n    print(\"Grade: A\")\nelif points > 600 and points < 0:\n    print(\"Not a valid grade\")\nelse:\n    print(\"Not a value input.\")\n",
      "metadata": {
        "trusted": true
      },
      "execution_count": 14,
      "outputs": [
        {
          "text": "IST256 Grade Calculator\nNot a value input.\n",
          "name": "stdout",
          "output_type": "stream"
        }
      ]
    },
    {
      "cell_type": "markdown",
      "source": "# Part 2\n\nNow that you got it working,  re-write your code to handle bad input. Specifically:\n\n\n- non integer values\n- integer values outside the 0 to 600 range.\n\n**Note:** Exception handling is not part of our algorithm. It's a programming concern, not a problem-solving concern!",
      "metadata": {}
    },
    {
      "cell_type": "code",
      "source": "## Step 2 (again): write code again but handle errors with try...except\nprint(\"IST256 Grade Calculator\")\npoints = int(input(\"Enter total points out of 600: \"))\nif points <= 299:\n    print(\"Grade: F\")\nelif points >= 300 and points <= 359:\n    print(\"Grade: D\")\nelif points >= 360 and points <= 449:\n    print(\"Grade: C\")\nelif points >= 450 and points <= 539:\n    print(\"Grade: B\")\nelif points >= 540 and points <= 600:\n    print(\"Grade: A\")\nelse:\n    print(\"Please enter correct input\")\n",
      "metadata": {},
      "execution_count": 1,
      "outputs": []
    },
    {
      "cell_type": "markdown",
      "source": "## Step 3: Questions\n\n1. What specific Python Error are we handling (please provide the name of it)? TypeError.\n2. How many times must you execute this program and check the output before you canbe reasonably assured your code is correct? Explain. 6 times, including making sure all of the different grades output correctly as well as making sure exception handling works. \n3. When testing this program do you think its more important to test numbers in the middle of the grade range or exactly on the boundary between one grade range and the next. Justify your response. On the boundary to make sure that the operators you are using are working very precise. ",
      "metadata": {}
    },
    {
      "cell_type": "markdown",
      "source": "## Reminder of Evaluation Criteria\n\n1. What the problem attempted (analysis, code, and answered questions) ?\n2. What the problem analysis thought out? (does the program match the plan?)\n3. Does the code execute without syntax error?\n4. Does the code solve the intended problem?\n5. Is the code well written? (easy to understand, modular, and self-documenting, handles errors)\n",
      "metadata": {}
    }
  ]
}