{
  "metadata": {
    "anaconda-cloud": {},
    "kernelspec": {
      "name": "python36",
      "display_name": "Python 3.6",
      "language": "python"
    },
    "language_info": {
      "mimetype": "text/x-python",
      "nbconvert_exporter": "python",
      "name": "python",
      "pygments_lexer": "ipython3",
      "version": "3.6.6",
      "file_extension": ".py",
      "codemirror_mode": {
        "version": 3,
        "name": "ipython"
      }
    }
  },
  "nbformat_minor": 2,
  "nbformat": 4,
  "cells": [
    {
      "cell_type": "markdown",
      "source": "## Now You Code 2: Syracuse Crime Data\n\nIn this second now you code you will explore the plot.ly engine in detail using Syracuse, NY FBI crime data.",
      "metadata": {}
    },
    {
      "cell_type": "code",
      "source": "import plotly.plotly as py  \nimport plotly as pyp\nimport plotly.graph_objs as go  \nimport cufflinks as cf\nimport pandas as pd\npyp.tools.set_credentials_file(username='mollea1213', api_key='f8HeIDO11r9qvrMMci1h')",
      "metadata": {
        "collapsed": true,
        "trusted": true
      },
      "execution_count": 10,
      "outputs": []
    },
    {
      "cell_type": "code",
      "source": "crime = pd.read_csv('https://raw.githubusercontent.com/mafudge/datasets/master/crime/syracuse-crime-data-1985-2012.csv')\ncrime.sample(10)",
      "metadata": {
        "trusted": true
      },
      "execution_count": 11,
      "outputs": [
        {
          "execution_count": 11,
          "output_type": "execute_result",
          "data": {
            "text/html": "<div>\n<style scoped>\n    .dataframe tbody tr th:only-of-type {\n        vertical-align: middle;\n    }\n\n    .dataframe tbody tr th {\n        vertical-align: top;\n    }\n\n    .dataframe thead th {\n        text-align: right;\n    }\n</style>\n<table border=\"1\" class=\"dataframe\">\n  <thead>\n    <tr style=\"text-align: right;\">\n      <th></th>\n      <th>Year</th>\n      <th>Months</th>\n      <th>Population</th>\n      <th>Violent crime total</th>\n      <th>Murder and nonnegligent Manslaughter</th>\n      <th>Forcible rape</th>\n      <th>Robbery</th>\n      <th>Aggravated assault</th>\n      <th>Property crime total</th>\n      <th>Burglary</th>\n      <th>...</th>\n      <th>Violent Crime rate</th>\n      <th>Murder and nonnegligent manslaughter rate</th>\n      <th>Forcible rape rate</th>\n      <th>Robbery rate</th>\n      <th>Aggravated assault rate</th>\n      <th>Property crime rate</th>\n      <th>Burglary rate</th>\n      <th>Larceny-theft rate</th>\n      <th>Motor vehicle theft rate</th>\n      <th>Unnamed: 21</th>\n    </tr>\n  </thead>\n  <tbody>\n    <tr>\n      <th>5</th>\n      <td>1990</td>\n      <td>12</td>\n      <td>163860</td>\n      <td>1400</td>\n      <td>14</td>\n      <td>118</td>\n      <td>494</td>\n      <td>774</td>\n      <td>9914</td>\n      <td>2999</td>\n      <td>...</td>\n      <td>854.4</td>\n      <td>8.5</td>\n      <td>72.0</td>\n      <td>301.5</td>\n      <td>472.4</td>\n      <td>6050.3</td>\n      <td>1830.2</td>\n      <td>3860.6</td>\n      <td>359.5</td>\n      <td>NaN</td>\n    </tr>\n    <tr>\n      <th>0</th>\n      <td>1985</td>\n      <td>12</td>\n      <td>164659</td>\n      <td>1013</td>\n      <td>12</td>\n      <td>80</td>\n      <td>551</td>\n      <td>370</td>\n      <td>11037</td>\n      <td>3741</td>\n      <td>...</td>\n      <td>615.2</td>\n      <td>7.3</td>\n      <td>48.6</td>\n      <td>334.6</td>\n      <td>224.7</td>\n      <td>6702.9</td>\n      <td>2272.0</td>\n      <td>4172.3</td>\n      <td>258.7</td>\n      <td>NaN</td>\n    </tr>\n    <tr>\n      <th>15</th>\n      <td>2000</td>\n      <td>12</td>\n      <td>147306</td>\n      <td>1565</td>\n      <td>18</td>\n      <td>47</td>\n      <td>452</td>\n      <td>1048</td>\n      <td>7565</td>\n      <td>1846</td>\n      <td>...</td>\n      <td>1062.4</td>\n      <td>12.2</td>\n      <td>31.9</td>\n      <td>306.8</td>\n      <td>711.4</td>\n      <td>5135.6</td>\n      <td>1253.2</td>\n      <td>3354.2</td>\n      <td>528.2</td>\n      <td>NaN</td>\n    </tr>\n    <tr>\n      <th>26</th>\n      <td>2011</td>\n      <td>12</td>\n      <td>145822</td>\n      <td>1302</td>\n      <td>11</td>\n      <td>63</td>\n      <td>388</td>\n      <td>840</td>\n      <td>5275</td>\n      <td>1705</td>\n      <td>...</td>\n      <td>892.9</td>\n      <td>7.5</td>\n      <td>43.2</td>\n      <td>266.1</td>\n      <td>576.0</td>\n      <td>3617.4</td>\n      <td>1169.2</td>\n      <td>2236.3</td>\n      <td>211.9</td>\n      <td>NaN</td>\n    </tr>\n    <tr>\n      <th>11</th>\n      <td>1996</td>\n      <td>12</td>\n      <td>160033</td>\n      <td>1398</td>\n      <td>15</td>\n      <td>62</td>\n      <td>579</td>\n      <td>742</td>\n      <td>9601</td>\n      <td>2821</td>\n      <td>...</td>\n      <td>873.6</td>\n      <td>9.4</td>\n      <td>38.7</td>\n      <td>361.8</td>\n      <td>463.7</td>\n      <td>5999.4</td>\n      <td>1762.8</td>\n      <td>3711.7</td>\n      <td>524.9</td>\n      <td>NaN</td>\n    </tr>\n    <tr>\n      <th>18</th>\n      <td>2003</td>\n      <td>12</td>\n      <td>145411</td>\n      <td>1383</td>\n      <td>17</td>\n      <td>44</td>\n      <td>477</td>\n      <td>845</td>\n      <td>7773</td>\n      <td>1975</td>\n      <td>...</td>\n      <td>951.1</td>\n      <td>11.7</td>\n      <td>30.3</td>\n      <td>328.0</td>\n      <td>581.1</td>\n      <td>5345.5</td>\n      <td>1358.2</td>\n      <td>3171.7</td>\n      <td>815.6</td>\n      <td>NaN</td>\n    </tr>\n    <tr>\n      <th>1</th>\n      <td>1986</td>\n      <td>12</td>\n      <td>164560</td>\n      <td>1108</td>\n      <td>9</td>\n      <td>61</td>\n      <td>552</td>\n      <td>486</td>\n      <td>11097</td>\n      <td>3646</td>\n      <td>...</td>\n      <td>673.3</td>\n      <td>5.5</td>\n      <td>37.1</td>\n      <td>335.4</td>\n      <td>295.3</td>\n      <td>6743.4</td>\n      <td>2215.6</td>\n      <td>4225.8</td>\n      <td>302.0</td>\n      <td>NaN</td>\n    </tr>\n    <tr>\n      <th>19</th>\n      <td>2004</td>\n      <td>12</td>\n      <td>144278</td>\n      <td>1312</td>\n      <td>16</td>\n      <td>68</td>\n      <td>447</td>\n      <td>781</td>\n      <td>6609</td>\n      <td>1678</td>\n      <td>...</td>\n      <td>909.4</td>\n      <td>11.1</td>\n      <td>47.1</td>\n      <td>309.8</td>\n      <td>541.3</td>\n      <td>4580.7</td>\n      <td>1163.0</td>\n      <td>2628.3</td>\n      <td>789.4</td>\n      <td>NaN</td>\n    </tr>\n    <tr>\n      <th>2</th>\n      <td>1987</td>\n      <td>12</td>\n      <td>161228</td>\n      <td>1158</td>\n      <td>14</td>\n      <td>87</td>\n      <td>494</td>\n      <td>563</td>\n      <td>12120</td>\n      <td>4721</td>\n      <td>...</td>\n      <td>718.2</td>\n      <td>8.7</td>\n      <td>54.0</td>\n      <td>306.4</td>\n      <td>349.2</td>\n      <td>7517.3</td>\n      <td>2928.2</td>\n      <td>4240.0</td>\n      <td>349.2</td>\n      <td>NaN</td>\n    </tr>\n    <tr>\n      <th>20</th>\n      <td>2005</td>\n      <td>12</td>\n      <td>143306</td>\n      <td>1570</td>\n      <td>19</td>\n      <td>73</td>\n      <td>554</td>\n      <td>924</td>\n      <td>6486</td>\n      <td>1867</td>\n      <td>...</td>\n      <td>1095.6</td>\n      <td>13.3</td>\n      <td>50.9</td>\n      <td>386.6</td>\n      <td>644.8</td>\n      <td>4526.0</td>\n      <td>1302.8</td>\n      <td>2539.3</td>\n      <td>683.9</td>\n      <td>NaN</td>\n    </tr>\n  </tbody>\n</table>\n<p>10 rows × 22 columns</p>\n</div>",
            "text/plain": "    Year  Months  Population  Violent crime total  \\\n5   1990      12      163860                 1400   \n0   1985      12      164659                 1013   \n15  2000      12      147306                 1565   \n26  2011      12      145822                 1302   \n11  1996      12      160033                 1398   \n18  2003      12      145411                 1383   \n1   1986      12      164560                 1108   \n19  2004      12      144278                 1312   \n2   1987      12      161228                 1158   \n20  2005      12      143306                 1570   \n\n    Murder and nonnegligent Manslaughter  Forcible rape  Robbery  \\\n5                                     14            118      494   \n0                                     12             80      551   \n15                                    18             47      452   \n26                                    11             63      388   \n11                                    15             62      579   \n18                                    17             44      477   \n1                                      9             61      552   \n19                                    16             68      447   \n2                                     14             87      494   \n20                                    19             73      554   \n\n    Aggravated assault  Property crime total  Burglary     ...       \\\n5                  774                  9914      2999     ...        \n0                  370                 11037      3741     ...        \n15                1048                  7565      1846     ...        \n26                 840                  5275      1705     ...        \n11                 742                  9601      2821     ...        \n18                 845                  7773      1975     ...        \n1                  486                 11097      3646     ...        \n19                 781                  6609      1678     ...        \n2                  563                 12120      4721     ...        \n20                 924                  6486      1867     ...        \n\n    Violent Crime rate  Murder and nonnegligent manslaughter rate  \\\n5                854.4                                        8.5   \n0                615.2                                        7.3   \n15              1062.4                                       12.2   \n26               892.9                                        7.5   \n11               873.6                                        9.4   \n18               951.1                                       11.7   \n1                673.3                                        5.5   \n19               909.4                                       11.1   \n2                718.2                                        8.7   \n20              1095.6                                       13.3   \n\n    Forcible rape rate  Robbery rate  Aggravated assault rate  \\\n5                 72.0         301.5                    472.4   \n0                 48.6         334.6                    224.7   \n15                31.9         306.8                    711.4   \n26                43.2         266.1                    576.0   \n11                38.7         361.8                    463.7   \n18                30.3         328.0                    581.1   \n1                 37.1         335.4                    295.3   \n19                47.1         309.8                    541.3   \n2                 54.0         306.4                    349.2   \n20                50.9         386.6                    644.8   \n\n    Property crime rate  Burglary rate  Larceny-theft rate  \\\n5                6050.3         1830.2              3860.6   \n0                6702.9         2272.0              4172.3   \n15               5135.6         1253.2              3354.2   \n26               3617.4         1169.2              2236.3   \n11               5999.4         1762.8              3711.7   \n18               5345.5         1358.2              3171.7   \n1                6743.4         2215.6              4225.8   \n19               4580.7         1163.0              2628.3   \n2                7517.3         2928.2              4240.0   \n20               4526.0         1302.8              2539.3   \n\n    Motor vehicle theft rate  Unnamed: 21  \n5                      359.5          NaN  \n0                      258.7          NaN  \n15                     528.2          NaN  \n26                     211.9          NaN  \n11                     524.9          NaN  \n18                     815.6          NaN  \n1                      302.0          NaN  \n19                     789.4          NaN  \n2                      349.2          NaN  \n20                     683.9          NaN  \n\n[10 rows x 22 columns]"
          },
          "metadata": {}
        }
      ]
    },
    {
      "cell_type": "code",
      "source": "# Make a line plot of population over the years, using cufflinks crime.iplot()\n# set the titles on x \"Year, Y \"Population\" and cart title \" Syracuse Population\" \n# TODO: replace the ???? with appropriate values to render the chart\ncrime.iplot(kind = 'scatter', x = 'Year', y = 'Population', title='Syracuse Crime Data',xTitle='Year',yTitle='Population')",
      "metadata": {
        "trusted": true
      },
      "execution_count": 12,
      "outputs": [
        {
          "text": "/home/nbuser/anaconda3_501/lib/python3.6/site-packages/IPython/core/display.py:689: UserWarning:\n\nConsider using IPython.display.IFrame instead\n\n",
          "name": "stderr",
          "output_type": "stream"
        },
        {
          "execution_count": 12,
          "output_type": "execute_result",
          "data": {
            "text/html": "<iframe id=\"igraph\" scrolling=\"no\" style=\"border:none;\" seamless=\"seamless\" src=\"https://plot.ly/~mollea1213/24.embed\" height=\"525px\" width=\"100%\"></iframe>",
            "text/plain": "<chart_studio.tools.PlotlyDisplay object>"
          },
          "metadata": {}
        }
      ]
    },
    {
      "cell_type": "code",
      "source": "# Step 1:\n# Now plot the same thing using plot.ly without cufflinks, again filling in the templates. Using plot.ly takes more effort but\n# you have more control / flexibility over how the plots are rendered.\nplot_data = [\n    go.Scatter(x=crime['Year'], y=crime['Population'], mode=\"lines+markers\", name=\"Syracuse Crime Data\", marker=dict(color='red')),\n]\n\npy.iplot({ 'data': plot_data,\n            'layout': {\n               'title': 'Syracuse Crime Data',\n               'xaxis': {\n                 'title': 'Year'},\n               'yaxis': {\n                'title': 'Population'}\n        }})",
      "metadata": {
        "trusted": true
      },
      "execution_count": 13,
      "outputs": [
        {
          "execution_count": 13,
          "output_type": "execute_result",
          "data": {
            "text/html": "<iframe id=\"igraph\" scrolling=\"no\" style=\"border:none;\" seamless=\"seamless\" src=\"https://plot.ly/~mollea1213/30.embed\" height=\"525px\" width=\"100%\"></iframe>",
            "text/plain": "<chart_studio.tools.PlotlyDisplay object>"
          },
          "metadata": {}
        }
      ]
    },
    {
      "cell_type": "code",
      "source": "# Step 2:\n# Now create a line plot of \"Robbery rate\" versus \"Motor vehicle theft rate\" over time.\n# NOTE: you will need two series in your plot_data \n\nplot_data = [\n    go.Line(x=crime['Year'], y=crime['Population'], mode=\"lines+markers\", name=\"Robbery vs Motor Vehicle Rate\", marker=dict(color='red')),\n]\n\npy.iplot({ 'data': plot_data,\n            'layout': {\n               'title': 'Robbery vs Moto vehicle Theft Rate',\n               'xaxis': {\n                 'title': 'Robbery Rate'},\n               'yaxis': {\n                'title': 'Motor Vehicle Theft Rate'}\n        }})",
      "metadata": {
        "trusted": true
      },
      "execution_count": 14,
      "outputs": [
        {
          "text": "/home/nbuser/anaconda3_501/lib/python3.6/site-packages/plotly/graph_objs/_deprecations.py:372: DeprecationWarning:\n\nplotly.graph_objs.Line is deprecated.\nPlease replace it with one of the following more specific types\n  - plotly.graph_objs.scatter.Line\n  - plotly.graph_objs.layout.shape.Line\n  - etc.\n\n\n",
          "name": "stderr",
          "output_type": "stream"
        },
        {
          "execution_count": 14,
          "output_type": "execute_result",
          "data": {
            "text/html": "<iframe id=\"igraph\" scrolling=\"no\" style=\"border:none;\" seamless=\"seamless\" src=\"https://plot.ly/~mollea1213/32.embed\" height=\"525px\" width=\"100%\"></iframe>",
            "text/plain": "<chart_studio.tools.PlotlyDisplay object>"
          },
          "metadata": {}
        }
      ]
    },
    {
      "cell_type": "markdown",
      "source": "# Interactive Plots\n\nFinally write a program to ask for a crime metric like \"Robbery\" / \"Burglary\" / \"Manslaughter\" etc as input, \nthen renders a plot of that metric over time as output !\n\nNote: check to make sure the entered crime metric is in the list of Pandas columns before you attempt to plot. \nIt might be a good idea to print the column names before you plot.\nif it is not you should print \"That is not a crime metric\"\n\n",
      "metadata": {}
    },
    {
      "cell_type": "markdown",
      "source": "## Step 3: Problem Analysis\n\nInputs:\n\n-type of crime\n\nOutputs:\n\n-graph showing the crime metric over time\n\nAlgorithm (Steps in Program):\n\n-input time of crime\n-if else for wether or not the input is a correct kind of crime\n-when else, output not a crime metric\n-when if, take the crime type and make a graph of it \n",
      "metadata": {}
    },
    {
      "cell_type": "code",
      "source": "## Step 4: Write code here\n\ncrimetype = input(\"Enter type of crime (Robbery/Burglary): \")\n\nif crimetype in crime:\n    plot_data = [\n        go.Line(x=crime['Year'], y=crime['Population'], mode=\"lines+markers\", name='Crime Metric', marker=dict(color='red')),\n]\n    py.iplot({ 'data': plot_data,\n            'layout': {\n               'title': 'Crime Metric',\n               'xaxis': {\n                 'title': 'Time'},\n               'yaxis': {\n                'title': 'Amount of crime'}\n        }})\nelse:\n    print(\"Not a valid type of crime\")\n\n",
      "metadata": {
        "trusted": true
      },
      "execution_count": 22,
      "outputs": []
    },
    {
      "cell_type": "markdown",
      "source": "## Reminder of Evaluation Criteria\n\n1. What the problem attempted (analysis, code, and answered questions) ?\n2. What the problem analysis thought out? (does the program match the plan?)\n3. Does the code execute without syntax error?\n4. Does the code solve the intended problem?\n5. Is the code well written? (easy to understand, modular, and self-documenting, handles errors)\n",
      "metadata": {}
    },
    {
      "cell_type": "code",
      "source": "",
      "metadata": {
        "collapsed": true
      },
      "execution_count": null,
      "outputs": []
    }
  ]
}