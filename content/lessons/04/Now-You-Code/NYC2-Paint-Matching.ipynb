{
  "metadata": {
    "anaconda-cloud": {},
    "kernelspec": {
      "name": "python3",
      "display_name": "Python 3",
      "language": "python"
    },
    "language_info": {
      "mimetype": "text/x-python",
      "nbconvert_exporter": "python",
      "name": "python",
      "file_extension": ".py",
      "version": "3.5.4",
      "pygments_lexer": "ipython3",
      "codemirror_mode": {
        "version": 3,
        "name": "ipython"
      }
    }
  },
  "nbformat_minor": 2,
  "nbformat": 4,
  "cells": [
    {
      "cell_type": "markdown",
      "source": "# Now You Code 2: Paint Pricing\n\nHouse Depot, a big-box hardware retailer, has contracted you to create an app to calculate paint prices. \n\nThe price of paint is determined by the following factors:\n- Everyday quality paint is `$19.99` per gallon.\n- Select quality paint is `$24.99` per gallon.\n- Premium quality paint is `$32.99` per gallon.\n\nIn addition if the customer wants computerized color-matching that incurs an additional fee of `$4.99` per gallon. \n\nWrite a program to ask the user to select a paint quality: 'everyday', 'select' or 'premium' and then whether they need color matching and then outputs the price per gallon of the paint.\n\nExample Run 1:\n\n```\nWhich paint quality do you require ['everyday', 'select', 'premium'] ?select\nDo you require color matching [y/n] ?y\nTotal price of select paint with color matching is $29.98\n```\n\nExample Run 2:\n\n```\nWhich paint quality do you require ['everyday', 'select', 'premium'] ?premium\nDo you require color matching [y/n] ?n\nTotal price of premium paint without color matching is $32.99\n```",
      "metadata": {}
    },
    {
      "cell_type": "markdown",
      "source": "## Step 1: Problem Analysis\n\nInputs:\n\n-paint quality , color matching\n\nOutputs:\n\n-cost of paint quality with and without the color matching\n\nAlgorithm (Steps in Program):\n\n-ask for paint quality\n-ask for color matching\n-enter costs\n-if elses for each quality\n-add the cost of color matching at end if applicable.\n\n",
      "metadata": {}
    },
    {
      "cell_type": "code",
      "source": "paint = input(\"Which paint quality do you require ['everyday, 'select', 'premium']\")\nmatching = input(\"Do you require color matching [y/n]\")\nif paint == everyday:\n    cost = 19.99\nelif paint == selective:\n    cost = 24.99\nelif paint == premium:\n    cost = 32.99\nelse:\n    print(\"that is not a paint quality.\")\nif matching == y:\n    print(\"Total price of\", paint, \"paint with color matching is\", cost + 4.99)\nelif:\n    print(\"Total price of\", paint, \"paint without color matching is\", cost)\nelse:\n    print(\"You must enter y or n\")",
      "metadata": {
        "trusted": true
      },
      "execution_count": null,
      "outputs": []
    },
    {
      "cell_type": "markdown",
      "source": "## Step 3: Questions\n\n1. When you enter something other than `'everyday', 'select',` or  `'premium'` what happens? Modify the program to print `that is not a paint quality` and then exit in those cases. You get a typeerror.\n2. What happens when you enter something other than `'y'` or `'n'` for color matching? Re-write the program to print `you must enter y or n` whenever you enter something other than those two values. You get another typeerror.\n3. Why can't we use Python's `try...except` in this example? There are two different inputs that must be correctly entered. \n4. How many times (at minimum) must we execute this program and check the results before we can be reasonably assured it is correct? Atleast 4 times. \n",
      "metadata": {}
    },
    {
      "cell_type": "markdown",
      "source": "## Reminder of Evaluation Criteria\n\n1. What the problem attempted (analysis, code, and answered questions) ?\n2. What the problem analysis thought out? (does the program match the plan?)\n3. Does the code execute without syntax error?\n4. Does the code solve the intended problem?\n5. Is the code well written? (easy to understand, modular, and self-documenting, handles errors)\n",
      "metadata": {}
    },
    {
      "cell_type": "code",
      "source": "",
      "metadata": {
        "collapsed": true
      },
      "execution_count": null,
      "outputs": []
    }
  ]
}