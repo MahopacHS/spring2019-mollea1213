{
  "metadata": {
    "anaconda-cloud": {},
    "kernelspec": {
      "display_name": "Python 3",
      "language": "python",
      "name": "python3"
    },
    "language_info": {
      "mimetype": "text/x-python",
      "nbconvert_exporter": "python",
      "name": "python",
      "pygments_lexer": "ipython3",
      "version": "3.5.4",
      "file_extension": ".py",
      "codemirror_mode": {
        "version": 3,
        "name": "ipython"
      }
    }
  },
  "nbformat_minor": 2,
  "nbformat": 4,
  "cells": [
    {
      "cell_type": "markdown",
      "source": "# Watch Me Code 2: Geocoding \n\n- Get Lat/Long for address\n- Get city / state for zipcode\n\nWe will use the OpenStreetMaps API:\n\nhttps://nominatim.openstreetmap.org/search\n",
      "metadata": {}
    },
    {
      "cell_type": "code",
      "source": "import requests\n\ntext = 'Syracuse Hancock Airport'\ndata =  { 'q' : text, 'format' : 'json'}\nurl='https://nominatim.openstreetmap.org/search' \nresponse = requests.get(url, params=data)\ngeodata = response.json()\ngeodata",
      "metadata": {
        "trusted": true
      },
      "execution_count": 3,
      "outputs": [
        {
          "execution_count": 3,
          "output_type": "execute_result",
          "data": {
            "text/plain": "[{'boundingbox': ['43.103859', '43.1244225', '-76.1413199', '-76.0880625'],\n  'class': 'aeroway',\n  'display_name': 'Syracuse Hancock International Airport, Colonel Eileen Collins Boulevard, Hinsdale, Town of Salina, Onondaga County, New York, 13211, USA',\n  'icon': 'https://nominatim.openstreetmap.org/images/mapicons/transport_airport2.p.20.png',\n  'importance': 0.7489572928996011,\n  'lat': '43.1141752',\n  'licence': 'Data © OpenStreetMap contributors, ODbL 1.0. https://osm.org/copyright',\n  'lon': '-76.1191445114361',\n  'osm_id': 157309115,\n  'osm_type': 'way',\n  'place_id': 111878987,\n  'type': 'aerodrome'},\n {'boundingbox': ['43.1129398', '43.1147662', '-76.1120426', '-76.110914'],\n  'class': 'aeroway',\n  'display_name': 'Syracuse Hancock International Airport - Main Concourse, Hancock International Airport, Town of DeWitt, Onondaga County, New York, 13211, USA',\n  'importance': 0.30100000000000005,\n  'lat': '43.1138409',\n  'licence': 'Data © OpenStreetMap contributors, ODbL 1.0. https://osm.org/copyright',\n  'lon': '-76.1114685894623',\n  'osm_id': 159452639,\n  'osm_type': 'way',\n  'place_id': 113624545,\n  'type': 'terminal'}]"
          },
          "metadata": {}
        }
      ]
    },
    {
      "cell_type": "code",
      "source": "def geocode(text):\n    data =  { 'q' : text, 'format' : 'json'}\n    url='https://nominatim.openstreetmap.org/search' \n    response = requests.get(url, params=data)\n    geodata = response.json()\n    return geodata\n\ngeocode('13244 USA')",
      "metadata": {
        "trusted": true
      },
      "execution_count": 4,
      "outputs": [
        {
          "execution_count": 4,
          "output_type": "execute_result",
          "data": {
            "text/plain": "[{'boundingbox': ['43.0348516', '43.0354208', '-76.1344986', '-76.1341443'],\n  'class': 'place',\n  'display_name': 'Syracuse, Onondaga County, New York, 13244, USA',\n  'importance': 0.44500000000000006,\n  'lat': '43.0350996',\n  'licence': 'Data © OpenStreetMap contributors, ODbL 1.0. https://osm.org/copyright',\n  'lon': '-76.1341474',\n  'osm_id': 20149345,\n  'osm_type': 'way',\n  'place_id': 78764052,\n  'type': 'postcode'},\n {'boundingbox': ['43.031266901754',\n   '43.031366901754',\n   '-76.132685405392',\n   '-76.132585405392'],\n  'class': 'place',\n  'display_name': 'Syracuse, New York, 13244, USA',\n  'importance': 0.44500000000000006,\n  'lat': '43.0313169017541',\n  'licence': 'Data © OpenStreetMap contributors, ODbL 1.0. https://osm.org/copyright',\n  'lon': '-76.1326354053919',\n  'place_id': 200373302,\n  'type': 'postcode'}]"
          },
          "metadata": {}
        }
      ]
    },
    {
      "cell_type": "code",
      "source": "usa_zips = ['10541', '60601', '10001', '90210', '77030']\nfor zipcode in usa_zips:\n    data = geocode(zipcode + ' USA')\n    print(zipcode, data[0]['display_name'])",
      "metadata": {
        "trusted": true
      },
      "execution_count": 5,
      "outputs": [
        {
          "text": "10541 Town of Somers, New York, 10541, USA\n60601 Chicago, Illinois, 60601, USA\n10001 Chelsea, NYC, New York, 10001, USA\n90210 LA, California, 90210, USA\n77030 Houston, Harris County, Texas, 77030, USA\n",
          "name": "stdout",
          "output_type": "stream"
        }
      ]
    },
    {
      "cell_type": "code",
      "source": "",
      "metadata": {
        "collapsed": true
      },
      "execution_count": null,
      "outputs": []
    }
  ]
}