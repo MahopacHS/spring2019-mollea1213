{
  "metadata": {
    "anaconda-cloud": {},
    "kernelspec": {
      "name": "python3",
      "display_name": "Python 3",
      "language": "python"
    },
    "language_info": {
      "mimetype": "text/x-python",
      "nbconvert_exporter": "python",
      "name": "python",
      "pygments_lexer": "ipython3",
      "version": "3.5.4",
      "file_extension": ".py",
      "codemirror_mode": {
        "version": 3,
        "name": "ipython"
      }
    }
  },
  "nbformat_minor": 2,
  "nbformat": 4,
  "cells": [
    {
      "cell_type": "markdown",
      "source": "# Now You Code 2: Arrests by State\n\nYou are now finished with college and doing some research on where to apply for a job. Workng in a safe state would be a great start.\n\nScrape the FBI arrest by state table provided on ucr.fbi.gov. The table is available at the link below.\n\nhttps://ucr.fbi.gov/crime-in-the-u.s/2015/crime-in-the-u.s.-2015/tables/table-69\n\nSuggested Approach:\n- Download the html using the requests library.\n- Extract the data using BeautifulSoup from the table using. Make sure you use functions that extract each part of the data.\n- Build a pandas dataframe containing the data. To make things a little easier, use Total all ages for each state.\n- Create a bar chart displaying the state and total arrests.\n\nSample Output:\n\n![NYC2-screenshot.png](NYC2-screenshot.png)\n",
      "metadata": {}
    },
    {
      "cell_type": "code",
      "source": "import requests\nfrom bs4 import BeautifulSoup\nimport matplotlib.pyplot as plt\nimport pandas as pd\n%matplotlib notebook\nplt.rcParams[\"figure.figsize\"] = [12, 6]",
      "metadata": {
        "collapsed": true
      },
      "execution_count": null,
      "outputs": []
    },
    {
      "cell_type": "code",
      "source": "",
      "metadata": {
        "collapsed": true
      },
      "execution_count": null,
      "outputs": []
    }
  ]
}