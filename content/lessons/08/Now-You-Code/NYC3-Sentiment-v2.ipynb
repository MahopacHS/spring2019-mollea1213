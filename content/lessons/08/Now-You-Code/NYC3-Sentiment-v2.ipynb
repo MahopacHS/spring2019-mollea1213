{
  "metadata": {
    "anaconda-cloud": {},
    "kernelspec": {
      "name": "python3",
      "display_name": "Python 3",
      "language": "python"
    },
    "language_info": {
      "mimetype": "text/x-python",
      "nbconvert_exporter": "python",
      "name": "python",
      "file_extension": ".py",
      "version": "3.5.4",
      "pygments_lexer": "ipython3",
      "codemirror_mode": {
        "version": 3,
        "name": "ipython"
      }
    }
  },
  "nbformat_minor": 2,
  "nbformat": 4,
  "cells": [
    {
      "cell_type": "markdown",
      "source": "# Now You Code 3: Sentiment v2.0\n\nLet's write a better version of the basic sentiment analyzer in Python. Instead of using a string of words, this example will read a list of words positive and negative words from a file.\n\nIn fact, we've included two files for you so you don't have to some up with the positive and negative words! Just load the files and go! Of course if you want more positive and negative words you can always edit the files.\n\n- Positive words are in `NYC3-pos.txt`\n- Negative words are in `NYC3-neg.txt`\n\nYou will have to write a function called `LoadWords(filename)` to read the words from the file and load them into a string.\n\n## Step 1: Problem Analysis for function\n\n-Input (function arguments): `filename` to read.\n\n-Output (function returns): a `text` string of words as loaded from the file.\n\nAlgorithm:\n\n```\nopen the filename for reading\n    read the entire file all at once, into text\n    return the text\n```\n",
      "metadata": {}
    },
    {
      "cell_type": "code",
      "source": "## Step 2: Write the LoadWords(filename) function\ndef LoadWords(filename):\n     with open(filename, 'r') as f:\n        for line in f:\n            return line\n\n    ",
      "metadata": {
        "trusted": true
      },
      "execution_count": 9,
      "outputs": []
    },
    {
      "cell_type": "code",
      "source": "## Quick test of your LoadWords() function\npos = LoadWords(\"NYC3-pos.txt\")\nneg = LoadWords(\"NYC3-neg.txt\")\nprint(\"POSITIVE WORD LIST:\",pos)\nprint(\"NEGATIVE WORD LIST\", neg)",
      "metadata": {
        "trusted": true
      },
      "execution_count": 8,
      "outputs": [
        {
          "text": "POSITIVE WORD LIST: good love like great wonderful fast helpful smart friendly happy joy\nNEGATIVE WORD LIST bad hate dislike horrible stinks awful slow clueless useless dumb sad\n",
          "name": "stdout",
          "output_type": "stream"
        }
      ]
    },
    {
      "cell_type": "markdown",
      "source": "## Step 3: The Final Program\n  \nNow write a program which allows you to enter text and then analyzes the sentiment of the text by printing a score. The program should keep analyzing text input until you enter \"quit\".\n\n```\nSentiment Analyzer 1.0\nType 'quit' to exit.\nEnter Text: i love a good book from amazon\n2 positive.\nEnter Text: i hate amazon their service makes me angry\n-2 negative.\nEnter Text: i love to hate amazon\n0 neutral.\nEnter Text: quit\n```\n### 3.a Problem Analysis\n\nInput:\n\n- enter text\n- enter quit\n\nOutput:\n\n- amount of positive\n- amount of negative\n- quit has been entered goodbye\n\nAlgorithm:\n\n- Enter a line of text\n- load files\n- if words within files\n- post amount of negative or positive words, or post if none\n- quit when told ",
      "metadata": {}
    },
    {
      "cell_type": "code",
      "source": "print(\"The Sentiment Analyzer \")\n\npos_count = 0\nneg_count = 0\n\ntext = input(\"Enter your tex or type 'quit' to exit: \")\nif text == 'quit':\n    exit()\nwith open('NYC3-pos.txt', 'r') as f:\n        for line in f:\n            if text in line:\n                pos_count = pos_count + 1\n    \nwith open('NYC3-neg.txt', 'r') as f:\n        for line in f:\n            if text in line:\n                neg_count = neg_count + 1\n                \nprint(\"The amount of positives are:\", pos_count)\nprint(\"The amount of negatives are:\", neg_count)",
      "metadata": {
        "trusted": true
      },
      "execution_count": null,
      "outputs": [
        {
          "text": "The Sentiment Analyzer \nThe amount of positives are: 0\nThe amount of negatives are: 0\n",
          "name": "stdout",
          "output_type": "stream"
        }
      ]
    },
    {
      "cell_type": "markdown",
      "source": "## Step 4: Questions\n\n1. This is a better solution than sentiment 1.0. Why? The first one was only a string of words.\n2. Execute the program and enter the following input: `i love! a GOOD book` What is the score and why? how can this issue be fixed? only 1 because the good its capitalized, can be fixed by making everything lowercased before checking words. \n3. Re-write your final solution to address the issues discovered in step 2.",
      "metadata": {}
    },
    {
      "cell_type": "markdown",
      "source": "## Reminder of Evaluation Criteria\n\n1. What the problem attempted (analysis, code, and answered questions) ?\n2. What the problem analysis thought out? (does the program match the plan?)\n3. Does the code execute without syntax error?\n4. Does the code solve the intended problem?\n5. Is the code well written? (easy to understand, modular, and self-documenting, handles errors)\n",
      "metadata": {}
    },
    {
      "cell_type": "code",
      "source": "",
      "metadata": {},
      "execution_count": null,
      "outputs": []
    }
  ]
}