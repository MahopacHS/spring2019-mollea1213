{
  "metadata": {
    "anaconda-cloud": {},
    "kernelspec": {
      "display_name": "Python 3",
      "language": "python",
      "name": "python3"
    },
    "language_info": {
      "mimetype": "text/x-python",
      "nbconvert_exporter": "python",
      "name": "python",
      "pygments_lexer": "ipython3",
      "version": "3.5.4",
      "file_extension": ".py",
      "codemirror_mode": {
        "version": 3,
        "name": "ipython"
      }
    }
  },
  "nbformat_minor": 2,
  "nbformat": 4,
  "cells": [
    {
      "cell_type": "markdown",
      "source": "# Watch Me Code 1: Superhero Movies\n\nhttps://raw.githubusercontent.com/mafudge/datasets/master/superhero/superhero-movie-dataset-1978-2012.csv\n\nCOLUMNS year, title, comic, imdb, rt, composite, opening_weeked_bo, avg_ticket_price, opening_weekend_attend, us_pop_that_year\n\n- read_csv file from web\n- no column names\n- head(), sample()\n- value_counts\n- dealing with nulls\n- Feature engineering\n",
      "metadata": {}
    },
    {
      "cell_type": "code",
      "source": "import pandas as pd\n\nsh = pd.read_csv('https://raw.githubusercontent.com/mafudge/datasets/master/superhero/superhero-movie-dataset-1978-2012.csv')\nsh.head()",
      "metadata": {
        "trusted": true
      },
      "execution_count": 6,
      "outputs": [
        {
          "execution_count": 6,
          "output_type": "execute_result",
          "data": {
            "text/html": "<div>\n<table border=\"1\" class=\"dataframe\">\n  <thead>\n    <tr style=\"text-align: right;\">\n      <th></th>\n      <th>1978</th>\n      <th>Superman</th>\n      <th>DC</th>\n      <th>7.3</th>\n      <th>95</th>\n      <th>84</th>\n      <th>7465343</th>\n      <th>2.34</th>\n      <th>3190317.521</th>\n      <th>222584545</th>\n    </tr>\n  </thead>\n  <tbody>\n    <tr>\n      <th>0</th>\n      <td>1980</td>\n      <td>Superman II</td>\n      <td>DC</td>\n      <td>6.7</td>\n      <td>88</td>\n      <td>77.5</td>\n      <td>14100523.0</td>\n      <td>2.69</td>\n      <td>5241830.112</td>\n      <td>227224681</td>\n    </tr>\n    <tr>\n      <th>1</th>\n      <td>1982</td>\n      <td>Swamp Thing</td>\n      <td>DC</td>\n      <td>5.3</td>\n      <td>60</td>\n      <td>56.5</td>\n      <td>NaN</td>\n      <td>2.94</td>\n      <td>NaN</td>\n      <td>231664458</td>\n    </tr>\n    <tr>\n      <th>2</th>\n      <td>1983</td>\n      <td>Superman III</td>\n      <td>DC</td>\n      <td>4.9</td>\n      <td>24</td>\n      <td>36.5</td>\n      <td>13352357.0</td>\n      <td>3.15</td>\n      <td>4238843.492</td>\n      <td>233791994</td>\n    </tr>\n    <tr>\n      <th>3</th>\n      <td>1984</td>\n      <td>Supergirl</td>\n      <td>DC</td>\n      <td>4.2</td>\n      <td>8</td>\n      <td>25.0</td>\n      <td>5738249.0</td>\n      <td>3.36</td>\n      <td>1707812.202</td>\n      <td>235824902</td>\n    </tr>\n    <tr>\n      <th>4</th>\n      <td>1986</td>\n      <td>Howard the Duck</td>\n      <td>Marvel</td>\n      <td>4.3</td>\n      <td>16</td>\n      <td>29.5</td>\n      <td>5070136.0</td>\n      <td>3.71</td>\n      <td>1366613.477</td>\n      <td>240132887</td>\n    </tr>\n  </tbody>\n</table>\n</div>",
            "text/plain": "   1978         Superman      DC  7.3  95    84     7465343  2.34  \\\n0  1980      Superman II      DC  6.7  88  77.5  14100523.0  2.69   \n1  1982      Swamp Thing      DC  5.3  60  56.5         NaN  2.94   \n2  1983     Superman III      DC  4.9  24  36.5  13352357.0  3.15   \n3  1984        Supergirl      DC  4.2   8  25.0   5738249.0  3.36   \n4  1986  Howard the Duck  Marvel  4.3  16  29.5   5070136.0  3.71   \n\n   3190317.521  222584545  \n0  5241830.112  227224681  \n1          NaN  231664458  \n2  4238843.492  233791994  \n3  1707812.202  235824902  \n4  1366613.477  240132887  "
          },
          "metadata": {}
        }
      ]
    },
    {
      "cell_type": "code",
      "source": "# no columns? no sweat!\nsh.columns = [ 'year', 'title', 'comic', 'imdb', 'rt', 'composite', 'opening_weeked_bo', 'avg_ticket_price', 'opening_weekend_attend', 'us_pop_that_year']\nsh.head()",
      "metadata": {
        "trusted": true
      },
      "execution_count": 7,
      "outputs": [
        {
          "execution_count": 7,
          "output_type": "execute_result",
          "data": {
            "text/html": "<div>\n<table border=\"1\" class=\"dataframe\">\n  <thead>\n    <tr style=\"text-align: right;\">\n      <th></th>\n      <th>year</th>\n      <th>title</th>\n      <th>comic</th>\n      <th>imdb</th>\n      <th>rt</th>\n      <th>composite</th>\n      <th>opening_weeked_bo</th>\n      <th>avg_ticket_price</th>\n      <th>opening_weekend_attend</th>\n      <th>us_pop_that_year</th>\n    </tr>\n  </thead>\n  <tbody>\n    <tr>\n      <th>0</th>\n      <td>1980</td>\n      <td>Superman II</td>\n      <td>DC</td>\n      <td>6.7</td>\n      <td>88</td>\n      <td>77.5</td>\n      <td>14100523.0</td>\n      <td>2.69</td>\n      <td>5241830.112</td>\n      <td>227224681</td>\n    </tr>\n    <tr>\n      <th>1</th>\n      <td>1982</td>\n      <td>Swamp Thing</td>\n      <td>DC</td>\n      <td>5.3</td>\n      <td>60</td>\n      <td>56.5</td>\n      <td>NaN</td>\n      <td>2.94</td>\n      <td>NaN</td>\n      <td>231664458</td>\n    </tr>\n    <tr>\n      <th>2</th>\n      <td>1983</td>\n      <td>Superman III</td>\n      <td>DC</td>\n      <td>4.9</td>\n      <td>24</td>\n      <td>36.5</td>\n      <td>13352357.0</td>\n      <td>3.15</td>\n      <td>4238843.492</td>\n      <td>233791994</td>\n    </tr>\n    <tr>\n      <th>3</th>\n      <td>1984</td>\n      <td>Supergirl</td>\n      <td>DC</td>\n      <td>4.2</td>\n      <td>8</td>\n      <td>25.0</td>\n      <td>5738249.0</td>\n      <td>3.36</td>\n      <td>1707812.202</td>\n      <td>235824902</td>\n    </tr>\n    <tr>\n      <th>4</th>\n      <td>1986</td>\n      <td>Howard the Duck</td>\n      <td>Marvel</td>\n      <td>4.3</td>\n      <td>16</td>\n      <td>29.5</td>\n      <td>5070136.0</td>\n      <td>3.71</td>\n      <td>1366613.477</td>\n      <td>240132887</td>\n    </tr>\n  </tbody>\n</table>\n</div>",
            "text/plain": "   year            title   comic  imdb  rt  composite  opening_weeked_bo  \\\n0  1980      Superman II      DC   6.7  88       77.5         14100523.0   \n1  1982      Swamp Thing      DC   5.3  60       56.5                NaN   \n2  1983     Superman III      DC   4.9  24       36.5         13352357.0   \n3  1984        Supergirl      DC   4.2   8       25.0          5738249.0   \n4  1986  Howard the Duck  Marvel   4.3  16       29.5          5070136.0   \n\n   avg_ticket_price  opening_weekend_attend  us_pop_that_year  \n0              2.69             5241830.112         227224681  \n1              2.94                     NaN         231664458  \n2              3.15             4238843.492         233791994  \n3              3.36             1707812.202         235824902  \n4              3.71             1366613.477         240132887  "
          },
          "metadata": {}
        }
      ]
    },
    {
      "cell_type": "code",
      "source": "## Who has more movies? DC or Marvel?\nsh['comic'].value_counts()",
      "metadata": {
        "trusted": true
      },
      "execution_count": 8,
      "outputs": [
        {
          "execution_count": 8,
          "output_type": "execute_result",
          "data": {
            "text/plain": "Marvel    29\nDC        19\nName: comic, dtype: int64"
          },
          "metadata": {}
        }
      ]
    },
    {
      "cell_type": "code",
      "source": "## let's see that as a percentage of the total\nsh['comic'].value_counts(normalize=True)",
      "metadata": {
        "trusted": true
      },
      "execution_count": 9,
      "outputs": [
        {
          "execution_count": 9,
          "output_type": "execute_result",
          "data": {
            "text/plain": "Marvel    0.604167\nDC        0.395833\nName: comic, dtype: float64"
          },
          "metadata": {}
        }
      ]
    },
    {
      "cell_type": "code",
      "source": "## what are the ratios in the last 10 years of data ?\nsh[ sh['year'] >2002]['comic'].value_counts(normalize=True)",
      "metadata": {
        "trusted": true
      },
      "execution_count": 10,
      "outputs": [
        {
          "execution_count": 10,
          "output_type": "execute_result",
          "data": {
            "text/plain": "Marvel    0.741935\nDC        0.258065\nName: comic, dtype: float64"
          },
          "metadata": {}
        }
      ]
    },
    {
      "cell_type": "code",
      "source": "# what about the first 10 years of data? 1978 - 1987?\nsh[ sh['year'] < 1988]['comic'].value_counts(normalize=True)",
      "metadata": {
        "trusted": true
      },
      "execution_count": 11,
      "outputs": [
        {
          "execution_count": 11,
          "output_type": "execute_result",
          "data": {
            "text/plain": "DC        0.833333\nMarvel    0.166667\nName: comic, dtype: float64"
          },
          "metadata": {}
        }
      ]
    },
    {
      "cell_type": "code",
      "source": "sh.head()",
      "metadata": {
        "trusted": true
      },
      "execution_count": 12,
      "outputs": [
        {
          "execution_count": 12,
          "output_type": "execute_result",
          "data": {
            "text/html": "<div>\n<table border=\"1\" class=\"dataframe\">\n  <thead>\n    <tr style=\"text-align: right;\">\n      <th></th>\n      <th>year</th>\n      <th>title</th>\n      <th>comic</th>\n      <th>imdb</th>\n      <th>rt</th>\n      <th>composite</th>\n      <th>opening_weeked_bo</th>\n      <th>avg_ticket_price</th>\n      <th>opening_weekend_attend</th>\n      <th>us_pop_that_year</th>\n    </tr>\n  </thead>\n  <tbody>\n    <tr>\n      <th>0</th>\n      <td>1980</td>\n      <td>Superman II</td>\n      <td>DC</td>\n      <td>6.7</td>\n      <td>88</td>\n      <td>77.5</td>\n      <td>14100523.0</td>\n      <td>2.69</td>\n      <td>5241830.112</td>\n      <td>227224681</td>\n    </tr>\n    <tr>\n      <th>1</th>\n      <td>1982</td>\n      <td>Swamp Thing</td>\n      <td>DC</td>\n      <td>5.3</td>\n      <td>60</td>\n      <td>56.5</td>\n      <td>NaN</td>\n      <td>2.94</td>\n      <td>NaN</td>\n      <td>231664458</td>\n    </tr>\n    <tr>\n      <th>2</th>\n      <td>1983</td>\n      <td>Superman III</td>\n      <td>DC</td>\n      <td>4.9</td>\n      <td>24</td>\n      <td>36.5</td>\n      <td>13352357.0</td>\n      <td>3.15</td>\n      <td>4238843.492</td>\n      <td>233791994</td>\n    </tr>\n    <tr>\n      <th>3</th>\n      <td>1984</td>\n      <td>Supergirl</td>\n      <td>DC</td>\n      <td>4.2</td>\n      <td>8</td>\n      <td>25.0</td>\n      <td>5738249.0</td>\n      <td>3.36</td>\n      <td>1707812.202</td>\n      <td>235824902</td>\n    </tr>\n    <tr>\n      <th>4</th>\n      <td>1986</td>\n      <td>Howard the Duck</td>\n      <td>Marvel</td>\n      <td>4.3</td>\n      <td>16</td>\n      <td>29.5</td>\n      <td>5070136.0</td>\n      <td>3.71</td>\n      <td>1366613.477</td>\n      <td>240132887</td>\n    </tr>\n  </tbody>\n</table>\n</div>",
            "text/plain": "   year            title   comic  imdb  rt  composite  opening_weeked_bo  \\\n0  1980      Superman II      DC   6.7  88       77.5         14100523.0   \n1  1982      Swamp Thing      DC   5.3  60       56.5                NaN   \n2  1983     Superman III      DC   4.9  24       36.5         13352357.0   \n3  1984        Supergirl      DC   4.2   8       25.0          5738249.0   \n4  1986  Howard the Duck  Marvel   4.3  16       29.5          5070136.0   \n\n   avg_ticket_price  opening_weekend_attend  us_pop_that_year  \n0              2.69             5241830.112         227224681  \n1              2.94                     NaN         231664458  \n2              3.15             4238843.492         233791994  \n3              3.36             1707812.202         235824902  \n4              3.71             1366613.477         240132887  "
          },
          "metadata": {}
        }
      ]
    },
    {
      "cell_type": "code",
      "source": "## skip nulls in analysis\nsh2 = sh.dropna()\nsh2.head()",
      "metadata": {
        "trusted": true
      },
      "execution_count": 13,
      "outputs": [
        {
          "execution_count": 13,
          "output_type": "execute_result",
          "data": {
            "text/html": "<div>\n<table border=\"1\" class=\"dataframe\">\n  <thead>\n    <tr style=\"text-align: right;\">\n      <th></th>\n      <th>year</th>\n      <th>title</th>\n      <th>comic</th>\n      <th>imdb</th>\n      <th>rt</th>\n      <th>composite</th>\n      <th>opening_weeked_bo</th>\n      <th>avg_ticket_price</th>\n      <th>opening_weekend_attend</th>\n      <th>us_pop_that_year</th>\n    </tr>\n  </thead>\n  <tbody>\n    <tr>\n      <th>0</th>\n      <td>1980</td>\n      <td>Superman II</td>\n      <td>DC</td>\n      <td>6.7</td>\n      <td>88</td>\n      <td>77.5</td>\n      <td>14100523.0</td>\n      <td>2.69</td>\n      <td>5241830.112</td>\n      <td>227224681</td>\n    </tr>\n    <tr>\n      <th>2</th>\n      <td>1983</td>\n      <td>Superman III</td>\n      <td>DC</td>\n      <td>4.9</td>\n      <td>24</td>\n      <td>36.5</td>\n      <td>13352357.0</td>\n      <td>3.15</td>\n      <td>4238843.492</td>\n      <td>233791994</td>\n    </tr>\n    <tr>\n      <th>3</th>\n      <td>1984</td>\n      <td>Supergirl</td>\n      <td>DC</td>\n      <td>4.2</td>\n      <td>8</td>\n      <td>25.0</td>\n      <td>5738249.0</td>\n      <td>3.36</td>\n      <td>1707812.202</td>\n      <td>235824902</td>\n    </tr>\n    <tr>\n      <th>4</th>\n      <td>1986</td>\n      <td>Howard the Duck</td>\n      <td>Marvel</td>\n      <td>4.3</td>\n      <td>16</td>\n      <td>29.5</td>\n      <td>5070136.0</td>\n      <td>3.71</td>\n      <td>1366613.477</td>\n      <td>240132887</td>\n    </tr>\n    <tr>\n      <th>5</th>\n      <td>1987</td>\n      <td>Superman IV: The Quest for Peace</td>\n      <td>DC</td>\n      <td>3.6</td>\n      <td>10</td>\n      <td>23.0</td>\n      <td>5683122.0</td>\n      <td>3.91</td>\n      <td>1453483.887</td>\n      <td>242288918</td>\n    </tr>\n  </tbody>\n</table>\n</div>",
            "text/plain": "   year                             title   comic  imdb  rt  composite  \\\n0  1980                       Superman II      DC   6.7  88       77.5   \n2  1983                      Superman III      DC   4.9  24       36.5   \n3  1984                         Supergirl      DC   4.2   8       25.0   \n4  1986                   Howard the Duck  Marvel   4.3  16       29.5   \n5  1987  Superman IV: The Quest for Peace      DC   3.6  10       23.0   \n\n   opening_weeked_bo  avg_ticket_price  opening_weekend_attend  \\\n0         14100523.0              2.69             5241830.112   \n2         13352357.0              3.15             4238843.492   \n3          5738249.0              3.36             1707812.202   \n4          5070136.0              3.71             1366613.477   \n5          5683122.0              3.91             1453483.887   \n\n   us_pop_that_year  \n0         227224681  \n2         233791994  \n3         235824902  \n4         240132887  \n5         242288918  "
          },
          "metadata": {}
        }
      ]
    },
    {
      "cell_type": "code",
      "source": "# feature engineering: percentage of population seeing the movie.\nsh2['pct_of_pop'] = sh2['opening_weekend_attend'] /sh2['us_pop_that_year']\nsh2.head()",
      "metadata": {
        "trusted": true
      },
      "execution_count": 14,
      "outputs": [
        {
          "text": "/home/nbuser/anaconda3_420/lib/python3.5/site-packages/ipykernel/__main__.py:2: SettingWithCopyWarning: \nA value is trying to be set on a copy of a slice from a DataFrame.\nTry using .loc[row_indexer,col_indexer] = value instead\n\nSee the caveats in the documentation: http://pandas.pydata.org/pandas-docs/stable/indexing.html#indexing-view-versus-copy\n  from ipykernel import kernelapp as app\n",
          "name": "stderr",
          "output_type": "stream"
        },
        {
          "execution_count": 14,
          "output_type": "execute_result",
          "data": {
            "text/html": "<div>\n<table border=\"1\" class=\"dataframe\">\n  <thead>\n    <tr style=\"text-align: right;\">\n      <th></th>\n      <th>year</th>\n      <th>title</th>\n      <th>comic</th>\n      <th>imdb</th>\n      <th>rt</th>\n      <th>composite</th>\n      <th>opening_weeked_bo</th>\n      <th>avg_ticket_price</th>\n      <th>opening_weekend_attend</th>\n      <th>us_pop_that_year</th>\n      <th>pct_of_pop</th>\n    </tr>\n  </thead>\n  <tbody>\n    <tr>\n      <th>0</th>\n      <td>1980</td>\n      <td>Superman II</td>\n      <td>DC</td>\n      <td>6.7</td>\n      <td>88</td>\n      <td>77.5</td>\n      <td>14100523.0</td>\n      <td>2.69</td>\n      <td>5241830.112</td>\n      <td>227224681</td>\n      <td>0.023069</td>\n    </tr>\n    <tr>\n      <th>2</th>\n      <td>1983</td>\n      <td>Superman III</td>\n      <td>DC</td>\n      <td>4.9</td>\n      <td>24</td>\n      <td>36.5</td>\n      <td>13352357.0</td>\n      <td>3.15</td>\n      <td>4238843.492</td>\n      <td>233791994</td>\n      <td>0.018131</td>\n    </tr>\n    <tr>\n      <th>3</th>\n      <td>1984</td>\n      <td>Supergirl</td>\n      <td>DC</td>\n      <td>4.2</td>\n      <td>8</td>\n      <td>25.0</td>\n      <td>5738249.0</td>\n      <td>3.36</td>\n      <td>1707812.202</td>\n      <td>235824902</td>\n      <td>0.007242</td>\n    </tr>\n    <tr>\n      <th>4</th>\n      <td>1986</td>\n      <td>Howard the Duck</td>\n      <td>Marvel</td>\n      <td>4.3</td>\n      <td>16</td>\n      <td>29.5</td>\n      <td>5070136.0</td>\n      <td>3.71</td>\n      <td>1366613.477</td>\n      <td>240132887</td>\n      <td>0.005691</td>\n    </tr>\n    <tr>\n      <th>5</th>\n      <td>1987</td>\n      <td>Superman IV: The Quest for Peace</td>\n      <td>DC</td>\n      <td>3.6</td>\n      <td>10</td>\n      <td>23.0</td>\n      <td>5683122.0</td>\n      <td>3.91</td>\n      <td>1453483.887</td>\n      <td>242288918</td>\n      <td>0.005999</td>\n    </tr>\n  </tbody>\n</table>\n</div>",
            "text/plain": "   year                             title   comic  imdb  rt  composite  \\\n0  1980                       Superman II      DC   6.7  88       77.5   \n2  1983                      Superman III      DC   4.9  24       36.5   \n3  1984                         Supergirl      DC   4.2   8       25.0   \n4  1986                   Howard the Duck  Marvel   4.3  16       29.5   \n5  1987  Superman IV: The Quest for Peace      DC   3.6  10       23.0   \n\n   opening_weeked_bo  avg_ticket_price  opening_weekend_attend  \\\n0         14100523.0              2.69             5241830.112   \n2         13352357.0              3.15             4238843.492   \n3          5738249.0              3.36             1707812.202   \n4          5070136.0              3.71             1366613.477   \n5          5683122.0              3.91             1453483.887   \n\n   us_pop_that_year  pct_of_pop  \n0         227224681    0.023069  \n2         233791994    0.018131  \n3         235824902    0.007242  \n4         240132887    0.005691  \n5         242288918    0.005999  "
          },
          "metadata": {}
        }
      ]
    },
    {
      "cell_type": "code",
      "source": "# Marvel comics with highest opening_weeked_bo\nsh2[ sh2['comic'] == 'Marvel' ].sort_values('opening_weeked_bo').tail()",
      "metadata": {
        "trusted": true
      },
      "execution_count": 16,
      "outputs": [
        {
          "execution_count": 16,
          "output_type": "execute_result",
          "data": {
            "text/html": "<div>\n<table border=\"1\" class=\"dataframe\">\n  <thead>\n    <tr style=\"text-align: right;\">\n      <th></th>\n      <th>year</th>\n      <th>title</th>\n      <th>comic</th>\n      <th>imdb</th>\n      <th>rt</th>\n      <th>composite</th>\n      <th>opening_weeked_bo</th>\n      <th>avg_ticket_price</th>\n      <th>opening_weekend_attend</th>\n      <th>us_pop_that_year</th>\n      <th>pct_of_pop</th>\n    </tr>\n  </thead>\n  <tbody>\n    <tr>\n      <th>28</th>\n      <td>2006</td>\n      <td>X-Men: The Last Stand</td>\n      <td>Marvel</td>\n      <td>6.8</td>\n      <td>57</td>\n      <td>62.5</td>\n      <td>102750665.0</td>\n      <td>6.55</td>\n      <td>15687124.43</td>\n      <td>298593212</td>\n      <td>0.052537</td>\n    </tr>\n    <tr>\n      <th>16</th>\n      <td>2002</td>\n      <td>Spider-Man</td>\n      <td>Marvel</td>\n      <td>7.4</td>\n      <td>89</td>\n      <td>81.5</td>\n      <td>114844116.0</td>\n      <td>5.81</td>\n      <td>19766629.26</td>\n      <td>287803914</td>\n      <td>0.068681</td>\n    </tr>\n    <tr>\n      <th>38</th>\n      <td>2010</td>\n      <td>Iron Man 2</td>\n      <td>Marvel</td>\n      <td>7.1</td>\n      <td>74</td>\n      <td>72.5</td>\n      <td>128122480.0</td>\n      <td>7.89</td>\n      <td>16238590.62</td>\n      <td>308745538</td>\n      <td>0.052595</td>\n    </tr>\n    <tr>\n      <th>31</th>\n      <td>2007</td>\n      <td>Spider-Man 3</td>\n      <td>Marvel</td>\n      <td>6.3</td>\n      <td>63</td>\n      <td>63.0</td>\n      <td>151116516.0</td>\n      <td>6.88</td>\n      <td>21964609.88</td>\n      <td>301579895</td>\n      <td>0.072832</td>\n    </tr>\n    <tr>\n      <th>44</th>\n      <td>2012</td>\n      <td>Marvel's The Avengers</td>\n      <td>Marvel</td>\n      <td>8.7</td>\n      <td>92</td>\n      <td>89.5</td>\n      <td>207438708.0</td>\n      <td>7.92</td>\n      <td>26191756.06</td>\n      <td>314055984</td>\n      <td>0.083398</td>\n    </tr>\n  </tbody>\n</table>\n</div>",
            "text/plain": "    year                  title   comic  imdb  rt  composite  \\\n28  2006  X-Men: The Last Stand  Marvel   6.8  57       62.5   \n16  2002             Spider-Man  Marvel   7.4  89       81.5   \n38  2010             Iron Man 2  Marvel   7.1  74       72.5   \n31  2007           Spider-Man 3  Marvel   6.3  63       63.0   \n44  2012  Marvel's The Avengers  Marvel   8.7  92       89.5   \n\n    opening_weeked_bo  avg_ticket_price  opening_weekend_attend  \\\n28        102750665.0              6.55             15687124.43   \n16        114844116.0              5.81             19766629.26   \n38        128122480.0              7.89             16238590.62   \n31        151116516.0              6.88             21964609.88   \n44        207438708.0              7.92             26191756.06   \n\n    us_pop_that_year  pct_of_pop  \n28         298593212    0.052537  \n16         287803914    0.068681  \n38         308745538    0.052595  \n31         301579895    0.072832  \n44         314055984    0.083398  "
          },
          "metadata": {}
        }
      ]
    },
    {
      "cell_type": "code",
      "source": "# Greatest Percentage of the population seeing the movie? Top 3\nsh2.sort_values('pct_of_pop', ascending = False).head(3)",
      "metadata": {},
      "execution_count": 19,
      "outputs": [
        {
          "execution_count": 19,
          "output_type": "execute_result",
          "data": {
            "text/html": "<div>\n<style scoped>\n    .dataframe tbody tr th:only-of-type {\n        vertical-align: middle;\n    }\n\n    .dataframe tbody tr th {\n        vertical-align: top;\n    }\n\n    .dataframe thead th {\n        text-align: right;\n    }\n</style>\n<table border=\"1\" class=\"dataframe\">\n  <thead>\n    <tr style=\"text-align: right;\">\n      <th></th>\n      <th>year</th>\n      <th>title</th>\n      <th>comic</th>\n      <th>imdb</th>\n      <th>rt</th>\n      <th>composite</th>\n      <th>opening_weeked_bo</th>\n      <th>avg_ticket_price</th>\n      <th>opening_weekend_attend</th>\n      <th>us_pop_that_year</th>\n      <th>pct_of_pop</th>\n    </tr>\n  </thead>\n  <tbody>\n    <tr>\n      <th>44</th>\n      <td>2012</td>\n      <td>Marvel's The Avengers</td>\n      <td>Marvel</td>\n      <td>8.7</td>\n      <td>92</td>\n      <td>89.5</td>\n      <td>207438708.0</td>\n      <td>7.92</td>\n      <td>26191756.06</td>\n      <td>314055984</td>\n      <td>0.083398</td>\n    </tr>\n    <tr>\n      <th>31</th>\n      <td>2007</td>\n      <td>Spider-Man 3</td>\n      <td>Marvel</td>\n      <td>6.3</td>\n      <td>63</td>\n      <td>63.0</td>\n      <td>151116516.0</td>\n      <td>6.88</td>\n      <td>21964609.88</td>\n      <td>301579895</td>\n      <td>0.072832</td>\n    </tr>\n    <tr>\n      <th>32</th>\n      <td>2008</td>\n      <td>The Dark Knight</td>\n      <td>DC</td>\n      <td>8.9</td>\n      <td>94</td>\n      <td>91.5</td>\n      <td>158411483.0</td>\n      <td>7.18</td>\n      <td>22062880.64</td>\n      <td>304374846</td>\n      <td>0.072486</td>\n    </tr>\n  </tbody>\n</table>\n</div>",
            "text/plain": "    year                  title   comic  imdb  rt  composite  \\\n44  2012  Marvel's The Avengers  Marvel   8.7  92       89.5   \n31  2007           Spider-Man 3  Marvel   6.3  63       63.0   \n32  2008        The Dark Knight      DC   8.9  94       91.5   \n\n    opening_weeked_bo  avg_ticket_price  opening_weekend_attend  \\\n44        207438708.0              7.92             26191756.06   \n31        151116516.0              6.88             21964609.88   \n32        158411483.0              7.18             22062880.64   \n\n    us_pop_that_year  pct_of_pop  \n44         314055984    0.083398  \n31         301579895    0.072832  \n32         304374846    0.072486  "
          },
          "metadata": {}
        }
      ]
    },
    {
      "cell_type": "code",
      "source": "",
      "metadata": {},
      "execution_count": null,
      "outputs": []
    },
    {
      "cell_type": "code",
      "source": "",
      "metadata": {},
      "execution_count": null,
      "outputs": []
    }
  ]
}