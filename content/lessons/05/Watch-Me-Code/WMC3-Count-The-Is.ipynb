{
  "metadata": {
    "anaconda-cloud": {},
    "kernelspec": {
      "name": "python3",
      "display_name": "Python 3",
      "language": "python"
    },
    "language_info": {
      "mimetype": "text/x-python",
      "nbconvert_exporter": "python",
      "name": "python",
      "file_extension": ".py",
      "version": "3.5.4",
      "pygments_lexer": "ipython3",
      "codemirror_mode": {
        "version": 3,
        "name": "ipython"
      }
    }
  },
  "nbformat_minor": 2,
  "nbformat": 4,
  "cells": [
    {
      "cell_type": "markdown",
      "source": "# Watch Me Code 3: Count The I's\n\nThis program will count the number of i's in the input word.\n",
      "metadata": {}
    },
    {
      "cell_type": "code",
      "source": "word = input(\"Enter a word: \")\ncount = 0\nfor letter in word:\n    if letter== 'i':\n        count = count + 1\n\nprint(\"There are %d i's in the word %s\" % (count,word))",
      "metadata": {
        "collapsed": false,
        "trusted": true
      },
      "execution_count": 1,
      "outputs": [
        {
          "text": "There are 2 i's in the word mini\n",
          "name": "stdout",
          "output_type": "stream"
        }
      ]
    },
    {
      "cell_type": "code",
      "source": "",
      "metadata": {
        "collapsed": true
      },
      "execution_count": null,
      "outputs": []
    }
  ]
}