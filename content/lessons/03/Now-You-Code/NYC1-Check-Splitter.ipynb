{
  "metadata": {
    "anaconda-cloud": {},
    "kernelspec": {
      "name": "python3",
      "display_name": "Python 3",
      "language": "python"
    },
    "language_info": {
      "mimetype": "text/x-python",
      "nbconvert_exporter": "python",
      "name": "python",
      "file_extension": ".py",
      "version": "3.5.4",
      "pygments_lexer": "ipython3",
      "codemirror_mode": {
        "version": 3,
        "name": "ipython"
      }
    }
  },
  "nbformat_minor": 2,
  "nbformat": 4,
  "cells": [
    {
      "cell_type": "markdown",
      "source": "# Now You Code 1: Check Splitter\n\nWrite a Python program which splits up a restaurant check. It first prompts you to input the total amount of your check, then the number of people dining. It should then output the amout each diner must contribute to the check.  For example:\n\n```\n*** Check Splitter ***\nHow much is the amount of the check? 100.00\nHow many people ? 6\nEach person owes: $16.67\n```\n\nNOTE: Use string formatters to display the output to two decimal places.\n",
      "metadata": {}
    },
    {
      "cell_type": "markdown",
      "source": "## Step 1: Problem Analysis\n\nInputs:\n\ntotal_amount = float(input(\"Enter the amount of the check: \"))\npeople_amount = input(\"Enter how many people there are: \")\n\nOutputs:\n\namount_owed = total_amount // people_amount\nprint(\"Each person owes: $%.2f\" % (amount_owed))\n\nAlgorithm (Steps in Program):\n\n",
      "metadata": {}
    },
    {
      "cell_type": "code",
      "source": "total_amount = float(input(\"Enter the amount of the check: \"))\npeople_amount = float(input(\"Enter how many people there are: \"))\namount_owed = (total_amount / people_amount)\nprint(\"Each person owes $%.2f\" % (amount_owed))",
      "metadata": {
        "collapsed": true,
        "trusted": true
      },
      "execution_count": 8,
      "outputs": [
        {
          "text": "Each person owes $200.00\n",
          "name": "stdout",
          "output_type": "stream"
        }
      ]
    },
    {
      "cell_type": "markdown",
      "source": "## Step 3: Questions\n\n1. What happens when you enter `TWO` instead of `2` for the number of people dining? or $60 as the amount of the check, instead of 60?\n\nYou get a ValueError in both cases\n\n2. What type of error is this? Do you think it can be handled in code?\n\nIt is a ValueError. I think that it could be handled in code if you were to get rid of the 'float' before input.\n\n3. Explain what happens when you enter `0.5` for the number of people dining? Does the program run? Does it make sense? \n\nThe program does run but it does not make sense because you can not have only half of a person. \n",
      "metadata": {}
    },
    {
      "cell_type": "markdown",
      "source": "## Reminder of Evaluation Criteria\n\n1. What the problem attempted (analysis, code, and answered questions) ?\n2. What the problem analysis thought out? (does the program match the plan?)\n3. Does the code execute without syntax error?\n4. Does the code solve the intended problem?\n5. Is the code well written? (easy to understand, modular, and self-documenting, handles errors)\n",
      "metadata": {}
    },
    {
      "cell_type": "code",
      "source": "",
      "metadata": {
        "collapsed": true
      },
      "execution_count": null,
      "outputs": []
    }
  ]
}