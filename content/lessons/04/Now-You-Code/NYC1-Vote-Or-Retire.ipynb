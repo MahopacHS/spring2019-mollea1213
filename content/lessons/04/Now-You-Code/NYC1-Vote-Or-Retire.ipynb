{
  "metadata": {
    "anaconda-cloud": {},
    "kernelspec": {
      "name": "python3",
      "display_name": "Python 3",
      "language": "python"
    },
    "language_info": {
      "mimetype": "text/x-python",
      "nbconvert_exporter": "python",
      "name": "python",
      "file_extension": ".py",
      "version": "3.5.4",
      "pygments_lexer": "ipython3",
      "codemirror_mode": {
        "version": 3,
        "name": "ipython"
      }
    }
  },
  "nbformat_minor": 2,
  "nbformat": 4,
  "cells": [
    {
      "cell_type": "markdown",
      "source": "# Now You Code 1: Vote or Retire?\n\n# Part 1\n\nWrite a program to ask for your age as input, then output whether or not you can vote and whether your not you can retire. Let's assume the voting age is 18 or higher, and the retirement age is 65 or higher.\n\n**NOTE:** This program is making two seprate decisions, and thus should have two separate if else statements.\n\nExample Run:\n\n```\nEnter your age: 45\nYou can vote.\nYou cannot retire.\n```\n",
      "metadata": {}
    },
    {
      "cell_type": "markdown",
      "source": "## Step 1: Problem Analysis\n\nInputs:\nage = input(\"Enter your age:\")\n\nOutputs:\nprint(\"You can vote.\")\nprint(\"You cannot retire.\")\n\nAlgorithm (Steps in Program):\nIf age > 18\n  \n\n\n",
      "metadata": {}
    },
    {
      "cell_type": "code",
      "source": "#Step 2: write code here\nage = int(input(\"Enter your age: \"))\nif age > 18 :\n    print(\"You can vote\")\nelse:\n    print(\"You cannot vote\")\nif age > 65 :\n    print(\"You can retire.\")\nelse:\n    print(\"You cannot retire.\")\n\n",
      "metadata": {
        "trusted": true
      },
      "execution_count": 7,
      "outputs": [
        {
          "text": "You can vote\nyou cannot retire.\n",
          "name": "stdout",
          "output_type": "stream"
        }
      ]
    },
    {
      "cell_type": "markdown",
      "source": "# Part 2\n\nNow that you got it working,  re-write your code to handle bad input using Python's `try... except` statement:\n\nExample run:\n\n```\nEnter your age: threve\nThat's not an age!\n```\n\n**Note:** Exception handling is not part of our algorithm. It's a programming concern, not a problem-solving concern!",
      "metadata": {}
    },
    {
      "cell_type": "code",
      "source": "## Step 2 (again): write code again but handle errors with try...except\ntry:\n    age = int(input(\"Enter your age: \"))\n    if age >= 18:\n        print(\"You can vote\")\n    elif age < 0:\n        print(\"That's not a valid age.\")\n    else:\n        print(\"You cannot vote.\")\n    if age >= 65:\n        print(\"You can retire.\")\n    elif age < 0:\n        print(\"That's not a valid age.\")\n    else:\n        print(\"You cannot retire\")\nexcept age <= 0:\n    print(\"That's not a valid age.\")",
      "metadata": {
        "collapsed": true,
        "trusted": true
      },
      "execution_count": 11,
      "outputs": [
        {
          "text": "You cannot vote.\nYou cannot retire\n",
          "name": "stdout",
          "output_type": "stream"
        }
      ]
    },
    {
      "cell_type": "markdown",
      "source": "## Step 3: Questions\n\n1. What specific Python Error are we handling (please provide the name of it)? It is a TypeError.\n2. What happens when you enter an age of `-50`? Does the program still run? Fix your program so that it says `That's not an age` when a value less than zero is entered. Yes the program still runs, it says you cannot vote or retire. \n3. How many times (at minimum) must we execute this program and check the results before we can be reasonably assured it is correct? 3 times, to ensure the program can handle someone who is old enough to vote and retire, someone who can vote but can't retire, and someone who inputs an invalid age.\n",
      "metadata": {}
    },
    {
      "cell_type": "markdown",
      "source": "## Reminder of Evaluation Criteria\n\n1. What the problem attempted (analysis, code, and answered questions) ?\n2. What the problem analysis thought out? (does the program match the plan?)\n3. Does the code execute without syntax error?\n4. Does the code solve the intended problem?\n5. Is the code well written? (easy to understand, modular, and self-documenting, handles errors)\n",
      "metadata": {}
    },
    {
      "cell_type": "code",
      "source": "",
      "metadata": {
        "collapsed": true
      },
      "execution_count": null,
      "outputs": []
    },
    {
      "cell_type": "code",
      "source": "",
      "metadata": {},
      "execution_count": null,
      "outputs": []
    }
  ]
}