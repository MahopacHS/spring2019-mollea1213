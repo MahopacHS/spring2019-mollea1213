{
  "metadata": {
    "anaconda-cloud": {},
    "kernelspec": {
      "display_name": "Python 3",
      "language": "python",
      "name": "python3"
    },
    "language_info": {
      "mimetype": "text/x-python",
      "nbconvert_exporter": "python",
      "name": "python",
      "file_extension": ".py",
      "version": "3.5.4",
      "pygments_lexer": "ipython3",
      "codemirror_mode": {
        "version": 3,
        "name": "ipython"
      }
    }
  },
  "nbformat_minor": 2,
  "nbformat": 4,
  "cells": [
    {
      "cell_type": "markdown",
      "source": "# End-To-End Example: Password Program\n\nPassword Program:\n\n- 5 attempts for the password\n- On correct password, print: “Access Granted”, then end the program \n- On incorrect password “Invalid Password Attempt #” and give the user another try\n- After 5 attempts, print “You are locked out”. Then end the program.\n",
      "metadata": {}
    },
    {
      "cell_type": "code",
      "source": "secret = \"rhubarb\"\nattempts = 0\nwhile True:\n    password = input(\"Enter Password: \")\n    attempts= attempts + 1\n    if password == secret:\n        print(\"Access Granted!\")\n        break \n    print(\"Invalid password attempt #\",attempts)\n    if attempts == 5:\n        print(\"You are locked out\")\n        break",
      "metadata": {
        "collapsed": false,
        "trusted": true
      },
      "execution_count": 4,
      "outputs": [
        {
          "text": "Invalid password attempt # 1\nInvalid password attempt # 2\nInvalid password attempt # 3\nInvalid password attempt # 4\nInvalid password attempt # 5\nYou are locked out\n",
          "name": "stdout",
          "output_type": "stream"
        }
      ]
    },
    {
      "cell_type": "code",
      "source": "",
      "metadata": {
        "collapsed": true
      },
      "execution_count": null,
      "outputs": []
    },
    {
      "cell_type": "code",
      "source": "",
      "metadata": {
        "collapsed": true
      },
      "execution_count": null,
      "outputs": []
    }
  ]
}